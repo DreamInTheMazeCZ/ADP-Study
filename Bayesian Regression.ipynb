{
 "cells": [
  {
   "cell_type": "code",
   "execution_count": 1,
   "id": "f819e77c",
   "metadata": {},
   "outputs": [
    {
     "data": {
      "text/html": [
       "<div>\n",
       "<style scoped>\n",
       "    .dataframe tbody tr th:only-of-type {\n",
       "        vertical-align: middle;\n",
       "    }\n",
       "\n",
       "    .dataframe tbody tr th {\n",
       "        vertical-align: top;\n",
       "    }\n",
       "\n",
       "    .dataframe thead th {\n",
       "        text-align: right;\n",
       "    }\n",
       "</style>\n",
       "<table border=\"1\" class=\"dataframe\">\n",
       "  <thead>\n",
       "    <tr style=\"text-align: right;\">\n",
       "      <th></th>\n",
       "      <th>height</th>\n",
       "      <th>weight</th>\n",
       "      <th>waistline</th>\n",
       "    </tr>\n",
       "  </thead>\n",
       "  <tbody>\n",
       "    <tr>\n",
       "      <th>0</th>\n",
       "      <td>174.396</td>\n",
       "      <td>72.102</td>\n",
       "      <td>79.3787</td>\n",
       "    </tr>\n",
       "    <tr>\n",
       "      <th>1</th>\n",
       "      <td>179.656</td>\n",
       "      <td>81.255</td>\n",
       "      <td>80.6649</td>\n",
       "    </tr>\n",
       "    <tr>\n",
       "      <th>2</th>\n",
       "      <td>175.079</td>\n",
       "      <td>76.207</td>\n",
       "      <td>80.3166</td>\n",
       "    </tr>\n",
       "    <tr>\n",
       "      <th>3</th>\n",
       "      <td>180.804</td>\n",
       "      <td>81.354</td>\n",
       "      <td>80.8794</td>\n",
       "    </tr>\n",
       "    <tr>\n",
       "      <th>4</th>\n",
       "      <td>177.448</td>\n",
       "      <td>78.768</td>\n",
       "      <td>80.3499</td>\n",
       "    </tr>\n",
       "  </tbody>\n",
       "</table>\n",
       "</div>"
      ],
      "text/plain": [
       "    height  weight  waistline\n",
       "0  174.396  72.102    79.3787\n",
       "1  179.656  81.255    80.6649\n",
       "2  175.079  76.207    80.3166\n",
       "3  180.804  81.354    80.8794\n",
       "4  177.448  78.768    80.3499"
      ]
     },
     "execution_count": 1,
     "metadata": {},
     "output_type": "execute_result"
    }
   ],
   "source": [
    "import pandas as pd\n",
    "\n",
    "df= pd.read_csv('https://raw.githubusercontent.com/Datamanim/datarepo/main/adp/26/problem7.csv')\n",
    "df.head()"
   ]
  },
  {
   "cell_type": "code",
   "execution_count": 19,
   "id": "dbd33539",
   "metadata": {},
   "outputs": [],
   "source": [
    "import jax.numpy as jnp\n",
    "from jax import random\n",
    "\n",
    "import numpy as np\n",
    "\n",
    "from numpyro import sample, plate\n",
    "from numpyro.infer import MCMC, NUTS\n",
    "import numpyro.distributions as dist\n",
    "\n",
    "rng_key = random.PRNGKey(1234) # 시드고정\n",
    "\n",
    "def model(X, y): # y_est = alpha * x + beta # 모델 구축\n",
    "    # 사전 분포\n",
    "    beta = sample('beta', dist.ImproperUniform(support=dist.constraints.real,\n",
    "                                           batch_shape=jnp.shape(X)[1:], event_shape=()))\n",
    "    sigma = sample('sigma', dist.InverseGamma(concentration=0.005, rate=0.005)) # 역감마 분포 - 오차항의 분산의 사전 분포\n",
    "    alpha = sample('alpha', dist.ImproperUniform(support=dist.constraints.real, batch_shape=(1,), event_shape=()))\n",
    "    \n",
    "    # 표본 분포 관측치의 가능도(Likelihood)\n",
    "    mu = jnp.dot(X, beta) + alpha\n",
    "    with plate('data', len(y)):\n",
    "        sample('obs', dist.Normal(mu, sigma), obs=y)"
   ]
  },
  {
   "cell_type": "code",
   "execution_count": 20,
   "id": "6e0b2bb9",
   "metadata": {},
   "outputs": [],
   "source": [
    "X = df.iloc[:, [0, 2]].values\n",
    "y = df.iloc[:, 1].values"
   ]
  },
  {
   "cell_type": "code",
   "execution_count": 21,
   "id": "eba8d848",
   "metadata": {},
   "outputs": [
    {
     "name": "stderr",
     "output_type": "stream",
     "text": [
      "sample: 100%|██████████████████████| 11000/11000 [00:24<00:00, 450.38it/s, 1023 steps of size 1.64e-03. acc. prob=0.94]\n"
     ]
    },
    {
     "name": "stdout",
     "output_type": "stream",
     "text": [
      "\n",
      "                mean       std    median      5.0%     95.0%     n_eff     r_hat\n",
      "  alpha[0]   -124.58     30.44   -124.33   -175.86    -76.39   1008.28      1.00\n",
      "   beta[0]      1.04      0.06      1.04      0.94      1.13   1450.26      1.00\n",
      "   beta[1]      0.23      0.46      0.22     -0.53      0.96    960.88      1.00\n",
      "     sigma      1.69      0.06      1.69      1.59      1.78   2531.83      1.00\n",
      "\n",
      "Number of divergences: 0\n"
     ]
    }
   ],
   "source": [
    "# MCMC\n",
    "kernel = NUTS(model)\n",
    "mcmc = MCMC(kernel, num_warmup=1000, num_samples=10000) # num_warmup : burn-in, num_samples : 샘플 개수\n",
    "mcmc.run(rng_key, X, y)\n",
    "mcmc.print_summary()"
   ]
  },
  {
   "cell_type": "code",
   "execution_count": 28,
   "id": "d790cebc",
   "metadata": {},
   "outputs": [
    {
     "name": "stdout",
     "output_type": "stream",
     "text": [
      "beta 1.04 (height)\n",
      "beta 0.23 (waistline)\n",
      "alpha -124.58\n"
     ]
    }
   ],
   "source": [
    "posterior_samples = mcmc.get_samples()\n",
    "beta_samples = posterior_samples['beta']\n",
    "alpha_samples = posterior_samples['alpha']\n",
    "sigma_samples = posterior_samples['sigma']\n",
    "\n",
    "print(f'beta {np.mean(beta_samples[:, 0]):.2f} (height)\\nbeta {np.mean(beta_samples[:, 1]):.2f} (waistline)')\n",
    "print(f'alpha {np.mean(alpha_samples):.2f}')"
   ]
  },
  {
   "cell_type": "code",
   "execution_count": 29,
   "id": "7ae798ad",
   "metadata": {},
   "outputs": [
    {
     "name": "stdout",
     "output_type": "stream",
     "text": [
      "Predicted weight : 81.088\n"
     ]
    }
   ],
   "source": [
    "input_data = np.array([[180.0, 85.0]], dtype='float32')\n",
    "\n",
    "predicted_weights = np.dot(input_data, beta_samples.T) + alpha_samples\n",
    "predicted_weights = np.mean(predicted_weights, axis=0)\n",
    "\n",
    "print(f'Predicted weight : {np.mean(predicted_weights):.3f}')"
   ]
  },
  {
   "cell_type": "code",
   "execution_count": null,
   "id": "b5bf872e",
   "metadata": {},
   "outputs": [],
   "source": []
  }
 ],
 "metadata": {
  "kernelspec": {
   "display_name": "llm_venv",
   "language": "python",
   "name": "llm_venv"
  },
  "language_info": {
   "codemirror_mode": {
    "name": "ipython",
    "version": 3
   },
   "file_extension": ".py",
   "mimetype": "text/x-python",
   "name": "python",
   "nbconvert_exporter": "python",
   "pygments_lexer": "ipython3",
   "version": "3.10.11"
  }
 },
 "nbformat": 4,
 "nbformat_minor": 5
}
