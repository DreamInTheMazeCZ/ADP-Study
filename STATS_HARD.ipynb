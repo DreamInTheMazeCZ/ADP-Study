{
 "cells": [
  {
   "cell_type": "code",
   "execution_count": 1,
   "id": "548bb45d-0a5b-455a-9782-110722ec1dbb",
   "metadata": {},
   "outputs": [],
   "source": [
    "import pandas as pd\n",
    "from scipy import stats\n",
    "import statsmodels\n",
    "import numpy as np\n",
    "\n",
    "import warnings\n",
    "\n",
    "warnings.filterwarnings('ignore')"
   ]
  },
  {
   "cell_type": "markdown",
   "id": "784acc48-040f-4145-bb20-13aa2d68e164",
   "metadata": {},
   "source": [
    "## Q 1\n",
    "\n",
    "제공된 데이터(bcc.csv)는 암 환자와 정상인의 리지스틴 수치에 대한 자료이며,  \n",
    "두 집단의 로그 리지스틴 값에 차이가 있는지를 검정하려고 한다.  \n",
    "소문항별로 답을 구한 후, 구한 답을 제시된 [제출 형식]에 맞춰 답안 제출 페이지에 입력하시오.  \n",
    "(단, 모델은 절편항을 포함한다.)"
   ]
  },
  {
   "cell_type": "code",
   "execution_count": 2,
   "id": "1b0c4a44-33b1-4cbc-bacd-1c99e10a3bb6",
   "metadata": {},
   "outputs": [
    {
     "data": {
      "text/html": [
       "<div>\n",
       "<style scoped>\n",
       "    .dataframe tbody tr th:only-of-type {\n",
       "        vertical-align: middle;\n",
       "    }\n",
       "\n",
       "    .dataframe tbody tr th {\n",
       "        vertical-align: top;\n",
       "    }\n",
       "\n",
       "    .dataframe thead th {\n",
       "        text-align: right;\n",
       "    }\n",
       "</style>\n",
       "<table border=\"1\" class=\"dataframe\">\n",
       "  <thead>\n",
       "    <tr style=\"text-align: right;\">\n",
       "      <th></th>\n",
       "      <th>Resistin</th>\n",
       "      <th>Classification</th>\n",
       "    </tr>\n",
       "  </thead>\n",
       "  <tbody>\n",
       "    <tr>\n",
       "      <th>0</th>\n",
       "      <td>7.99585</td>\n",
       "      <td>1</td>\n",
       "    </tr>\n",
       "    <tr>\n",
       "      <th>1</th>\n",
       "      <td>4.06405</td>\n",
       "      <td>1</td>\n",
       "    </tr>\n",
       "    <tr>\n",
       "      <th>2</th>\n",
       "      <td>9.27715</td>\n",
       "      <td>1</td>\n",
       "    </tr>\n",
       "    <tr>\n",
       "      <th>3</th>\n",
       "      <td>12.76600</td>\n",
       "      <td>1</td>\n",
       "    </tr>\n",
       "    <tr>\n",
       "      <th>4</th>\n",
       "      <td>10.57635</td>\n",
       "      <td>1</td>\n",
       "    </tr>\n",
       "  </tbody>\n",
       "</table>\n",
       "</div>"
      ],
      "text/plain": [
       "   Resistin  Classification\n",
       "0   7.99585               1\n",
       "1   4.06405               1\n",
       "2   9.27715               1\n",
       "3  12.76600               1\n",
       "4  10.57635               1"
      ]
     },
     "execution_count": 2,
     "metadata": {},
     "output_type": "execute_result"
    }
   ],
   "source": [
    "df = pd.read_csv('https://raw.githubusercontent.com/Datamanim/datarepo/refs/heads/master/krdatacertificate/s1.csv')\n",
    "df.head()"
   ]
  },
  {
   "cell_type": "markdown",
   "id": "01e6d20d-b027-4b66-8bf3-d57f4be02eaa",
   "metadata": {},
   "source": [
    "### Q 1-1\n",
    "\n",
    "두 집단의 로그 리지스틴 값의 분산에 차이가 있는지를 알아보기 위해  \n",
    "F-검정을 수행할 때 검정통계량의 값을 구하여라.  \n",
    "(단, 분자의 자유도가 분모의 자유도보다 크도록 하여라. 반올림하여 소수 셋째 자리까지 작성)"
   ]
  },
  {
   "cell_type": "code",
   "execution_count": 3,
   "id": "ef48cd17-670a-4136-a6ee-30e0cfbb9130",
   "metadata": {},
   "outputs": [],
   "source": [
    "df_1 = df[df.Classification == 1].Resistin\n",
    "df_2 = df[df.Classification == 2].Resistin"
   ]
  },
  {
   "cell_type": "code",
   "execution_count": 4,
   "id": "c2b2384e-a923-4b92-a3ab-74fe62a9852d",
   "metadata": {},
   "outputs": [
    {
     "data": {
      "text/plain": [
       "(52, 64)"
      ]
     },
     "execution_count": 4,
     "metadata": {},
     "output_type": "execute_result"
    }
   ],
   "source": [
    "len(df_1), len(df_2)"
   ]
  },
  {
   "cell_type": "code",
   "execution_count": 5,
   "id": "95731eee-3ad8-4a85-9626-203a5578ac2d",
   "metadata": {},
   "outputs": [],
   "source": [
    "log1 = np.log(df_1)\n",
    "log2 = np.log(df_2)"
   ]
  },
  {
   "cell_type": "code",
   "execution_count": 6,
   "id": "04497227-e712-46ea-ab77-d01dd3d6adf7",
   "metadata": {},
   "outputs": [],
   "source": [
    "s1 = np.var(log1, ddof=1) # 표본분산 ddof = 1\n",
    "s2 = np.var(log2, ddof=1)"
   ]
  },
  {
   "cell_type": "code",
   "execution_count": 7,
   "id": "78a4a8fc-ea1d-441e-ab21-b7e79d78c3f3",
   "metadata": {},
   "outputs": [
    {
     "data": {
      "text/plain": [
       "(np.float64(0.3765806078045612), np.float64(0.5076144576565117))"
      ]
     },
     "execution_count": 7,
     "metadata": {},
     "output_type": "execute_result"
    }
   ],
   "source": [
    "s1, s2"
   ]
  },
  {
   "cell_type": "code",
   "execution_count": 8,
   "id": "f75628bd-78ff-4e65-9394-7ef11ae27567",
   "metadata": {},
   "outputs": [
    {
     "data": {
      "text/plain": [
       "np.float64(1.3479569769029498)"
      ]
     },
     "execution_count": 8,
     "metadata": {},
     "output_type": "execute_result"
    }
   ],
   "source": [
    "f_stats = s2 / s1\n",
    "f_stats"
   ]
  },
  {
   "cell_type": "code",
   "execution_count": 9,
   "id": "ee18f54e-98f0-4501-a2ac-9e8a65619e60",
   "metadata": {},
   "outputs": [
    {
     "data": {
      "text/plain": [
       "np.float64(1.348)"
      ]
     },
     "execution_count": 9,
     "metadata": {},
     "output_type": "execute_result"
    }
   ],
   "source": [
    "f_stats.round(3)"
   ]
  },
  {
   "cell_type": "markdown",
   "id": "9cabfd04-9b22-4210-8788-593ab99c196e",
   "metadata": {},
   "source": [
    "### Q 1-2\n",
    "\n",
    "두 집단의 로그 리지스틴 값에 대한 합동 분산 추정량을 구하여라.  \n",
    "반올림하여 소수 셋째 자리까지 작성"
   ]
  },
  {
   "cell_type": "code",
   "execution_count": 10,
   "id": "45330648-5434-40ff-b283-a00dce3c1df5",
   "metadata": {},
   "outputs": [
    {
     "data": {
      "text/plain": [
       "np.float64(0.449)"
      ]
     },
     "execution_count": 10,
     "metadata": {},
     "output_type": "execute_result"
    }
   ],
   "source": [
    "sp2 = ((len(df_1) - 1) * s1 + (len(df_2) - 1) * s2) / (len(df_1) + len(df_2) - 2)\n",
    "sp2.round(3)"
   ]
  },
  {
   "cell_type": "markdown",
   "id": "c689ffec-a7f7-4930-8e6d-13d119ee3882",
   "metadata": {},
   "source": [
    "### Q 1-3\n",
    "\n",
    "2번 문제에서 구한 합동 분산 추정량을 이용하여  \n",
    "두 집단의 로그 리지스틴 값에 유의미한 차이가 있는지  \n",
    "독립표본 t-검정을 수행하고 p-값을 구하여라. (반올림하여 소수 셋째 자리까지 작성)  "
   ]
  },
  {
   "cell_type": "markdown",
   "id": "3d8a74b9-2196-4b0d-b14c-069a97bd2104",
   "metadata": {},
   "source": [
    "합동 분산 T 검정\n",
    "\n",
    "SE = (S^2 * (1/n1 + 1/n2)) ** (1/2)"
   ]
  },
  {
   "cell_type": "code",
   "execution_count": 11,
   "id": "b7f0034a-037d-4aa5-b407-6b8243d04473",
   "metadata": {},
   "outputs": [
    {
     "name": "stdout",
     "output_type": "stream",
     "text": [
      "0.003\n"
     ]
    }
   ],
   "source": [
    "m1 = log1.mean()\n",
    "m2 = log2.mean()\n",
    "\n",
    "n1 = len(df_1)\n",
    "n2 = len(df_2)\n",
    "\n",
    "std_error = np.sqrt(sp2 * ( 1 / n1 + 1 / n2))\n",
    "t_stats = (m1 - m2) / std_error\n",
    "\n",
    "pvalue = 2 * (1 - stats.t.cdf(abs(t_stats), df = n1 + n2 - 2))\n",
    "print(pvalue.round(3))"
   ]
  },
  {
   "cell_type": "code",
   "execution_count": 12,
   "id": "8edfca74-a081-4524-b6f2-981ec484fc91",
   "metadata": {},
   "outputs": [
    {
     "data": {
      "text/plain": [
       "np.float64(0.003)"
      ]
     },
     "execution_count": 12,
     "metadata": {},
     "output_type": "execute_result"
    }
   ],
   "source": [
    "stats.ttest_ind(log1, log2).pvalue.round(3)"
   ]
  },
  {
   "cell_type": "markdown",
   "id": "57a037b8-4fcd-4d03-83d2-583133f9338d",
   "metadata": {},
   "source": [
    "## Q 2\n",
    "\n",
    "금속 성분 함유량 데이터(변수 1개) -   \n",
    "제품에 금속 재질 함유량의 분산이 1.3을 넘으면 불량이라고 보고 있는데  \n",
    "제조사별로 차이가 난다고 제보를 받았다. 분산에 대해 검정을 수행하시오.  \n",
    "(유의확률 0.05)\n",
    "\n",
    "- 1 연구가설과 귀무가설 작성\n",
    "- 2 양측 검정 시행\n",
    "- 3 검정통계량, 가설채택"
   ]
  },
  {
   "cell_type": "markdown",
   "id": "f87fc521-177e-488b-b645-7c4e1e3dc439",
   "metadata": {},
   "source": [
    "### Q 2-1"
   ]
  },
  {
   "cell_type": "markdown",
   "id": "5e06d44c-5f2e-47d6-9ec5-a0062ba1e62e",
   "metadata": {},
   "source": [
    "- 귀무가설 H0 : 제품의 금속 재질 함유량의 분산은 1.3이다.\n",
    "- 대립가설 H1 : 제품의 금속 재질 함유량의 분산은 1.3이 아니다."
   ]
  },
  {
   "cell_type": "markdown",
   "id": "ec21d95b-a86a-4b49-8368-a81d226ea1fc",
   "metadata": {},
   "source": [
    "### Q 2-2"
   ]
  },
  {
   "cell_type": "code",
   "execution_count": 13,
   "id": "a756d2b4-e1fa-4c0d-bfff-4d4fb9f16e77",
   "metadata": {},
   "outputs": [
    {
     "data": {
      "text/html": [
       "<div>\n",
       "<style scoped>\n",
       "    .dataframe tbody tr th:only-of-type {\n",
       "        vertical-align: middle;\n",
       "    }\n",
       "\n",
       "    .dataframe tbody tr th {\n",
       "        vertical-align: top;\n",
       "    }\n",
       "\n",
       "    .dataframe thead th {\n",
       "        text-align: right;\n",
       "    }\n",
       "</style>\n",
       "<table border=\"1\" class=\"dataframe\">\n",
       "  <thead>\n",
       "    <tr style=\"text-align: right;\">\n",
       "      <th></th>\n",
       "      <th>content</th>\n",
       "    </tr>\n",
       "  </thead>\n",
       "  <tbody>\n",
       "    <tr>\n",
       "      <th>0</th>\n",
       "      <td>97.995295</td>\n",
       "    </tr>\n",
       "    <tr>\n",
       "      <th>1</th>\n",
       "      <td>101.478315</td>\n",
       "    </tr>\n",
       "    <tr>\n",
       "      <th>2</th>\n",
       "      <td>102.284913</td>\n",
       "    </tr>\n",
       "    <tr>\n",
       "      <th>3</th>\n",
       "      <td>98.993634</td>\n",
       "    </tr>\n",
       "    <tr>\n",
       "      <th>4</th>\n",
       "      <td>104.635232</td>\n",
       "    </tr>\n",
       "  </tbody>\n",
       "</table>\n",
       "</div>"
      ],
      "text/plain": [
       "      content\n",
       "0   97.995295\n",
       "1  101.478315\n",
       "2  102.284913\n",
       "3   98.993634\n",
       "4  104.635232"
      ]
     },
     "execution_count": 13,
     "metadata": {},
     "output_type": "execute_result"
    }
   ],
   "source": [
    "df = pd.read_csv('https://raw.githubusercontent.com/Datamanim/datarepo/main/adp/22/content.csv')\n",
    "df.head()"
   ]
  },
  {
   "cell_type": "code",
   "execution_count": 14,
   "id": "65ddbe0e-d920-4a69-87c3-eea138801738",
   "metadata": {},
   "outputs": [
    {
     "data": {
      "text/plain": [
       "200"
      ]
     },
     "execution_count": 14,
     "metadata": {},
     "output_type": "execute_result"
    }
   ],
   "source": [
    "len(df)"
   ]
  },
  {
   "cell_type": "markdown",
   "id": "2577732d-8b98-4d4e-b8ed-a878f2d033ad",
   "metadata": {},
   "source": [
    "데이터가 5000개 미만이므로 shapiro-wilk 검정을 통해 정규성 검정을 진행한다.\n",
    "\n",
    "#### 정규성 검정\n",
    "- 귀무가설 H0 : 정규성을 만족한다.\n",
    "- 대립가설 H1 : 정규성을 불만족한다."
   ]
  },
  {
   "cell_type": "code",
   "execution_count": 15,
   "id": "de6cbf00-0b04-422e-b001-8c29e56a780a",
   "metadata": {},
   "outputs": [
    {
     "name": "stdout",
     "output_type": "stream",
     "text": [
      "P-Value가 0.4606이므로 귀무가설을 채택, 정규성을 만족한다.\n"
     ]
    }
   ],
   "source": [
    "result = stats.shapiro(df.content)\n",
    "\n",
    "if result.pvalue >= 0.05:\n",
    "    print(f\"P-Value가 {result.pvalue:.4f}이므로 귀무가설을 채택, 정규성을 만족한다.\")"
   ]
  },
  {
   "cell_type": "markdown",
   "id": "06c97eb1-4501-42b2-812a-e6ba4a175098",
   "metadata": {},
   "source": [
    "데이터가 정규성을 만족하므로 단일 표본 분산 검정을 진행한다.\n",
    "\n",
    "#### 단일 표본 분산 검정\n",
    "- 귀무가설 H0 : 제품의 금속 재질 함유량의 분산은 1.3이다.\n",
    "- 대립가설 H1 : 제품의 금속 재질 함유량의 분산은 1.3이 아니다."
   ]
  },
  {
   "cell_type": "code",
   "execution_count": 16,
   "id": "9cc3518a-e63e-4dda-ab25-cafb82788bb4",
   "metadata": {},
   "outputs": [],
   "source": [
    "def chi_var_test(data, var0, alternative='two-sided'):\n",
    "    length = len(data)\n",
    "    # 카이 통계량\n",
    "    chi_stat = (length - 1) * np.var(data, ddof=1) / var0\n",
    "\n",
    "    \n",
    "    temp = stats.chi2.cdf(chi_stat, length - 1)\n",
    "\n",
    "    # 양측검정\n",
    "    if alternative == 'two-sided':\n",
    "        pval = 2 * (1 - temp) if temp > 0.5 else 2 * temp\n",
    "    elif alternative == 'greater':\n",
    "        pval = 1 - temp\n",
    "    elif alternative == 'less':\n",
    "        pval = temp\n",
    "    else:\n",
    "        return None\n",
    "    return chi_stat, pval"
   ]
  },
  {
   "cell_type": "code",
   "execution_count": 17,
   "id": "2e77eabc-0cba-45dd-b098-730dc10bb6a1",
   "metadata": {},
   "outputs": [
    {
     "data": {
      "text/plain": [
       "np.float64(0.0)"
      ]
     },
     "execution_count": 17,
     "metadata": {},
     "output_type": "execute_result"
    }
   ],
   "source": [
    "chi_var_test(df.content, var0 = 1.3)[1].round(4)"
   ]
  },
  {
   "cell_type": "markdown",
   "id": "dabb6581-903c-47d4-ac63-dc260c6f93e4",
   "metadata": {},
   "source": [
    "P-Value가 0.05 미만이므로, 유의수준 5% 하에서 귀무가설을 기각하고 대립가설을 채택,  \n",
    "제품의 금속 재질 함유량의 분산은 1.3이 아니다."
   ]
  },
  {
   "cell_type": "markdown",
   "id": "711d9ecf-8546-4490-9531-7b2a2a518e4e",
   "metadata": {},
   "source": [
    "### Q 2-3"
   ]
  },
  {
   "cell_type": "code",
   "execution_count": 18,
   "id": "4898907c-a24f-43ca-bdef-9ecb52ec074f",
   "metadata": {},
   "outputs": [
    {
     "data": {
      "text/plain": [
       "np.float64(328.292)"
      ]
     },
     "execution_count": 18,
     "metadata": {},
     "output_type": "execute_result"
    }
   ],
   "source": [
    "chi_var_test(df.content, var0 = 1.3)[0].round(3)"
   ]
  },
  {
   "cell_type": "markdown",
   "id": "25381158-c83c-4b22-8881-8669655c2c70",
   "metadata": {},
   "source": [
    "검정통계량은 약 328.292이며, 연구가설을 채택한다."
   ]
  },
  {
   "cell_type": "markdown",
   "id": "99ea3d06-ce14-4aac-b1f1-de3ee1f25a84",
   "metadata": {},
   "source": [
    "## Q 3\n",
    "\n",
    "Lot별 200개에 대한 불량 제품 수량 데이터(변수 2개 - lot번호, 불량제품수)\n",
    "\n",
    "- 1 불량률 관리도에 따라 관리중심선(CL : Center Line),   \n",
    "  관리 상한선(UCL : Upper Control Limit),   \n",
    "  하한선(LCL : Lower Control Limit) 구하기\n",
    "- 2 관리도 시각화"
   ]
  },
  {
   "cell_type": "code",
   "execution_count": 19,
   "id": "ea0cf401-1b9f-4475-91e6-8a67ff96268a",
   "metadata": {},
   "outputs": [
    {
     "data": {
      "text/html": [
       "<div>\n",
       "<style scoped>\n",
       "    .dataframe tbody tr th:only-of-type {\n",
       "        vertical-align: middle;\n",
       "    }\n",
       "\n",
       "    .dataframe tbody tr th {\n",
       "        vertical-align: top;\n",
       "    }\n",
       "\n",
       "    .dataframe thead th {\n",
       "        text-align: right;\n",
       "    }\n",
       "</style>\n",
       "<table border=\"1\" class=\"dataframe\">\n",
       "  <thead>\n",
       "    <tr style=\"text-align: right;\">\n",
       "      <th></th>\n",
       "      <th>iot_number</th>\n",
       "      <th>error_case_number</th>\n",
       "    </tr>\n",
       "  </thead>\n",
       "  <tbody>\n",
       "    <tr>\n",
       "      <th>0</th>\n",
       "      <td>1</td>\n",
       "      <td>4.5</td>\n",
       "    </tr>\n",
       "    <tr>\n",
       "      <th>1</th>\n",
       "      <td>2</td>\n",
       "      <td>2.5</td>\n",
       "    </tr>\n",
       "    <tr>\n",
       "      <th>2</th>\n",
       "      <td>3</td>\n",
       "      <td>2.0</td>\n",
       "    </tr>\n",
       "    <tr>\n",
       "      <th>3</th>\n",
       "      <td>4</td>\n",
       "      <td>3.0</td>\n",
       "    </tr>\n",
       "    <tr>\n",
       "      <th>4</th>\n",
       "      <td>5</td>\n",
       "      <td>0.5</td>\n",
       "    </tr>\n",
       "  </tbody>\n",
       "</table>\n",
       "</div>"
      ],
      "text/plain": [
       "   iot_number  error_case_number\n",
       "0           1                4.5\n",
       "1           2                2.5\n",
       "2           3                2.0\n",
       "3           4                3.0\n",
       "4           5                0.5"
      ]
     },
     "execution_count": 19,
     "metadata": {},
     "output_type": "execute_result"
    }
   ],
   "source": [
    "df = pd.read_csv('https://raw.githubusercontent.com/Datamanim/datarepo/main/adp/22/error.csv')\n",
    "df.head()"
   ]
  },
  {
   "cell_type": "markdown",
   "id": "4aecf1e2-543d-4fb9-b95f-936f7768b210",
   "metadata": {},
   "source": [
    "## Q 4\n",
    "\n",
    "공장에서는 진공관 수명이 1만 시간이라고 주장하여 품질관리팀에서  \n",
    "12개 샘플을 뽑았음 유의수준 5%에서 부호 검정하시오\n",
    "\n",
    "- 귀무가설 연구가설 세우기\n",
    "- 유효한 데이터의 숫자는?\n",
    "- 검정통계량 및 연구 가설 채택 여부를 작성하라"
   ]
  },
  {
   "cell_type": "markdown",
   "id": "11453f42-416b-4336-a281-28fad03d7b2c",
   "metadata": {},
   "source": [
    "### Q 4-1\n",
    "\n",
    "- 귀무가설 H0 : 진공관 수명은 1만 시간이다.\n",
    "- 연구가설 H1 : 진공관 수명은 1만 시간이 아니다."
   ]
  },
  {
   "cell_type": "markdown",
   "id": "66aa9fdd-30bd-4392-8a6a-cd3b824c836b",
   "metadata": {},
   "source": [
    "### Q 4-2"
   ]
  },
  {
   "cell_type": "code",
   "execution_count": 20,
   "id": "dad2504b-f1c5-46db-91df-0b6918d707fd",
   "metadata": {},
   "outputs": [
    {
     "data": {
      "text/html": [
       "<div>\n",
       "<style scoped>\n",
       "    .dataframe tbody tr th:only-of-type {\n",
       "        vertical-align: middle;\n",
       "    }\n",
       "\n",
       "    .dataframe tbody tr th {\n",
       "        vertical-align: top;\n",
       "    }\n",
       "\n",
       "    .dataframe thead th {\n",
       "        text-align: right;\n",
       "    }\n",
       "</style>\n",
       "<table border=\"1\" class=\"dataframe\">\n",
       "  <thead>\n",
       "    <tr style=\"text-align: right;\">\n",
       "      <th></th>\n",
       "      <th>name</th>\n",
       "      <th>life span</th>\n",
       "    </tr>\n",
       "  </thead>\n",
       "  <tbody>\n",
       "    <tr>\n",
       "      <th>0</th>\n",
       "      <td>sample1</td>\n",
       "      <td>10000</td>\n",
       "    </tr>\n",
       "    <tr>\n",
       "      <th>1</th>\n",
       "      <td>sample2</td>\n",
       "      <td>9000</td>\n",
       "    </tr>\n",
       "    <tr>\n",
       "      <th>2</th>\n",
       "      <td>sample3</td>\n",
       "      <td>9500</td>\n",
       "    </tr>\n",
       "    <tr>\n",
       "      <th>3</th>\n",
       "      <td>sample4</td>\n",
       "      <td>10000</td>\n",
       "    </tr>\n",
       "    <tr>\n",
       "      <th>4</th>\n",
       "      <td>sample5</td>\n",
       "      <td>10000</td>\n",
       "    </tr>\n",
       "  </tbody>\n",
       "</table>\n",
       "</div>"
      ],
      "text/plain": [
       "      name  life span\n",
       "0  sample1      10000\n",
       "1  sample2       9000\n",
       "2  sample3       9500\n",
       "3  sample4      10000\n",
       "4  sample5      10000"
      ]
     },
     "execution_count": 20,
     "metadata": {},
     "output_type": "execute_result"
    }
   ],
   "source": [
    "df = pd.read_csv('https://raw.githubusercontent.com/Datamanim/datarepo/main/adp/23/problem2.csv')\n",
    "df.head()"
   ]
  },
  {
   "cell_type": "code",
   "execution_count": 21,
   "id": "b1207a9f-fc5f-492e-8476-f5f7d28f2d53",
   "metadata": {},
   "outputs": [
    {
     "data": {
      "text/plain": [
       "8"
      ]
     },
     "execution_count": 21,
     "metadata": {},
     "output_type": "execute_result"
    }
   ],
   "source": [
    "len(df[df['life span'] != 10000])"
   ]
  },
  {
   "cell_type": "markdown",
   "id": "3c3ba983-0223-4242-b6d7-65143bae8ac1",
   "metadata": {},
   "source": [
    "중위수와 동일한 값은 부호 검정에서 불필요하므로 유효한 데이터는 8개이다."
   ]
  },
  {
   "cell_type": "markdown",
   "id": "dde63676-23fe-4faa-9624-6e85d753d296",
   "metadata": {},
   "source": [
    "### Q 4-3\n",
    "\n",
    "wilcoxon의 부호순위 검정을 진행한다.  \n",
    "비모수 검정이므로 정규성 검정은 생략한다."
   ]
  },
  {
   "cell_type": "code",
   "execution_count": 22,
   "id": "2cf1230d-f316-4501-9a78-3f91ab6221ee",
   "metadata": {},
   "outputs": [],
   "source": [
    "result = stats.wilcoxon(df['life span'] - 10000)"
   ]
  },
  {
   "cell_type": "code",
   "execution_count": 23,
   "id": "06a0282b-0bde-49d9-8d6e-c4d58dc4ed09",
   "metadata": {},
   "outputs": [
    {
     "name": "stdout",
     "output_type": "stream",
     "text": [
      "검정 통계량은 8.5이다.\n",
      "P-Value가 0.2109이므로 유의수준 5% 하에서 귀무가설을 채택한다.\n"
     ]
    }
   ],
   "source": [
    "print(f'검정 통계량은 {result.statistic}이다.')\n",
    "print(f'P-Value가 {result.pvalue:.4f}이므로 유의수준 5% 하에서 귀무가설을 채택한다.')"
   ]
  },
  {
   "cell_type": "markdown",
   "id": "ce3f2133-9dd0-4e9b-ac06-92c13e4cfc95",
   "metadata": {},
   "source": [
    "## Q 5\n",
    "\n",
    "아래 이미지와 같은 학과별 학점 분포 인원수 표가 있다. 학과와 성적이 관계있는지를 검정하라\n",
    "\n",
    "- 1. 귀무가설 연구가설 세우기\n",
    "- 2. 학과와 성적이 독립일 경우의 기댓값을 구하시오\n",
    "- 3. 검정통계량 및 연구 가설 채택 여부를 작성하라"
   ]
  },
  {
   "cell_type": "code",
   "execution_count": 24,
   "id": "91c0beef-904e-486b-9102-1ab0767f9d34",
   "metadata": {},
   "outputs": [
    {
     "data": {
      "text/html": [
       "<div>\n",
       "<style scoped>\n",
       "    .dataframe tbody tr th:only-of-type {\n",
       "        vertical-align: middle;\n",
       "    }\n",
       "\n",
       "    .dataframe tbody tr th {\n",
       "        vertical-align: top;\n",
       "    }\n",
       "\n",
       "    .dataframe thead th {\n",
       "        text-align: right;\n",
       "    }\n",
       "</style>\n",
       "<table border=\"1\" class=\"dataframe\">\n",
       "  <thead>\n",
       "    <tr style=\"text-align: right;\">\n",
       "      <th></th>\n",
       "      <th>사회과학</th>\n",
       "      <th>자연과학</th>\n",
       "      <th>공학</th>\n",
       "    </tr>\n",
       "  </thead>\n",
       "  <tbody>\n",
       "    <tr>\n",
       "      <th>1.5-2.5</th>\n",
       "      <td>15</td>\n",
       "      <td>25</td>\n",
       "      <td>10</td>\n",
       "    </tr>\n",
       "    <tr>\n",
       "      <th>2.5-3.5</th>\n",
       "      <td>60</td>\n",
       "      <td>69</td>\n",
       "      <td>77</td>\n",
       "    </tr>\n",
       "    <tr>\n",
       "      <th>3.5-4.5</th>\n",
       "      <td>24</td>\n",
       "      <td>5</td>\n",
       "      <td>13</td>\n",
       "    </tr>\n",
       "  </tbody>\n",
       "</table>\n",
       "</div>"
      ],
      "text/plain": [
       "         사회과학  자연과학  공학\n",
       "1.5-2.5    15    25  10\n",
       "2.5-3.5    60    69  77\n",
       "3.5-4.5    24     5  13"
      ]
     },
     "execution_count": 24,
     "metadata": {},
     "output_type": "execute_result"
    }
   ],
   "source": [
    "idx = ['1.5-2.5', '2.5-3.5', '3.5-4.5']\n",
    "values = {\n",
    "    '사회과학':[15, 60, 24],\n",
    "    '자연과학':[25, 69, 5],\n",
    "    '공학':[10, 77, 13]\n",
    "}\n",
    "\n",
    "df = pd.DataFrame(data=values, index=idx)\n",
    "df"
   ]
  },
  {
   "cell_type": "markdown",
   "id": "e17a06a7-8e90-41e3-9524-8adb160e2512",
   "metadata": {},
   "source": [
    "### Q 5-1\n",
    "\n",
    "- 귀무가설 H0 : 학과에 따른 성적은 관련이 없다.\n",
    "- 연구가설 H1 : 학과에 따른 성적은 관련 있다."
   ]
  },
  {
   "cell_type": "markdown",
   "id": "90a14376-f3f8-426f-9d33-164b6e096c86",
   "metadata": {},
   "source": [
    "### Q 5-2\n",
    "\n",
    "가정에 따라 독립일 경우 각각의 기댓값을  \n",
    "chi2_contingency 모듈을 통해 확인하면 아래와 같다."
   ]
  },
  {
   "cell_type": "code",
   "execution_count": 25,
   "id": "b3ce3844-c291-46b9-a640-d5b72b85273c",
   "metadata": {},
   "outputs": [
    {
     "data": {
      "text/plain": [
       "array([[16.61073826, 16.61073826, 16.77852349],\n",
       "       [68.43624161, 68.43624161, 69.12751678],\n",
       "       [13.95302013, 13.95302013, 14.09395973]])"
      ]
     },
     "execution_count": 25,
     "metadata": {},
     "output_type": "execute_result"
    }
   ],
   "source": [
    "stats.chi2_contingency(df).expected_freq"
   ]
  },
  {
   "cell_type": "markdown",
   "id": "42c8ab25-3bb4-4ca0-b582-0b8e0d93c6e5",
   "metadata": {},
   "source": [
    "### Q 5-3"
   ]
  },
  {
   "cell_type": "code",
   "execution_count": 26,
   "id": "c79bfc4c-e107-46bc-a775-8462f0048149",
   "metadata": {},
   "outputs": [
    {
     "name": "stdout",
     "output_type": "stream",
     "text": [
      "검정통계량은 22.1369 이다.\n",
      "\n",
      "P-Value가 0.0002 이므로 유의수준 5% 하에서 귀무가설을 기각하고 대립가설을 채택,\n",
      "학과에 따른 성적은 연관이 있다. (독립이 아니다.)\n"
     ]
    }
   ],
   "source": [
    "print(f\"검정통계량은 {stats.chi2_contingency(df).statistic:.4f} 이다.\\n\")\n",
    "print(f\"P-Value가 {stats.chi2_contingency(df).pvalue:.4f} 이므로 유의수준 5% 하에서 귀무가설을 기각하고 대립가설을 채택,\\n학과에 따른 성적은 연관이 있다. (독립이 아니다.)\")"
   ]
  },
  {
   "cell_type": "markdown",
   "id": "fac795df-9bc8-43fc-9a1a-dedc55acdcae",
   "metadata": {},
   "source": [
    "## Q 6\n",
    "\n",
    "광고횟수와 광고비에 따른 매출액의 데이터이다\n",
    "\n",
    "- 1. 광고비 변수를 가변수 처리후 다중회귀를 수행하여 회귀계수가 유의한지 검정\n",
    "- 2. 회귀식이 유의한지 판단"
   ]
  },
  {
   "cell_type": "code",
   "execution_count": 27,
   "id": "485e8e45-7004-442a-9f2c-a3776a6e3173",
   "metadata": {},
   "outputs": [
    {
     "data": {
      "text/html": [
       "<div>\n",
       "<style scoped>\n",
       "    .dataframe tbody tr th:only-of-type {\n",
       "        vertical-align: middle;\n",
       "    }\n",
       "\n",
       "    .dataframe tbody tr th {\n",
       "        vertical-align: top;\n",
       "    }\n",
       "\n",
       "    .dataframe thead th {\n",
       "        text-align: right;\n",
       "    }\n",
       "</style>\n",
       "<table border=\"1\" class=\"dataframe\">\n",
       "  <thead>\n",
       "    <tr style=\"text-align: right;\">\n",
       "      <th></th>\n",
       "      <th>광고횟수</th>\n",
       "      <th>광고비</th>\n",
       "      <th>매출액</th>\n",
       "    </tr>\n",
       "  </thead>\n",
       "  <tbody>\n",
       "    <tr>\n",
       "      <th>0</th>\n",
       "      <td>2</td>\n",
       "      <td>낮음</td>\n",
       "      <td>15</td>\n",
       "    </tr>\n",
       "    <tr>\n",
       "      <th>1</th>\n",
       "      <td>3</td>\n",
       "      <td>낮음</td>\n",
       "      <td>16</td>\n",
       "    </tr>\n",
       "    <tr>\n",
       "      <th>2</th>\n",
       "      <td>4</td>\n",
       "      <td>낮음</td>\n",
       "      <td>17</td>\n",
       "    </tr>\n",
       "    <tr>\n",
       "      <th>3</th>\n",
       "      <td>4</td>\n",
       "      <td>높음</td>\n",
       "      <td>18</td>\n",
       "    </tr>\n",
       "    <tr>\n",
       "      <th>4</th>\n",
       "      <td>5</td>\n",
       "      <td>높음</td>\n",
       "      <td>20</td>\n",
       "    </tr>\n",
       "  </tbody>\n",
       "</table>\n",
       "</div>"
      ],
      "text/plain": [
       "   광고횟수 광고비  매출액\n",
       "0     2  낮음   15\n",
       "1     3  낮음   16\n",
       "2     4  낮음   17\n",
       "3     4  높음   18\n",
       "4     5  높음   20"
      ]
     },
     "execution_count": 27,
     "metadata": {},
     "output_type": "execute_result"
    }
   ],
   "source": [
    "df = pd.read_csv('https://raw.githubusercontent.com/Datamanim/datarepo/main/adp/24/problem2.csv',encoding='cp949')\n",
    "df.head()"
   ]
  },
  {
   "cell_type": "markdown",
   "id": "7c077600-6590-4bd6-9d16-9658e363aa88",
   "metadata": {},
   "source": [
    "### Q 6-1"
   ]
  },
  {
   "cell_type": "code",
   "execution_count": 28,
   "id": "77f848bc-960c-4e28-bce6-d93c99acc1e0",
   "metadata": {},
   "outputs": [
    {
     "data": {
      "text/plain": [
       "array(['낮음', '높음'], dtype=object)"
      ]
     },
     "execution_count": 28,
     "metadata": {},
     "output_type": "execute_result"
    }
   ],
   "source": [
    "df.광고비.unique()"
   ]
  },
  {
   "cell_type": "markdown",
   "id": "49be87a7-10d4-4d19-bd25-29fe9a55590b",
   "metadata": {},
   "source": [
    "광고비 변수의 낮음을 0, 높음을 1로 하여 가변수 처리를 한다."
   ]
  },
  {
   "cell_type": "code",
   "execution_count": 29,
   "id": "21feb6b9-9702-4df3-9726-a2fd69bbdf5f",
   "metadata": {},
   "outputs": [
    {
     "data": {
      "text/plain": [
       "array([0, 1])"
      ]
     },
     "execution_count": 29,
     "metadata": {},
     "output_type": "execute_result"
    }
   ],
   "source": [
    "df['광고비'] = df['광고비'].map(lambda x: 0 if x == '낮음' else 1)\n",
    "df['광고비'].unique()"
   ]
  },
  {
   "cell_type": "code",
   "execution_count": 30,
   "id": "9b926e0c-6089-49d3-9793-cf316d996e35",
   "metadata": {},
   "outputs": [],
   "source": [
    "import statsmodels.api as sm"
   ]
  },
  {
   "cell_type": "code",
   "execution_count": 31,
   "id": "256d3aee-96c4-4bf0-a2b9-cb7af0c9e2f3",
   "metadata": {},
   "outputs": [
    {
     "data": {
      "text/html": [
       "<table class=\"simpletable\">\n",
       "<caption>OLS Regression Results</caption>\n",
       "<tr>\n",
       "  <th>Dep. Variable:</th>           <td>매출액</td>       <th>  R-squared:         </th> <td>   0.982</td>\n",
       "</tr>\n",
       "<tr>\n",
       "  <th>Model:</th>                   <td>OLS</td>       <th>  Adj. R-squared:    </th> <td>   0.978</td>\n",
       "</tr>\n",
       "<tr>\n",
       "  <th>Method:</th>             <td>Least Squares</td>  <th>  F-statistic:       </th> <td>   221.2</td>\n",
       "</tr>\n",
       "<tr>\n",
       "  <th>Date:</th>             <td>Thu, 09 Oct 2025</td> <th>  Prob (F-statistic):</th> <td>9.96e-08</td>\n",
       "</tr>\n",
       "<tr>\n",
       "  <th>Time:</th>                 <td>21:29:49</td>     <th>  Log-Likelihood:    </th> <td> -11.883</td>\n",
       "</tr>\n",
       "<tr>\n",
       "  <th>No. Observations:</th>      <td>    11</td>      <th>  AIC:               </th> <td>   29.77</td>\n",
       "</tr>\n",
       "<tr>\n",
       "  <th>Df Residuals:</th>          <td>     8</td>      <th>  BIC:               </th> <td>   30.96</td>\n",
       "</tr>\n",
       "<tr>\n",
       "  <th>Df Model:</th>              <td>     2</td>      <th>                     </th>     <td> </td>   \n",
       "</tr>\n",
       "<tr>\n",
       "  <th>Covariance Type:</th>      <td>nonrobust</td>    <th>                     </th>     <td> </td>   \n",
       "</tr>\n",
       "</table>\n",
       "<table class=\"simpletable\">\n",
       "<tr>\n",
       "    <td></td>       <th>coef</th>     <th>std err</th>      <th>t</th>      <th>P>|t|</th>  <th>[0.025</th>    <th>0.975]</th>  \n",
       "</tr>\n",
       "<tr>\n",
       "  <th>const</th> <td>   12.1641</td> <td>    0.556</td> <td>   21.876</td> <td> 0.000</td> <td>   10.882</td> <td>   13.446</td>\n",
       "</tr>\n",
       "<tr>\n",
       "  <th>광고횟수</th>  <td>    1.4350</td> <td>    0.074</td> <td>   19.518</td> <td> 0.000</td> <td>    1.265</td> <td>    1.605</td>\n",
       "</tr>\n",
       "<tr>\n",
       "  <th>광고비</th>   <td>    0.5227</td> <td>    0.536</td> <td>    0.975</td> <td> 0.358</td> <td>   -0.713</td> <td>    1.759</td>\n",
       "</tr>\n",
       "</table>\n",
       "<table class=\"simpletable\">\n",
       "<tr>\n",
       "  <th>Omnibus:</th>       <td> 7.665</td> <th>  Durbin-Watson:     </th> <td>   0.919</td>\n",
       "</tr>\n",
       "<tr>\n",
       "  <th>Prob(Omnibus):</th> <td> 0.022</td> <th>  Jarque-Bera (JB):  </th> <td>   3.407</td>\n",
       "</tr>\n",
       "<tr>\n",
       "  <th>Skew:</th>          <td> 1.265</td> <th>  Prob(JB):          </th> <td>   0.182</td>\n",
       "</tr>\n",
       "<tr>\n",
       "  <th>Kurtosis:</th>      <td> 4.015</td> <th>  Cond. No.          </th> <td>    18.9</td>\n",
       "</tr>\n",
       "</table><br/><br/>Notes:<br/>[1] Standard Errors assume that the covariance matrix of the errors is correctly specified."
      ],
      "text/latex": [
       "\\begin{center}\n",
       "\\begin{tabular}{lclc}\n",
       "\\toprule\n",
       "\\textbf{Dep. Variable:}    &       매출액        & \\textbf{  R-squared:         } &     0.982   \\\\\n",
       "\\textbf{Model:}            &       OLS        & \\textbf{  Adj. R-squared:    } &     0.978   \\\\\n",
       "\\textbf{Method:}           &  Least Squares   & \\textbf{  F-statistic:       } &     221.2   \\\\\n",
       "\\textbf{Date:}             & Thu, 09 Oct 2025 & \\textbf{  Prob (F-statistic):} &  9.96e-08   \\\\\n",
       "\\textbf{Time:}             &     21:29:49     & \\textbf{  Log-Likelihood:    } &   -11.883   \\\\\n",
       "\\textbf{No. Observations:} &          11      & \\textbf{  AIC:               } &     29.77   \\\\\n",
       "\\textbf{Df Residuals:}     &           8      & \\textbf{  BIC:               } &     30.96   \\\\\n",
       "\\textbf{Df Model:}         &           2      & \\textbf{                     } &             \\\\\n",
       "\\textbf{Covariance Type:}  &    nonrobust     & \\textbf{                     } &             \\\\\n",
       "\\bottomrule\n",
       "\\end{tabular}\n",
       "\\begin{tabular}{lcccccc}\n",
       "               & \\textbf{coef} & \\textbf{std err} & \\textbf{t} & \\textbf{P$> |$t$|$} & \\textbf{[0.025} & \\textbf{0.975]}  \\\\\n",
       "\\midrule\n",
       "\\textbf{const} &      12.1641  &        0.556     &    21.876  &         0.000        &       10.882    &       13.446     \\\\\n",
       "\\textbf{광고횟수}  &       1.4350  &        0.074     &    19.518  &         0.000        &        1.265    &        1.605     \\\\\n",
       "\\textbf{광고비}   &       0.5227  &        0.536     &     0.975  &         0.358        &       -0.713    &        1.759     \\\\\n",
       "\\bottomrule\n",
       "\\end{tabular}\n",
       "\\begin{tabular}{lclc}\n",
       "\\textbf{Omnibus:}       &  7.665 & \\textbf{  Durbin-Watson:     } &    0.919  \\\\\n",
       "\\textbf{Prob(Omnibus):} &  0.022 & \\textbf{  Jarque-Bera (JB):  } &    3.407  \\\\\n",
       "\\textbf{Skew:}          &  1.265 & \\textbf{  Prob(JB):          } &    0.182  \\\\\n",
       "\\textbf{Kurtosis:}      &  4.015 & \\textbf{  Cond. No.          } &     18.9  \\\\\n",
       "\\bottomrule\n",
       "\\end{tabular}\n",
       "%\\caption{OLS Regression Results}\n",
       "\\end{center}\n",
       "\n",
       "Notes: \\newline\n",
       " [1] Standard Errors assume that the covariance matrix of the errors is correctly specified."
      ],
      "text/plain": [
       "<class 'statsmodels.iolib.summary.Summary'>\n",
       "\"\"\"\n",
       "                            OLS Regression Results                            \n",
       "==============================================================================\n",
       "Dep. Variable:                    매출액   R-squared:                       0.982\n",
       "Model:                            OLS   Adj. R-squared:                  0.978\n",
       "Method:                 Least Squares   F-statistic:                     221.2\n",
       "Date:                Thu, 09 Oct 2025   Prob (F-statistic):           9.96e-08\n",
       "Time:                        21:29:49   Log-Likelihood:                -11.883\n",
       "No. Observations:                  11   AIC:                             29.77\n",
       "Df Residuals:                       8   BIC:                             30.96\n",
       "Df Model:                           2                                         \n",
       "Covariance Type:            nonrobust                                         \n",
       "==============================================================================\n",
       "                 coef    std err          t      P>|t|      [0.025      0.975]\n",
       "------------------------------------------------------------------------------\n",
       "const         12.1641      0.556     21.876      0.000      10.882      13.446\n",
       "광고횟수           1.4350      0.074     19.518      0.000       1.265       1.605\n",
       "광고비            0.5227      0.536      0.975      0.358      -0.713       1.759\n",
       "==============================================================================\n",
       "Omnibus:                        7.665   Durbin-Watson:                   0.919\n",
       "Prob(Omnibus):                  0.022   Jarque-Bera (JB):                3.407\n",
       "Skew:                           1.265   Prob(JB):                        0.182\n",
       "Kurtosis:                       4.015   Cond. No.                         18.9\n",
       "==============================================================================\n",
       "\n",
       "Notes:\n",
       "[1] Standard Errors assume that the covariance matrix of the errors is correctly specified.\n",
       "\"\"\""
      ]
     },
     "execution_count": 31,
     "metadata": {},
     "output_type": "execute_result"
    }
   ],
   "source": [
    "x = sm.add_constant(df[['광고횟수', '광고비']])\n",
    "y = df[['매출액']]\n",
    "\n",
    "model = sm.OLS(y, x).fit()\n",
    "\n",
    "model.summary()"
   ]
  },
  {
   "cell_type": "code",
   "execution_count": 32,
   "id": "f00c48f5-f3f5-46a0-996a-989ab119a01c",
   "metadata": {},
   "outputs": [
    {
     "data": {
      "text/plain": [
       "const    2.011914e-08\n",
       "광고횟수     4.935243e-08\n",
       "광고비      3.579629e-01\n",
       "dtype: float64"
      ]
     },
     "execution_count": 32,
     "metadata": {},
     "output_type": "execute_result"
    }
   ],
   "source": [
    "model.pvalues"
   ]
  },
  {
   "cell_type": "markdown",
   "id": "7fb465d3-6a88-429d-a06f-e677cac6a35d",
   "metadata": {},
   "source": [
    "광고횟수 변수는 P-Value가 0.05 미만이므로 유의수준 5% 하에서  \n",
    "회귀계수가 통계적으로 유의하다.  \n",
    "\n",
    "광고비 변수는 P-Value가 0.05 이상이므로 유의수준 5% 하에서  \n",
    "회귀계수가 통계적으로 유의하지 않다."
   ]
  },
  {
   "cell_type": "markdown",
   "id": "f9e7a790-0af0-4e18-b4af-20b9a3fe3069",
   "metadata": {},
   "source": [
    "### Q 6-2"
   ]
  },
  {
   "cell_type": "markdown",
   "id": "4f389bac-a968-421c-92e7-f461d5e1abd9",
   "metadata": {},
   "source": [
    "회귀식의 F-Statistic의 P-Value가 9.96e-08이므로 유의수준 5% 하에서  \n",
    "회귀식은 통계적으로 유의하다. "
   ]
  },
  {
   "cell_type": "markdown",
   "id": "7b2dab19-4bc6-42f5-a45a-fba2f771d355",
   "metadata": {},
   "source": [
    "## Q 7\n",
    "\n",
    "각 공장별로 12개의 제품을 추출하여 구한 정보가 A생산라인의 제품 평균은 5.7mm이고 표준편차는 0.03,  \n",
    "B생산라인의 제품 평균은 5.6mm이고 표준편차는 0.04라면  \n",
    "5%유의수준으로 두 제품의 평균이 차이가 있는지 여부를 검정하기 Z(0.05) = 1.65\n",
    "\n",
    "- 1. 귀무가설과 대립가설을 세워라\n",
    "- 2. 두 평균이 차이가 있는지 검정하라"
   ]
  },
  {
   "cell_type": "markdown",
   "id": "0608fd20-b969-481b-bc6c-b5aba4c2e7db",
   "metadata": {},
   "source": [
    "### Q 7-1\n",
    "\n",
    "- 귀무가설 H0 : 두 제품의 평균은 같다.\n",
    "- 연구가설 H1 : 두 제품의 평균은 다르다."
   ]
  },
  {
   "cell_type": "markdown",
   "id": "51d17952-4b5d-478d-83f1-f41768b96369",
   "metadata": {},
   "source": [
    "### Q 7-2\n",
    "\n",
    "- T 통계량 = (두 집단 평균의 차이) / (표본 평균들 차이에 대한 표준오차)\n",
    "- 표준오차 = 표준편차 / (표본 수) ** (1/2)"
   ]
  },
  {
   "cell_type": "code",
   "execution_count": 33,
   "id": "c0e1a166-7c01-4b40-b53f-08375b77a5e9",
   "metadata": {},
   "outputs": [
    {
     "data": {
      "text/plain": [
       "np.float64(2.1310957989212665e-12)"
      ]
     },
     "execution_count": 33,
     "metadata": {},
     "output_type": "execute_result"
    }
   ],
   "source": [
    "m1 = 5.7\n",
    "m2 = 5.6\n",
    "\n",
    "s1 = 0.03\n",
    "s2 = 0.04\n",
    "\n",
    "# se1 = 0.03 / np.sqrt(12)\n",
    "# se2 = 0.04 / np.sqrt(12)\n",
    "\n",
    "se = np.sqrt( ((s1 ** 2 / 12)  + (s2 ** 2 / 12)) )\n",
    "\n",
    "t_stat = (m1 - m2) / se\n",
    "\n",
    "pvalue = stats.norm.sf(t_stat)\n",
    "pvalue"
   ]
  },
  {
   "cell_type": "code",
   "execution_count": 34,
   "id": "efe0d285-0320-4569-a53c-273c16325b36",
   "metadata": {},
   "outputs": [
    {
     "data": {
      "text/plain": [
       "np.False_"
      ]
     },
     "execution_count": 34,
     "metadata": {},
     "output_type": "execute_result"
    }
   ],
   "source": [
    "pvalue > 0.05"
   ]
  },
  {
   "cell_type": "markdown",
   "id": "e21f4af1-540e-4c71-b76a-aee3ab7e8446",
   "metadata": {},
   "source": [
    "P-Value가 0.05 이하이므로 유의수준 5% 하에서 두 제품의 평균은 통계적으로 다르다."
   ]
  },
  {
   "cell_type": "markdown",
   "id": "cb44299c-db13-4674-8aa0-9ba235a51907",
   "metadata": {},
   "source": [
    "## Q 8\n",
    "바이러스 감염 분류표를 보고 베이지안 분류 방법을 사용해  \n",
    "양성으로 예측된 사람이 실제로 양성일 확률을 구하라"
   ]
  },
  {
   "cell_type": "code",
   "execution_count": 35,
   "id": "03a2b55f-ddbc-43d0-999a-d0108d5dfea8",
   "metadata": {},
   "outputs": [
    {
     "data": {
      "text/html": [
       "<div>\n",
       "<style scoped>\n",
       "    .dataframe tbody tr th:only-of-type {\n",
       "        vertical-align: middle;\n",
       "    }\n",
       "\n",
       "    .dataframe tbody tr th {\n",
       "        vertical-align: top;\n",
       "    }\n",
       "\n",
       "    .dataframe thead th {\n",
       "        text-align: right;\n",
       "    }\n",
       "</style>\n",
       "<table border=\"1\" class=\"dataframe\">\n",
       "  <thead>\n",
       "    <tr style=\"text-align: right;\">\n",
       "      <th></th>\n",
       "      <th>양성(실제)</th>\n",
       "      <th>음성(실제)</th>\n",
       "    </tr>\n",
       "  </thead>\n",
       "  <tbody>\n",
       "    <tr>\n",
       "      <th>양성(예측)</th>\n",
       "      <td>370</td>\n",
       "      <td>10</td>\n",
       "    </tr>\n",
       "    <tr>\n",
       "      <th>음성(예측)</th>\n",
       "      <td>10</td>\n",
       "      <td>690</td>\n",
       "    </tr>\n",
       "  </tbody>\n",
       "</table>\n",
       "</div>"
      ],
      "text/plain": [
       "        양성(실제)  음성(실제)\n",
       "양성(예측)     370      10\n",
       "음성(예측)      10     690"
      ]
     },
     "execution_count": 35,
     "metadata": {},
     "output_type": "execute_result"
    }
   ],
   "source": [
    "data = pd.DataFrame({'양성(실제)':[370,10],'음성(실제)':[10,690]},index = ['양성(예측)','음성(예측)'])\n",
    "data"
   ]
  },
  {
   "cell_type": "code",
   "execution_count": 36,
   "id": "9599f4c3-376a-4e85-8631-2282db79dbcb",
   "metadata": {},
   "outputs": [
    {
     "data": {
      "text/plain": [
       "np.int64(1080)"
      ]
     },
     "execution_count": 36,
     "metadata": {},
     "output_type": "execute_result"
    }
   ],
   "source": [
    "data.sum().sum()"
   ]
  },
  {
   "cell_type": "code",
   "execution_count": 37,
   "id": "f813bf4e-b1d6-4995-b994-d24c6c2c64ce",
   "metadata": {},
   "outputs": [],
   "source": [
    "# from sklearn.mixture import BayesianGaussianMixture"
   ]
  },
  {
   "cell_type": "code",
   "execution_count": 38,
   "id": "adbc189a-6a35-4fd7-8dcd-39b0247987fe",
   "metadata": {},
   "outputs": [],
   "source": [
    "# bgm = BayesianGaussianMixture()"
   ]
  },
  {
   "cell_type": "markdown",
   "id": "173f0741-d90a-4233-8e18-4e6416b2673b",
   "metadata": {},
   "source": [
    "- P(실제 양성|예측 양성) = P(예측 양성|실제 양성) * P(실제 양성) / P(예측 양성)\n",
    "- P(실제 양성) = (370 + 10) / 1080\n",
    "- P(예측 양성) = (370 + 10) / 1080\n",
    "- P(예측 양성|실제 양성) = P(예측 양성 ∩ 실제 양성) / P(실제 양성) = 370 / (370 + 10)\n",
    "- P(예측 양성|실제 양성) * P(실제 양성) / P(예측 양성) = (370 / 380 * 380 / 1080) / (380 / 1080)  \n",
    "  = 370 / 380"
   ]
  },
  {
   "cell_type": "code",
   "execution_count": 39,
   "id": "2a25e6b9-f179-4f00-bbcb-179876787fb0",
   "metadata": {
    "scrolled": true
   },
   "outputs": [
    {
     "data": {
      "text/plain": [
       "0.9737"
      ]
     },
     "execution_count": 39,
     "metadata": {},
     "output_type": "execute_result"
    }
   ],
   "source": [
    "round(370 / 380, 4)"
   ]
  },
  {
   "cell_type": "markdown",
   "id": "bd173aaf-0ba5-464c-9438-26dac0caa2c0",
   "metadata": {},
   "source": [
    "양성으로 예측된 사람이 실제로 양성일 확률은 약 97.37% 이다."
   ]
  },
  {
   "cell_type": "markdown",
   "id": "c622213e-fb75-4a31-92b2-2838c00f1908",
   "metadata": {},
   "source": [
    "## Q 9\n",
    "\n",
    "주어진 데이터에서 신뢰구간을 구하려한다.  \n",
    "정규분포에서 표폰을 추출함  \n",
    "[Z(0.05) = -1.65 , Z(0.025) = -1.96, T(0.05, 8) = 1.860 , T0.025(0.025, 8) = 2.306]  \n",
    "데이터(9개) : [3.1, 3.3, 3.5, 3.7, 3.9, 4.1, 4.3 4.4, 4.7]\n",
    "\n",
    "- 1. 모분산을 모르는 경우 주어진 데이터의 95% 신뢰구간을 구하라\n",
    "- 2. sigma = 0.04인걸 알고 있을때의 95% 신뢰구간을 구하라"
   ]
  },
  {
   "cell_type": "markdown",
   "id": "4b863aaa-5d40-49e3-8cc6-9bedd9f0ab59",
   "metadata": {},
   "source": [
    "### Q 9-1\n",
    "\n",
    "모분산을 모르기 때문에 T 분포를 활용하여 신뢰구간을 계산한다."
   ]
  },
  {
   "cell_type": "code",
   "execution_count": 40,
   "id": "4a2640a5-ca3f-4658-99d4-361bac901986",
   "metadata": {},
   "outputs": [],
   "source": [
    "data = [3.1, 3.3, 3.5, 3.7, 3.9, 4.1, 4.3, 4.4, 4.7]\n",
    "\n",
    "sample_std = np.std(data, ddof=1)\n",
    "n = len(data)\n",
    "se = sample_std / np.sqrt(n)\n",
    "sample_m = np.mean(data)"
   ]
  },
  {
   "cell_type": "code",
   "execution_count": 41,
   "id": "afb22ec8-96eb-4fdd-9d18-0ad858a32c48",
   "metadata": {},
   "outputs": [
    {
     "data": {
      "text/plain": [
       "(np.float64(3.478), np.float64(4.3))"
      ]
     },
     "execution_count": 41,
     "metadata": {},
     "output_type": "execute_result"
    }
   ],
   "source": [
    "lower, upper = stats.t.interval(0.95, n - 1, loc=sample_m, scale=se)\n",
    "(lower.round(3), upper.round(3))"
   ]
  },
  {
   "cell_type": "code",
   "execution_count": 42,
   "id": "a6da6a30-19e7-4660-a5d8-8c866f5b9d34",
   "metadata": {
    "scrolled": true
   },
   "outputs": [
    {
     "data": {
      "text/plain": [
       "np.float64(2.306004135204166)"
      ]
     },
     "execution_count": 42,
     "metadata": {},
     "output_type": "execute_result"
    }
   ],
   "source": [
    "t_crit = stats.t.ppf(1 - ((1 - 0.95) / 2), n - 1)\n",
    "t_crit"
   ]
  },
  {
   "cell_type": "code",
   "execution_count": 43,
   "id": "e754b7ad-70fb-4a2e-903b-311e32caa57a",
   "metadata": {},
   "outputs": [
    {
     "data": {
      "text/plain": [
       "(np.float64(3.478), np.float64(4.3))"
      ]
     },
     "execution_count": 43,
     "metadata": {},
     "output_type": "execute_result"
    }
   ],
   "source": [
    "upper = sample_m + t_crit * se\n",
    "lower = sample_m - t_crit * se\n",
    "\n",
    "(lower.round(3), upper.round(3))"
   ]
  },
  {
   "cell_type": "markdown",
   "id": "6ac7746d-18c1-4118-9502-0ce9b3f3c21c",
   "metadata": {},
   "source": [
    "### Q 9-2\n",
    "\n",
    "모분산을 알기 때문에 Z 분포를 활용하여 신뢰구간을 계산한다."
   ]
  },
  {
   "cell_type": "code",
   "execution_count": 44,
   "id": "0583310b-9fee-4ab2-9354-75d5371d7cc0",
   "metadata": {},
   "outputs": [
    {
     "data": {
      "text/plain": [
       "(np.float64(3.758), np.float64(4.02))"
      ]
     },
     "execution_count": 44,
     "metadata": {},
     "output_type": "execute_result"
    }
   ],
   "source": [
    "s = 0.04\n",
    "\n",
    "se = np.sqrt(s) / np.sqrt(n)\n",
    "\n",
    "z_score = stats.norm.ppf(0.975).round(3)\n",
    "\n",
    "upper = sample_m + z_score * se\n",
    "lower = sample_m - z_score * se\n",
    "\n",
    "(lower.round(3), upper.round(3))"
   ]
  },
  {
   "cell_type": "code",
   "execution_count": 45,
   "id": "2fbb48f7-8271-4370-bd51-b50145bd3961",
   "metadata": {},
   "outputs": [
    {
     "data": {
      "text/plain": [
       "(np.float64(3.758224623252885), np.float64(4.019553154524893))"
      ]
     },
     "execution_count": 45,
     "metadata": {},
     "output_type": "execute_result"
    }
   ],
   "source": [
    "stats.norm.interval(0.95, loc = sample_m, scale = se)"
   ]
  },
  {
   "cell_type": "markdown",
   "id": "657ef5cb-92b3-47c0-a559-9c50d2e401cd",
   "metadata": {},
   "source": [
    "- 유의확률로부터 통계량 계산 : ppf\n",
    "- 통계량으로 유의확률 계산 : cdf\n",
    "- norm.sf == 1 - norm.cdf"
   ]
  },
  {
   "cell_type": "markdown",
   "id": "2631496d-65c6-49d1-ab29-dbf40ea54947",
   "metadata": {},
   "source": [
    "## Q 10\n",
    "서울에서 영동까지 100km/h로 가고 영동에서 서울까지 80km/로 돌아왔을 때, 평균 속도는?"
   ]
  },
  {
   "cell_type": "code",
   "execution_count": 46,
   "id": "e7eec930-4dab-44bf-b44e-0b5f472c4704",
   "metadata": {},
   "outputs": [],
   "source": [
    "t1 = 1 / 100\n",
    "t2 = 1 / 80\n",
    "d = 2"
   ]
  },
  {
   "cell_type": "code",
   "execution_count": 47,
   "id": "7f0f21f7-0d30-458f-9a4c-0963cbee6a5e",
   "metadata": {},
   "outputs": [],
   "source": [
    "avg = d / (t1 + t2) # 조화 평균"
   ]
  },
  {
   "cell_type": "code",
   "execution_count": 48,
   "id": "30b76c5e-c755-48b1-a13c-fe9bf88d7723",
   "metadata": {},
   "outputs": [
    {
     "data": {
      "text/plain": [
       "88.889"
      ]
     },
     "execution_count": 48,
     "metadata": {},
     "output_type": "execute_result"
    }
   ],
   "source": [
    "round(avg, 3)"
   ]
  },
  {
   "cell_type": "markdown",
   "id": "051b81fa-17df-4708-9323-b8338642a2e9",
   "metadata": {},
   "source": [
    "평균 속도는 약 88.889 km/h 이다."
   ]
  },
  {
   "cell_type": "markdown",
   "id": "69baae8d-5619-4a5b-9394-219e3b9ebfb1",
   "metadata": {},
   "source": [
    "## Q 11\n",
    "\n",
    "연매출이 3000, 4000, 5000이었다면 연평균 몇배가 증가한 것인가?"
   ]
  },
  {
   "cell_type": "code",
   "execution_count": 49,
   "id": "f29255cd-f6cb-4dea-8652-6f9eba1d7b5e",
   "metadata": {},
   "outputs": [
    {
     "data": {
      "text/plain": [
       "1.291"
      ]
     },
     "execution_count": 49,
     "metadata": {},
     "output_type": "execute_result"
    }
   ],
   "source": [
    "round((5000 / 3000) ** (1/2), 3)"
   ]
  },
  {
   "cell_type": "markdown",
   "id": "e38e7241-45e8-478e-995c-7c65a743ad79",
   "metadata": {},
   "source": [
    "연 평균 약 1.29배 (29%) 증가했다."
   ]
  },
  {
   "cell_type": "markdown",
   "id": "1f793d57-06e5-4417-aea0-00a1b993b551",
   "metadata": {},
   "source": [
    "## Q 12\n",
    "\n",
    "남성, 여성의 등산, 수영에 대한 취미 선호도 빈도표(2x2)를 보고,  \n",
    "남성 중에서 등산을 좋아할 확률을 구하시오"
   ]
  },
  {
   "cell_type": "code",
   "execution_count": 50,
   "id": "e8988f29-97f6-49e8-89ca-951a46e7d34c",
   "metadata": {},
   "outputs": [
    {
     "data": {
      "text/html": [
       "<div>\n",
       "<style scoped>\n",
       "    .dataframe tbody tr th:only-of-type {\n",
       "        vertical-align: middle;\n",
       "    }\n",
       "\n",
       "    .dataframe tbody tr th {\n",
       "        vertical-align: top;\n",
       "    }\n",
       "\n",
       "    .dataframe thead th {\n",
       "        text-align: right;\n",
       "    }\n",
       "</style>\n",
       "<table border=\"1\" class=\"dataframe\">\n",
       "  <thead>\n",
       "    <tr style=\"text-align: right;\">\n",
       "      <th></th>\n",
       "      <th>등산</th>\n",
       "      <th>수영</th>\n",
       "    </tr>\n",
       "  </thead>\n",
       "  <tbody>\n",
       "    <tr>\n",
       "      <th>남자</th>\n",
       "      <td>20</td>\n",
       "      <td>10</td>\n",
       "    </tr>\n",
       "    <tr>\n",
       "      <th>여자</th>\n",
       "      <td>15</td>\n",
       "      <td>30</td>\n",
       "    </tr>\n",
       "  </tbody>\n",
       "</table>\n",
       "</div>"
      ],
      "text/plain": [
       "    등산  수영\n",
       "남자  20  10\n",
       "여자  15  30"
      ]
     },
     "execution_count": 50,
     "metadata": {},
     "output_type": "execute_result"
    }
   ],
   "source": [
    "data = pd.DataFrame({'등산': [20, 15], '수영':[10, 30]}, index=['남자', '여자'])\n",
    "data"
   ]
  },
  {
   "cell_type": "code",
   "execution_count": 51,
   "id": "a91ac923-261a-4ce9-bfe1-94381551e888",
   "metadata": {},
   "outputs": [
    {
     "data": {
      "text/plain": [
       "np.int64(75)"
      ]
     },
     "execution_count": 51,
     "metadata": {},
     "output_type": "execute_result"
    }
   ],
   "source": [
    "data.sum().sum()"
   ]
  },
  {
   "cell_type": "markdown",
   "id": "86c8c2b9-1225-4a74-880c-0ebc0f2499ae",
   "metadata": {},
   "source": [
    "- P(등산 | 남자) = P(등산 ∩ 남자) / P(남자) = (20 / 75) / (30 / 75) = 20 / 30"
   ]
  },
  {
   "cell_type": "code",
   "execution_count": 52,
   "id": "5b08469c-4846-4859-ba42-f1eb4c3e8a3e",
   "metadata": {},
   "outputs": [
    {
     "data": {
      "text/plain": [
       "0.667"
      ]
     },
     "execution_count": 52,
     "metadata": {},
     "output_type": "execute_result"
    }
   ],
   "source": [
    "round(20 / 30, 3)"
   ]
  },
  {
   "cell_type": "markdown",
   "id": "7c9b8947-d418-465f-9b1e-85141829e450",
   "metadata": {},
   "source": [
    "남성 중에서 등산을 좋아할 확률은 약 66.7% 이다."
   ]
  },
  {
   "cell_type": "markdown",
   "id": "1bb896a7-a08e-4391-a52e-748ff2a002c3",
   "metadata": {},
   "source": [
    "## Q 13\n",
    "\n",
    "표본 10개의 분산이 90일 때 신뢰도 95%로 모분산의 신뢰구간을 추정"
   ]
  },
  {
   "cell_type": "markdown",
   "id": "e56be436-c9e1-4cd9-8f63-285e628309e6",
   "metadata": {},
   "source": [
    "모분산의 신뢰구간을 추정하기 위해 카이제곱 분포를 활용하여 추정한다."
   ]
  },
  {
   "cell_type": "code",
   "execution_count": 53,
   "id": "628a895d-16f8-4a89-9df1-4a3d14a2789f",
   "metadata": {},
   "outputs": [
    {
     "data": {
      "text/plain": [
       "(np.float64(42.581), np.float64(299.957))"
      ]
     },
     "execution_count": 53,
     "metadata": {},
     "output_type": "execute_result"
    }
   ],
   "source": [
    "n = 10\n",
    "s2 = 90\n",
    "\n",
    "df = n - 1\n",
    "alpha = 0.05\n",
    "\n",
    "lower = (df * s2) / stats.chi2.ppf(1 - (alpha / 2), df)\n",
    "upper = (df * s2) / stats.chi2.ppf(alpha / 2, df)\n",
    "\n",
    "(lower.round(3), upper.round(3))"
   ]
  },
  {
   "cell_type": "markdown",
   "id": "77848b8b-0aa4-4650-a506-fbefb4289baf",
   "metadata": {},
   "source": [
    "## Q 14\n",
    "\n",
    "임상 대상 20명에 대해 혈압약 투약 이전과 이후의 차이가 24, 표준편차 9  \n",
    "신뢰구간 95%, 차이가 존재하는지 확인하려한다\n",
    "\n",
    "- 1. 귀무가설과 연구가설을 제시하시오\n",
    "- 2. 검정 후 귀무가설 기각 여부 제시"
   ]
  },
  {
   "cell_type": "markdown",
   "id": "695045c6-e913-46ef-b88a-0aaf0e6e7b1e",
   "metadata": {},
   "source": [
    "### Q 14-1\n",
    "\n",
    "- 귀무가설 H0 : 혈압약 투약 이전과 이후의 차이는 없다.\n",
    "- 대립가설 H1 : 혈압약 투약 이전과 이후의 차이는 있다."
   ]
  },
  {
   "cell_type": "markdown",
   "id": "466c78c6-c1ce-41b4-a7ff-ab19b6e2b5a8",
   "metadata": {},
   "source": [
    "### Q 14-2"
   ]
  },
  {
   "cell_type": "code",
   "execution_count": 54,
   "id": "078bbd09-b4b7-4752-9408-6ce578a34a9f",
   "metadata": {},
   "outputs": [
    {
     "name": "stdout",
     "output_type": "stream",
     "text": [
      "검정통계량 : 11.9257\n",
      "P-Value : 2.8772539906185557e-10\n"
     ]
    }
   ],
   "source": [
    "after = 24\n",
    "std = 9\n",
    "n = 20\n",
    "\n",
    "t_stat = 24 / (9 / np.sqrt(20))\n",
    "\n",
    "# 양측 검정\n",
    "pvalue = (1 - stats.t.cdf(t_stat, df = n - 1)) * 2\n",
    "\n",
    "print(f\"검정통계량 : {t_stat:.4f}\\nP-Value : {pvalue}\")"
   ]
  },
  {
   "cell_type": "markdown",
   "id": "88c1909f-fc04-4901-96b3-62cfba2f3111",
   "metadata": {},
   "source": [
    "P-Value가 0.05 미만이므로 귀무가설을 기각하고 연구가설을 채택,  \n",
    "통계적으로 혈압약 투약 이전과 이후의 차이가 있다."
   ]
  },
  {
   "cell_type": "markdown",
   "id": "fb5fa444-7a2a-4356-94c8-2cdb1ea90e8b",
   "metadata": {},
   "source": [
    "### P-Value 계산식\n",
    "\n",
    "- 우측 단측검정 : 모집단의 평균이 특정 값보다 크다일 경우  \n",
    "  pvalue = 1 - stats.t.cdf(t_stat, df)\n",
    "- 좌측 단측검정 : 모집단의 평균이 특정 값보다 작다일 경우  \n",
    "  pvalue = stats.t.cdf(t_stat, df)\n",
    "- 양측검정 : 모집단의 평균이 특정 값과 다를 경우  \n",
    "  pvalue = 2 * (1 - stats.t.cdf(abs(t_stat), df))"
   ]
  },
  {
   "cell_type": "markdown",
   "id": "fe4559dd-8fe1-4fdb-b4ef-54a6ba383ec2",
   "metadata": {},
   "source": [
    "## Q 15\n",
    "\n",
    "공장 X,Y,Z의 평균 출하 소요시간을 여러 일자에 거쳐 측정한 데이터이다.  \n",
    "각 공장의 중위수의 차이가 존재하는지 확인하려 한다\n",
    "\n",
    "- 1. 귀무가설과 연구가설을 제시하시오\n",
    "- 2. 검정 후 귀무가설 기각 여부 제시"
   ]
  },
  {
   "cell_type": "code",
   "execution_count": 55,
   "id": "822e3a15-5a62-4ee2-8942-9d9d7bac95b3",
   "metadata": {},
   "outputs": [
    {
     "data": {
      "text/html": [
       "<div>\n",
       "<style scoped>\n",
       "    .dataframe tbody tr th:only-of-type {\n",
       "        vertical-align: middle;\n",
       "    }\n",
       "\n",
       "    .dataframe tbody tr th {\n",
       "        vertical-align: top;\n",
       "    }\n",
       "\n",
       "    .dataframe thead th {\n",
       "        text-align: right;\n",
       "    }\n",
       "</style>\n",
       "<table border=\"1\" class=\"dataframe\">\n",
       "  <thead>\n",
       "    <tr style=\"text-align: right;\">\n",
       "      <th></th>\n",
       "      <th>출하 소요시간</th>\n",
       "      <th>공장명</th>\n",
       "      <th>공장별 출하 소요시간 순위</th>\n",
       "    </tr>\n",
       "  </thead>\n",
       "  <tbody>\n",
       "    <tr>\n",
       "      <th>0</th>\n",
       "      <td>71</td>\n",
       "      <td>Z</td>\n",
       "      <td>11</td>\n",
       "    </tr>\n",
       "    <tr>\n",
       "      <th>1</th>\n",
       "      <td>75</td>\n",
       "      <td>X</td>\n",
       "      <td>14</td>\n",
       "    </tr>\n",
       "    <tr>\n",
       "      <th>2</th>\n",
       "      <td>71</td>\n",
       "      <td>X</td>\n",
       "      <td>12</td>\n",
       "    </tr>\n",
       "    <tr>\n",
       "      <th>3</th>\n",
       "      <td>53</td>\n",
       "      <td>Z</td>\n",
       "      <td>1</td>\n",
       "    </tr>\n",
       "    <tr>\n",
       "      <th>4</th>\n",
       "      <td>50</td>\n",
       "      <td>X</td>\n",
       "      <td>1</td>\n",
       "    </tr>\n",
       "  </tbody>\n",
       "</table>\n",
       "</div>"
      ],
      "text/plain": [
       "   출하 소요시간 공장명  공장별 출하 소요시간 순위\n",
       "0       71   Z              11\n",
       "1       75   X              14\n",
       "2       71   X              12\n",
       "3       53   Z               1\n",
       "4       50   X               1"
      ]
     },
     "execution_count": 55,
     "metadata": {},
     "output_type": "execute_result"
    }
   ],
   "source": [
    "df = pd.read_csv('https://raw.githubusercontent.com/Datamanim/datarepo/main/adp/25/problem5.csv',encoding='cp949')\n",
    "df.head()"
   ]
  },
  {
   "cell_type": "markdown",
   "id": "8b4be80c-9e5d-4a33-8220-67bdad1e4230",
   "metadata": {},
   "source": [
    "### Q 15-1\n",
    "\n",
    "- 귀무가설 : 각 공장의 평균 출하 소요시간의 중위수는 차이가 없다.\n",
    "- 연구가설 : 각 공장의 평균 출하 소요시간의 중위수는 차이가 있다."
   ]
  },
  {
   "cell_type": "markdown",
   "id": "70f6c413-e93e-4242-b5f4-c5acb1f35c51",
   "metadata": {},
   "source": [
    "## Q 15-2\n",
    "\n",
    "각 공장의 중위수 차이를 검정해야 하므로 비모수 검정인  \n",
    "kruskal-wallis 검정을 진행한다."
   ]
  },
  {
   "cell_type": "code",
   "execution_count": 56,
   "id": "db105d10-2522-4808-97a3-e7b4a43a5505",
   "metadata": {},
   "outputs": [],
   "source": [
    "fac_x = df[df.공장명 == 'X']['출하 소요시간']\n",
    "fac_y = df[df.공장명 == 'Y']['출하 소요시간']\n",
    "fac_z = df[df.공장명 == 'Z']['출하 소요시간']"
   ]
  },
  {
   "cell_type": "code",
   "execution_count": 57,
   "id": "3ffdd1eb-d474-40f2-8722-35da86d14720",
   "metadata": {},
   "outputs": [
    {
     "data": {
      "text/plain": [
       "(15, 15, 14)"
      ]
     },
     "execution_count": 57,
     "metadata": {},
     "output_type": "execute_result"
    }
   ],
   "source": [
    "len(fac_x), len(fac_y), len(fac_z)"
   ]
  },
  {
   "cell_type": "code",
   "execution_count": 58,
   "id": "59ce8e0b-6d01-4c0e-87d9-690c4fc139a1",
   "metadata": {},
   "outputs": [
    {
     "data": {
      "text/plain": [
       "KruskalResult(statistic=np.float64(0.7217886080379153), pvalue=np.float64(0.6970526702392181))"
      ]
     },
     "execution_count": 58,
     "metadata": {},
     "output_type": "execute_result"
    }
   ],
   "source": [
    "stats.kruskal(fac_x, fac_y, fac_z)"
   ]
  },
  {
   "cell_type": "markdown",
   "id": "74c3aef9-be67-483b-b465-0e2a0d4588b8",
   "metadata": {},
   "source": [
    "P-Value가 약 0.697이므로 유의수준 5% 하에서 귀무가설을 채택,  \n",
    "통계적으로 각 공장의 평균 출하 소요시간의 중위수는 차이가 없다."
   ]
  },
  {
   "cell_type": "markdown",
   "id": "86c99001-43f6-4f14-b4b3-5fcf48b4c6a4",
   "metadata": {},
   "source": [
    "## Q 16\n",
    "1개년 50억원, 2개년 60억원, 3개년 70억원의 예산을 가지고  \n",
    "NPV(순현재가치)가 가장 높아지는 안을 제시하시오"
   ]
  },
  {
   "cell_type": "code",
   "execution_count": 59,
   "id": "d16559c2-6c50-4dc5-8699-be21c5275c2d",
   "metadata": {},
   "outputs": [
    {
     "data": {
      "text/html": [
       "<div>\n",
       "<style scoped>\n",
       "    .dataframe tbody tr th:only-of-type {\n",
       "        vertical-align: middle;\n",
       "    }\n",
       "\n",
       "    .dataframe tbody tr th {\n",
       "        vertical-align: top;\n",
       "    }\n",
       "\n",
       "    .dataframe thead th {\n",
       "        text-align: right;\n",
       "    }\n",
       "</style>\n",
       "<table border=\"1\" class=\"dataframe\">\n",
       "  <thead>\n",
       "    <tr style=\"text-align: right;\">\n",
       "      <th></th>\n",
       "      <th>1개년</th>\n",
       "      <th>2개년</th>\n",
       "      <th>3개년</th>\n",
       "    </tr>\n",
       "  </thead>\n",
       "  <tbody>\n",
       "    <tr>\n",
       "      <th>1안</th>\n",
       "      <td>10</td>\n",
       "      <td>20</td>\n",
       "      <td>15</td>\n",
       "    </tr>\n",
       "    <tr>\n",
       "      <th>2안</th>\n",
       "      <td>15</td>\n",
       "      <td>14</td>\n",
       "      <td>19</td>\n",
       "    </tr>\n",
       "    <tr>\n",
       "      <th>3안</th>\n",
       "      <td>12</td>\n",
       "      <td>11</td>\n",
       "      <td>30</td>\n",
       "    </tr>\n",
       "    <tr>\n",
       "      <th>4안</th>\n",
       "      <td>13</td>\n",
       "      <td>25</td>\n",
       "      <td>20</td>\n",
       "    </tr>\n",
       "    <tr>\n",
       "      <th>5안</th>\n",
       "      <td>16</td>\n",
       "      <td>30</td>\n",
       "      <td>24</td>\n",
       "    </tr>\n",
       "  </tbody>\n",
       "</table>\n",
       "</div>"
      ],
      "text/plain": [
       "    1개년  2개년  3개년\n",
       "1안   10   20   15\n",
       "2안   15   14   19\n",
       "3안   12   11   30\n",
       "4안   13   25   20\n",
       "5안   16   30   24"
      ]
     },
     "execution_count": 59,
     "metadata": {},
     "output_type": "execute_result"
    }
   ],
   "source": [
    "data = {\n",
    "    \"1개년\": [10, 15, 12, 13, 16],\n",
    "    \"2개년\": [20, 14, 11, 25, 30],\n",
    "    \"3개년\": [15, 19, 30, 20, 24],\n",
    "}\n",
    "\n",
    "df = pd.DataFrame(data, index=[\"1안\", \"2안\", \"3안\", \"4안\", \"5안\"])\n",
    "df"
   ]
  },
  {
   "cell_type": "markdown",
   "id": "8a2dca40-7fc5-4f4b-8a71-5e06ab607570",
   "metadata": {},
   "source": [
    "## Q 17\n",
    "\n",
    "철강제품의 불량률을 조사하고자 한다. 이 때, 불량률의 90%,  \n",
    "추정오차한계가 5% 이내가 되기 위하여 적절한 표본의 크기 중 최소값은 얼마인가?"
   ]
  },
  {
   "cell_type": "code",
   "execution_count": 90,
   "id": "ae25eabe-2277-42b3-ac70-9b1c4643b961",
   "metadata": {},
   "outputs": [
    {
     "name": "stdout",
     "output_type": "stream",
     "text": [
      "Z-Score: 1.645\n",
      "필요한 최소 표본 크기: 98명\n"
     ]
    }
   ],
   "source": [
    "# 주어진 값\n",
    "confidence = 0.90   # 신뢰수준\n",
    "p = 0.9             # 불량률\n",
    "e = 0.05            # 허용오차 (추정오차 한계)\n",
    "\n",
    "# Z값 계산 (양측 신뢰구간이므로 alpha/2 사용)\n",
    "alpha = 1 - confidence\n",
    "z = stats.norm.ppf(1 - alpha/2)\n",
    "\n",
    "# 표본 크기 계산 공식\n",
    "n = (z**2 * p * (1 - p)) / (e**2)\n",
    "\n",
    "print(f\"Z-Score: {z:.3f}\")\n",
    "print(f\"필요한 최소 표본 크기: {int(n) + 1}명\")\n"
   ]
  },
  {
   "cell_type": "markdown",
   "id": "d4d813b4-fb03-4671-817f-a6ff71efc8c5",
   "metadata": {},
   "source": [
    "## Q 18\n",
    "\n",
    "아래는 1월부터 9월까지의 은의 가격이다\n",
    "\n",
    "- 1. 은의 가격 및 이동평균값 3이 설정된 시계열 그래프를 그려라\n",
    "- 2. 1월 대비 9월의 은의 가격은 몇 % 올랐는가? 소수점 두번째 자리에서 반올림"
   ]
  },
  {
   "cell_type": "code",
   "execution_count": 60,
   "id": "c9539bb9-a143-450d-b146-f46dda93d846",
   "metadata": {},
   "outputs": [
    {
     "data": {
      "text/html": [
       "<div>\n",
       "<style scoped>\n",
       "    .dataframe tbody tr th:only-of-type {\n",
       "        vertical-align: middle;\n",
       "    }\n",
       "\n",
       "    .dataframe tbody tr th {\n",
       "        vertical-align: top;\n",
       "    }\n",
       "\n",
       "    .dataframe thead th {\n",
       "        text-align: right;\n",
       "    }\n",
       "</style>\n",
       "<table border=\"1\" class=\"dataframe\">\n",
       "  <thead>\n",
       "    <tr style=\"text-align: right;\">\n",
       "      <th></th>\n",
       "      <th>0</th>\n",
       "      <th>1</th>\n",
       "      <th>2</th>\n",
       "      <th>3</th>\n",
       "      <th>4</th>\n",
       "      <th>5</th>\n",
       "      <th>6</th>\n",
       "      <th>7</th>\n",
       "      <th>8</th>\n",
       "    </tr>\n",
       "  </thead>\n",
       "  <tbody>\n",
       "    <tr>\n",
       "      <th>month</th>\n",
       "      <td>1월</td>\n",
       "      <td>2월</td>\n",
       "      <td>3월</td>\n",
       "      <td>4월</td>\n",
       "      <td>5월</td>\n",
       "      <td>6월</td>\n",
       "      <td>7월</td>\n",
       "      <td>8월</td>\n",
       "      <td>9월</td>\n",
       "    </tr>\n",
       "    <tr>\n",
       "      <th>USD/oz</th>\n",
       "      <td>12.14</td>\n",
       "      <td>42.6</td>\n",
       "      <td>34.4</td>\n",
       "      <td>35.29</td>\n",
       "      <td>30.96</td>\n",
       "      <td>57.12</td>\n",
       "      <td>37.84</td>\n",
       "      <td>42.49</td>\n",
       "      <td>31.38</td>\n",
       "    </tr>\n",
       "  </tbody>\n",
       "</table>\n",
       "</div>"
      ],
      "text/plain": [
       "            0     1     2      3      4      5      6      7      8\n",
       "month      1월    2월    3월     4월     5월     6월     7월     8월     9월\n",
       "USD/oz  12.14  42.6  34.4  35.29  30.96  57.12  37.84  42.49  31.38"
      ]
     },
     "execution_count": 60,
     "metadata": {},
     "output_type": "execute_result"
    }
   ],
   "source": [
    "data = {\n",
    "    'month': ['1월', '2월', '3월', '4월', '5월', '6월', '7월', '8월', '9월'],\n",
    "    'USD/oz': [12.14, 42.6, 34.4, 35.29, 30.96, 57.12, 37.84, 42.49, 31.38]\n",
    "}\n",
    "\n",
    "df = pd.DataFrame(data)\n",
    "df.T"
   ]
  },
  {
   "cell_type": "markdown",
   "id": "83edd92d-f617-48aa-af53-3f06eb9e8d80",
   "metadata": {},
   "source": [
    "### Q 18-1"
   ]
  },
  {
   "cell_type": "code",
   "execution_count": 61,
   "id": "5f3e1504-93d0-4280-bad8-3e42c026d1fd",
   "metadata": {},
   "outputs": [],
   "source": [
    "df['month'] = pd.to_datetime(df.month, format='%m월')\n",
    "df['month'] = df['month'].dt.month\n",
    "df = df.set_index('month')"
   ]
  },
  {
   "cell_type": "code",
   "execution_count": 62,
   "id": "9b06d99d-f0a9-46db-b2f2-a6c40b37a4d5",
   "metadata": {},
   "outputs": [
    {
     "data": {
      "text/html": [
       "<div>\n",
       "<style scoped>\n",
       "    .dataframe tbody tr th:only-of-type {\n",
       "        vertical-align: middle;\n",
       "    }\n",
       "\n",
       "    .dataframe tbody tr th {\n",
       "        vertical-align: top;\n",
       "    }\n",
       "\n",
       "    .dataframe thead th {\n",
       "        text-align: right;\n",
       "    }\n",
       "</style>\n",
       "<table border=\"1\" class=\"dataframe\">\n",
       "  <thead>\n",
       "    <tr style=\"text-align: right;\">\n",
       "      <th></th>\n",
       "      <th>USD/oz</th>\n",
       "      <th>ma_3</th>\n",
       "    </tr>\n",
       "    <tr>\n",
       "      <th>month</th>\n",
       "      <th></th>\n",
       "      <th></th>\n",
       "    </tr>\n",
       "  </thead>\n",
       "  <tbody>\n",
       "    <tr>\n",
       "      <th>1</th>\n",
       "      <td>12.14</td>\n",
       "      <td>NaN</td>\n",
       "    </tr>\n",
       "    <tr>\n",
       "      <th>2</th>\n",
       "      <td>42.60</td>\n",
       "      <td>NaN</td>\n",
       "    </tr>\n",
       "    <tr>\n",
       "      <th>3</th>\n",
       "      <td>34.40</td>\n",
       "      <td>29.713333</td>\n",
       "    </tr>\n",
       "    <tr>\n",
       "      <th>4</th>\n",
       "      <td>35.29</td>\n",
       "      <td>37.430000</td>\n",
       "    </tr>\n",
       "    <tr>\n",
       "      <th>5</th>\n",
       "      <td>30.96</td>\n",
       "      <td>33.550000</td>\n",
       "    </tr>\n",
       "    <tr>\n",
       "      <th>6</th>\n",
       "      <td>57.12</td>\n",
       "      <td>41.123333</td>\n",
       "    </tr>\n",
       "    <tr>\n",
       "      <th>7</th>\n",
       "      <td>37.84</td>\n",
       "      <td>41.973333</td>\n",
       "    </tr>\n",
       "    <tr>\n",
       "      <th>8</th>\n",
       "      <td>42.49</td>\n",
       "      <td>45.816667</td>\n",
       "    </tr>\n",
       "    <tr>\n",
       "      <th>9</th>\n",
       "      <td>31.38</td>\n",
       "      <td>37.236667</td>\n",
       "    </tr>\n",
       "  </tbody>\n",
       "</table>\n",
       "</div>"
      ],
      "text/plain": [
       "       USD/oz       ma_3\n",
       "month                   \n",
       "1       12.14        NaN\n",
       "2       42.60        NaN\n",
       "3       34.40  29.713333\n",
       "4       35.29  37.430000\n",
       "5       30.96  33.550000\n",
       "6       57.12  41.123333\n",
       "7       37.84  41.973333\n",
       "8       42.49  45.816667\n",
       "9       31.38  37.236667"
      ]
     },
     "execution_count": 62,
     "metadata": {},
     "output_type": "execute_result"
    }
   ],
   "source": [
    "df['ma_3'] = df.rolling(3).mean()\n",
    "df"
   ]
  },
  {
   "cell_type": "code",
   "execution_count": 63,
   "id": "b84c9a4d-9ff9-4738-be4f-0488d1bf909d",
   "metadata": {},
   "outputs": [
    {
     "data": {
      "image/png": "[encoded data removed]",
      "text/plain": [
       "<Figure size 800x800 with 1 Axes>"
      ]
     },
     "metadata": {},
     "output_type": "display_data"
    }
   ],
   "source": [
    "import matplotlib.pyplot as plt\n",
    "\n",
    "plt.figure(figsize=(8, 8))\n",
    "\n",
    "df['USD/oz'].plot(kind='line', color='blue', label = 'Price of Silver')\n",
    "df['ma_3'].plot(kind='line', color='red', label = 'Moving Average')\n",
    "\n",
    "plt.legend()\n",
    "plt.show();"
   ]
  },
  {
   "cell_type": "markdown",
   "id": "2432e119-442d-40eb-8a29-3484015a1e2b",
   "metadata": {},
   "source": [
    "### Q 18-2"
   ]
  },
  {
   "cell_type": "code",
   "execution_count": 64,
   "id": "35fa15ba-4bfd-4ef2-9bb1-0d2310589ded",
   "metadata": {},
   "outputs": [
    {
     "data": {
      "text/plain": [
       "np.float64(158.48)"
      ]
     },
     "execution_count": 64,
     "metadata": {},
     "output_type": "execute_result"
    }
   ],
   "source": [
    "((df.loc[9, 'USD/oz'] / df.loc[1, 'USD/oz'] - 1) * 100).round(2)"
   ]
  },
  {
   "cell_type": "markdown",
   "id": "e2c65cfe-1bd3-47d9-9906-ecabec3df088",
   "metadata": {},
   "source": [
    "1월 대비 9월의 은의 가격은 약 158.48% 상승했다."
   ]
  },
  {
   "cell_type": "markdown",
   "id": "da2198fa-cc45-4ee8-b8b1-146531173133",
   "metadata": {},
   "source": [
    "## Q 19\n",
    "\n",
    "아래 그래프는 A,B,C 자치구별 W 의원에 대한 찬성, 반대 지지를 나타낸다.  \n",
    "자치구별 지지율이 같은지에 대해서 검정하라\n",
    "\n",
    "- 1. 연구가설과 귀무가설을 설정하라\n",
    "- 2. 검정통계량 구하고 결론을 내라"
   ]
  },
  {
   "cell_type": "code",
   "execution_count": 65,
   "id": "375be3bc-cac6-4ebb-b033-d49049d5967f",
   "metadata": {},
   "outputs": [
    {
     "data": {
      "text/html": [
       "<div>\n",
       "<style scoped>\n",
       "    .dataframe tbody tr th:only-of-type {\n",
       "        vertical-align: middle;\n",
       "    }\n",
       "\n",
       "    .dataframe tbody tr th {\n",
       "        vertical-align: top;\n",
       "    }\n",
       "\n",
       "    .dataframe thead th {\n",
       "        text-align: right;\n",
       "    }\n",
       "</style>\n",
       "<table border=\"1\" class=\"dataframe\">\n",
       "  <thead>\n",
       "    <tr style=\"text-align: right;\">\n",
       "      <th></th>\n",
       "      <th>A</th>\n",
       "      <th>B</th>\n",
       "      <th>C</th>\n",
       "    </tr>\n",
       "  </thead>\n",
       "  <tbody>\n",
       "    <tr>\n",
       "      <th>찬성</th>\n",
       "      <td>176</td>\n",
       "      <td>193</td>\n",
       "      <td>159</td>\n",
       "    </tr>\n",
       "    <tr>\n",
       "      <th>반대</th>\n",
       "      <td>124</td>\n",
       "      <td>107</td>\n",
       "      <td>141</td>\n",
       "    </tr>\n",
       "  </tbody>\n",
       "</table>\n",
       "</div>"
      ],
      "text/plain": [
       "      A    B    C\n",
       "찬성  176  193  159\n",
       "반대  124  107  141"
      ]
     },
     "execution_count": 65,
     "metadata": {},
     "output_type": "execute_result"
    }
   ],
   "source": [
    "data = {\n",
    "    'A': [176, 124],\n",
    "    'B': [193, 107],\n",
    "    'C': [159, 141]\n",
    "}\n",
    "\n",
    "df = pd.DataFrame(data, index=['찬성', '반대'])\n",
    "df"
   ]
  },
  {
   "cell_type": "markdown",
   "id": "1ba9ce2b-a4ee-4d4b-9212-97f4955cdf18",
   "metadata": {},
   "source": [
    "### Q 19-1\n",
    "\n",
    "- 귀무가설 H0 : 자치구별 지지율은 같다.\n",
    "- 연구가설 H1 : 자치구별 지지율은 다르다."
   ]
  },
  {
   "cell_type": "markdown",
   "id": "360f72bd-6e79-4a31-b059-6832dd5d080c",
   "metadata": {},
   "source": [
    "### Q 19-2\n",
    "\n",
    "자차구에 따른 지지율을 검정해야 하므로 독립성 검정을 진행한다."
   ]
  },
  {
   "cell_type": "code",
   "execution_count": 66,
   "id": "9aa52b8e-c32e-4c2d-b0fb-a0eed766aec1",
   "metadata": {},
   "outputs": [
    {
     "name": "stdout",
     "output_type": "stream",
     "text": [
      "검정통계량 : 7.9454\n",
      "P-Value : 0.0188\n"
     ]
    },
    {
     "data": {
      "text/plain": [
       "np.False_"
      ]
     },
     "execution_count": 66,
     "metadata": {},
     "output_type": "execute_result"
    }
   ],
   "source": [
    "result = stats.chi2_contingency(df)\n",
    "\n",
    "print(f'검정통계량 : {result.statistic:.4f}')\n",
    "print(f'P-Value : {result.pvalue:.4f}')\n",
    "\n",
    "result.pvalue >= 0.05"
   ]
  },
  {
   "cell_type": "markdown",
   "id": "c6d4d005-8490-47f9-b6cd-c879a951be06",
   "metadata": {},
   "source": [
    "P-Value가 0.05 미만이므로 유의수준 5% 하에서 귀무가설을 기각하고 대립가설을 채택,  \n",
    "통계적으로 자치구에 따른 지지율은 다르다."
   ]
  },
  {
   "cell_type": "markdown",
   "id": "606204d1-7f96-4b70-aea0-7921c0b99cbf",
   "metadata": {},
   "source": [
    "## Q 20\n",
    "\n",
    "A초등학교 남학생 16명과 여학생 9명의 혈압을 측정한 pressure.csv 를 통해  \n",
    "남녀학생의 평균 혈압에 차이가 없는지 분석하라.  \n",
    "(단, 남학생과 여학생의 혈압 데이터는 정규분포를 따르며 등분산임을 가정)\n",
    "\n",
    "- 1. 연구가설과 귀무가설을 설정하라\n",
    "- 2. 통계량을 구하고, 연구가설 채택여부를 기술하라.\n",
    "- 3. 2 에서 구한 검정 통계량 값을 바탕으로 신뢰구간을 구하라"
   ]
  },
  {
   "cell_type": "code",
   "execution_count": 67,
   "id": "17c8018a-9a81-475e-9904-64315abc4992",
   "metadata": {},
   "outputs": [
    {
     "data": {
      "text/html": [
       "<div>\n",
       "<style scoped>\n",
       "    .dataframe tbody tr th:only-of-type {\n",
       "        vertical-align: middle;\n",
       "    }\n",
       "\n",
       "    .dataframe tbody tr th {\n",
       "        vertical-align: top;\n",
       "    }\n",
       "\n",
       "    .dataframe thead th {\n",
       "        text-align: right;\n",
       "    }\n",
       "</style>\n",
       "<table border=\"1\" class=\"dataframe\">\n",
       "  <thead>\n",
       "    <tr style=\"text-align: right;\">\n",
       "      <th></th>\n",
       "      <th>gender</th>\n",
       "      <th>pressure</th>\n",
       "    </tr>\n",
       "  </thead>\n",
       "  <tbody>\n",
       "    <tr>\n",
       "      <th>0</th>\n",
       "      <td>male</td>\n",
       "      <td>106.8</td>\n",
       "    </tr>\n",
       "    <tr>\n",
       "      <th>1</th>\n",
       "      <td>male</td>\n",
       "      <td>100.8</td>\n",
       "    </tr>\n",
       "    <tr>\n",
       "      <th>2</th>\n",
       "      <td>male</td>\n",
       "      <td>84.5</td>\n",
       "    </tr>\n",
       "    <tr>\n",
       "      <th>3</th>\n",
       "      <td>male</td>\n",
       "      <td>104.2</td>\n",
       "    </tr>\n",
       "    <tr>\n",
       "      <th>4</th>\n",
       "      <td>male</td>\n",
       "      <td>107.0</td>\n",
       "    </tr>\n",
       "  </tbody>\n",
       "</table>\n",
       "</div>"
      ],
      "text/plain": [
       "  gender  pressure\n",
       "0   male     106.8\n",
       "1   male     100.8\n",
       "2   male      84.5\n",
       "3   male     104.2\n",
       "4   male     107.0"
      ]
     },
     "execution_count": 67,
     "metadata": {},
     "output_type": "execute_result"
    }
   ],
   "source": [
    "df = pd.read_csv('https://raw.githubusercontent.com/Datamanim/datarepo/main/adp/26/pressure.csv')\n",
    "df.head()"
   ]
  },
  {
   "cell_type": "markdown",
   "id": "6dea05b1-0830-4312-8287-dad6b1b1ea7f",
   "metadata": {},
   "source": [
    "### Q 20-1\n",
    "\n",
    "- 귀무가설 H0 : 남녀학생의 평균 혈압은 차이가 없다.\n",
    "- 연구가설 H1 : 남녀학생의 평균 혈압은 차이가 있다."
   ]
  },
  {
   "cell_type": "markdown",
   "id": "c13f616a-0945-44d2-84b0-33a878b0c5e2",
   "metadata": {},
   "source": [
    "### Q 20-2\n",
    "\n",
    "남녀학생별 혈압은 정규분포를 따르고, 등분산이므로  \n",
    "독립 표본 T-검정을 진행한다."
   ]
  },
  {
   "cell_type": "code",
   "execution_count": 68,
   "id": "7133992e-c83b-411d-9b5d-01855f5b84b0",
   "metadata": {},
   "outputs": [
    {
     "data": {
      "text/plain": [
       "True"
      ]
     },
     "execution_count": 68,
     "metadata": {},
     "output_type": "execute_result"
    }
   ],
   "source": [
    "male_df = df[df.gender == 'male'].pressure\n",
    "female_df = df[df.gender == 'female'].pressure\n",
    "\n",
    "len(df) == len(male_df) + len(female_df)"
   ]
  },
  {
   "cell_type": "code",
   "execution_count": 69,
   "id": "62badd51-fa31-4795-b32f-59d3f5e80b45",
   "metadata": {},
   "outputs": [
    {
     "data": {
      "text/plain": [
       "TtestResult(statistic=np.float64(1.598335024574904), pvalue=np.float64(0.12361716364314851), df=np.float64(23.0))"
      ]
     },
     "execution_count": 69,
     "metadata": {},
     "output_type": "execute_result"
    }
   ],
   "source": [
    "result = stats.ttest_ind(male_df, female_df, alternative='two-sided')\n",
    "result"
   ]
  },
  {
   "cell_type": "code",
   "execution_count": 70,
   "id": "7f24ae6f-e710-40ab-b4cf-3e12154b8ccc",
   "metadata": {},
   "outputs": [
    {
     "name": "stdout",
     "output_type": "stream",
     "text": [
      "검정통계량 : 1.5983\n",
      "P-Value : 0.1236\n",
      "귀무가설 채택\n"
     ]
    }
   ],
   "source": [
    "print(f\"검정통계량 : {result.statistic:.4f}\")\n",
    "print(f\"P-Value : {result.pvalue:.4f}\")\n",
    "\n",
    "if result.pvalue >= 0.05:\n",
    "    print('귀무가설 채택')"
   ]
  },
  {
   "cell_type": "markdown",
   "id": "f2470762-d748-455e-a0cb-e5a7fd2ed8df",
   "metadata": {},
   "source": [
    "P-Value가 0.05 이상이므로 유의수준 5% 하에서 귀무가설을 채택,  \n",
    "통계적으로 남녀학생의 평균 혈압은 차이가 없다."
   ]
  },
  {
   "cell_type": "markdown",
   "id": "dc5baa59-eeb0-4430-87c4-dfe40c997d72",
   "metadata": {},
   "source": [
    "### Q 20-3\n"
   ]
  },
  {
   "cell_type": "code",
   "execution_count": 71,
   "id": "49c6b20b-0a7f-4fae-8c2b-8d1ae1fbfccf",
   "metadata": {},
   "outputs": [],
   "source": [
    "n1 = len(male_df)\n",
    "n2 = len(female_df)\n",
    "\n",
    "var1 = np.var(male_df, ddof=1)\n",
    "var2 = np.var(female_df, ddof=1)\n",
    "\n",
    "df1 = n1 - 1\n",
    "df2 = n2 - 1\n",
    "\n",
    "m1 = np.mean(male_df)\n",
    "m2 = np.mean(female_df)\n",
    "\n",
    "sp2 = (df1 * var1 + df2 * var2) / (df1 + df2)\n",
    "\n",
    "se = np.sqrt(sp2 * (1 / n1 + 1 / n2))\n",
    "\n",
    "t_crit = stats.t.ppf(1 - ((1 - 0.95) / 2), df1 + df2)\n",
    "\n",
    "lower = (m1 - m2) - t_crit * se\n",
    "upper = (m1 - m2) + t_crit * se"
   ]
  },
  {
   "cell_type": "code",
   "execution_count": 72,
   "id": "57754563-4149-49b8-a17d-f9317d0ea2fb",
   "metadata": {},
   "outputs": [
    {
     "data": {
      "text/plain": [
       "(np.float64(-1.856), np.float64(14.471))"
      ]
     },
     "execution_count": 72,
     "metadata": {},
     "output_type": "execute_result"
    }
   ],
   "source": [
    "lower.round(3), upper.round(3)"
   ]
  },
  {
   "cell_type": "code",
   "execution_count": 73,
   "id": "d304adcf-7be7-47db-8df3-ce68e40317a3",
   "metadata": {},
   "outputs": [
    {
     "data": {
      "text/plain": [
       "(np.float64(-1.856), np.float64(14.471))"
      ]
     },
     "execution_count": 73,
     "metadata": {},
     "output_type": "execute_result"
    }
   ],
   "source": [
    "lower, upper = stats.t.interval(0.95, df1 + df2, loc=m1 - m2, scale=se)\n",
    "lower.round(3), upper.round(3)"
   ]
  },
  {
   "cell_type": "markdown",
   "id": "45c7e099-988e-4dea-9796-18b6e377e85d",
   "metadata": {},
   "source": [
    "## Q 21\n",
    "\n",
    "height(키), weight(몸무게), waist(허리둘레) 컬럼을 가진 problem7.csv로 다음을 분석하라  \n",
    "A시의 20대 남성 411명을 임의로 추출하여 키, 몸무게, 허리둘레를 조사하여 기록한 데이터이다.  \n",
    "이 데이터를 이용하여 20대 남성의 키와 허리둘레가 체중에 영향을 미치는지 알아보고자 한다.\n",
    "\n",
    "- 1. 아래 조건을 참고하여 회귀계수(반올림하여 소수점 두자리)를 구하시오.\n",
    "  - 베이지안 회귀\n",
    "  - 시드넘버 1234로 지정\n",
    "  - 1000번의 burn-in 이후 10,000의 MCMC를 수행\n",
    "  - 회귀계수의 사전분포는 부적절한 균일분포(inproper uniform prior distribution),  \n",
    "    오차항의 분산의 사전분포는 역감마 분포로 지정.  \n",
    "    이때, 형상(Shape)모수와 척도(Scale)모수는 각각 0.005로 지정.\n",
    "- 2. 위에서 만든 모델을 바탕으로 키 180cm, 허리둘레 85cm인 남성의 몸무게를 추정하라"
   ]
  },
  {
   "cell_type": "code",
   "execution_count": 104,
   "id": "38c18e85-df20-485b-add1-2f6e917f8ee5",
   "metadata": {},
   "outputs": [
    {
     "data": {
      "text/html": [
       "<div>\n",
       "<style scoped>\n",
       "    .dataframe tbody tr th:only-of-type {\n",
       "        vertical-align: middle;\n",
       "    }\n",
       "\n",
       "    .dataframe tbody tr th {\n",
       "        vertical-align: top;\n",
       "    }\n",
       "\n",
       "    .dataframe thead th {\n",
       "        text-align: right;\n",
       "    }\n",
       "</style>\n",
       "<table border=\"1\" class=\"dataframe\">\n",
       "  <thead>\n",
       "    <tr style=\"text-align: right;\">\n",
       "      <th></th>\n",
       "      <th>height</th>\n",
       "      <th>weight</th>\n",
       "      <th>waistline</th>\n",
       "    </tr>\n",
       "  </thead>\n",
       "  <tbody>\n",
       "    <tr>\n",
       "      <th>0</th>\n",
       "      <td>174.396</td>\n",
       "      <td>72.102</td>\n",
       "      <td>79.3787</td>\n",
       "    </tr>\n",
       "    <tr>\n",
       "      <th>1</th>\n",
       "      <td>179.656</td>\n",
       "      <td>81.255</td>\n",
       "      <td>80.6649</td>\n",
       "    </tr>\n",
       "    <tr>\n",
       "      <th>2</th>\n",
       "      <td>175.079</td>\n",
       "      <td>76.207</td>\n",
       "      <td>80.3166</td>\n",
       "    </tr>\n",
       "    <tr>\n",
       "      <th>3</th>\n",
       "      <td>180.804</td>\n",
       "      <td>81.354</td>\n",
       "      <td>80.8794</td>\n",
       "    </tr>\n",
       "    <tr>\n",
       "      <th>4</th>\n",
       "      <td>177.448</td>\n",
       "      <td>78.768</td>\n",
       "      <td>80.3499</td>\n",
       "    </tr>\n",
       "  </tbody>\n",
       "</table>\n",
       "</div>"
      ],
      "text/plain": [
       "    height  weight  waistline\n",
       "0  174.396  72.102    79.3787\n",
       "1  179.656  81.255    80.6649\n",
       "2  175.079  76.207    80.3166\n",
       "3  180.804  81.354    80.8794\n",
       "4  177.448  78.768    80.3499"
      ]
     },
     "execution_count": 104,
     "metadata": {},
     "output_type": "execute_result"
    }
   ],
   "source": [
    "df = pd.read_csv('https://raw.githubusercontent.com/Datamanim/datarepo/main/adp/26/problem7.csv')\n",
    "df.head()"
   ]
  },
  {
   "cell_type": "code",
   "execution_count": 106,
   "id": "e1e87399-45e5-4490-a0ce-41315ca7bb34",
   "metadata": {
    "scrolled": true
   },
   "outputs": [],
   "source": [
    "import pymc as pm\n",
    "\n",
    "height = df[\"height\"]\n",
    "waist = df[\"waistline\"]\n",
    "weight = df[\"weight\"]\n",
    "\n",
    "# 베이지안 회귀모형 설정\n",
    "with pm.Model() as model:\n",
    "    # 사전분포 (부적절한 균일분포는 넓은 Normal로 근사 가능)\n",
    "    beta_0 = pm.Flat(\"beta_0\")\n",
    "    beta_h = pm.Flat(\"beta_h\")\n",
    "    beta_w = pm.Flat(\"beta_w\")\n",
    "    \n",
    "    # 오차항 분산의 사전분포 (Inverse-Gamma)\n",
    "    sigma2 = pm.InverseGamma(\"sigma2\", alpha=0.005, beta=0.005)\n",
    "    sigma = pm.Deterministic(\"sigma\", sigma2**0.5)\n",
    "    \n",
    "    # 선형모형\n",
    "    mu = beta_0 + beta_h * height + beta_w * waist\n",
    "    \n",
    "    # 관측값\n",
    "    y_obs = pm.Normal(\"y_obs\", mu=mu, sigma=sigma, observed=weight)\n",
    "    \n",
    "    # 샘플링\n",
    "    trace = pm.sample(10000, tune=1000, random_seed=1234)\n",
    "\n",
    "# 회귀계수 요약\n",
    "print(pm.summary(trace, var_names=[\"beta_0\", \"beta_h\", \"beta_w\"]))\n",
    "\n",
    "# 예측\n",
    "pred_weight = trace.posterior[\"beta_0\"].mean() + \\\n",
    "               trace.posterior[\"beta_h\"].mean() * 180 + \\\n",
    "               trace.posterior[\"beta_w\"].mean() * 85\n",
    "\n",
    "print(f\"예측된 몸무게: {pred_weight.values:.2f} kg\")"
   ]
  },
  {
   "cell_type": "markdown",
   "id": "8692577a-76d0-41c5-aa74-05c234b39d7b",
   "metadata": {},
   "source": [
    "## Q 22\n",
    "\n",
    "2년 전 제품 생산량이 100,000개, 1년 전 제품 생산량이 150,000개,  \n",
    "그 후 팩토리 기술의 상승으로 제품 생산량이 250,000개 되었을 때,  \n",
    "연평균 상승률의 대푯값을 구하시오.  \n",
    "(반올림하여 소수점 아래 둘째 자리까지 표기)"
   ]
  },
  {
   "cell_type": "code",
   "execution_count": 75,
   "id": "0bd4c68b-5cdd-49ad-b02a-ab29109a4d5c",
   "metadata": {},
   "outputs": [
    {
     "data": {
      "text/plain": [
       "58.11"
      ]
     },
     "execution_count": 75,
     "metadata": {},
     "output_type": "execute_result"
    }
   ],
   "source": [
    "round(((25 / 10) ** (1/2) - 1) * 100, 2) "
   ]
  },
  {
   "cell_type": "markdown",
   "id": "e8b81127-92ab-4699-aa97-17c1ab9e3a29",
   "metadata": {},
   "source": [
    "연평균 상승률의 대표값은 58.11% 이다."
   ]
  },
  {
   "cell_type": "markdown",
   "id": "a4cb31be-26ae-4d11-a4ef-52a7d87ef2d2",
   "metadata": {},
   "source": [
    "## Q 23\n",
    "\n",
    "12건의 광고 시간 측정. 평균 15.5초, 분산 3.2초 일때 90% 신뢰구간은?"
   ]
  },
  {
   "cell_type": "code",
   "execution_count": 76,
   "id": "04edd34f-6588-477d-81bb-7beb4533f740",
   "metadata": {},
   "outputs": [
    {
     "data": {
      "text/plain": [
       "(np.float64(14.572609067393861), np.float64(16.427390932606137))"
      ]
     },
     "execution_count": 76,
     "metadata": {},
     "output_type": "execute_result"
    }
   ],
   "source": [
    "alpha = 0.1\n",
    "\n",
    "mu = 15.5\n",
    "var = 3.2\n",
    "n = 12\n",
    "\n",
    "se = (var / n) ** (1/2)\n",
    "\n",
    "t_crit = stats.t.ppf(1 - alpha / 2, n - 1)\n",
    "\n",
    "lower = mu - t_crit * se\n",
    "upper = mu + t_crit * se\n",
    "\n",
    "(lower, upper)"
   ]
  },
  {
   "cell_type": "markdown",
   "id": "13556306-c254-4e01-9224-b5ca7295ca9d",
   "metadata": {},
   "source": [
    "- t.interval : 신뢰구간 계산\n",
    "  - 신뢰구간 (90% 또는 95% 등)\n",
    "  - 자유도 (n - 1)\n",
    "  - loc = 평균\n",
    "  - scale = 표준오차 (표준편차 / np.sqrt(표본수))"
   ]
  },
  {
   "cell_type": "code",
   "execution_count": 77,
   "id": "6be4647c-5707-43a0-8e39-94f44d206a1e",
   "metadata": {},
   "outputs": [
    {
     "data": {
      "text/plain": [
       "(np.float64(14.572609067393861), np.float64(16.427390932606137))"
      ]
     },
     "execution_count": 77,
     "metadata": {},
     "output_type": "execute_result"
    }
   ],
   "source": [
    "stats.t.interval(0.90, n-1, loc=mu, scale=np.sqrt(var) / np.sqrt(n))"
   ]
  },
  {
   "cell_type": "markdown",
   "id": "fcfd7aea-ac15-4052-9377-91ed5e400b93",
   "metadata": {},
   "source": [
    "## Q 24\n",
    "\n",
    "강의 상류와 하류의 생물 다양성 점수에 차이가 있는지 검정하시오.  \n",
    "(단, 같은 강에서 상류와 하류는 서로 독립적이지 않으며, 종속적인 관계에 있다.)\n",
    "\n",
    "- 1. 귀무가설과 대립가설을 세우시오\n",
    "- 2. 검정 통계량과 유의 확률을 구하고, 연구가설 채택여부를 검정하시오."
   ]
  },
  {
   "cell_type": "code",
   "execution_count": 91,
   "id": "523f1e52-768a-4f56-ab2e-50b28943d360",
   "metadata": {},
   "outputs": [
    {
     "data": {
      "text/html": [
       "<div>\n",
       "<style scoped>\n",
       "    .dataframe tbody tr th:only-of-type {\n",
       "        vertical-align: middle;\n",
       "    }\n",
       "\n",
       "    .dataframe tbody tr th {\n",
       "        vertical-align: top;\n",
       "    }\n",
       "\n",
       "    .dataframe thead th {\n",
       "        text-align: right;\n",
       "    }\n",
       "</style>\n",
       "<table border=\"1\" class=\"dataframe\">\n",
       "  <thead>\n",
       "    <tr style=\"text-align: right;\">\n",
       "      <th></th>\n",
       "      <th>River</th>\n",
       "      <th>up</th>\n",
       "      <th>down</th>\n",
       "    </tr>\n",
       "  </thead>\n",
       "  <tbody>\n",
       "    <tr>\n",
       "      <th>0</th>\n",
       "      <td>A</td>\n",
       "      <td>57.1</td>\n",
       "      <td>45.7</td>\n",
       "    </tr>\n",
       "    <tr>\n",
       "      <th>1</th>\n",
       "      <td>B</td>\n",
       "      <td>51.6</td>\n",
       "      <td>37.2</td>\n",
       "    </tr>\n",
       "    <tr>\n",
       "      <th>2</th>\n",
       "      <td>C</td>\n",
       "      <td>53.9</td>\n",
       "      <td>53.3</td>\n",
       "    </tr>\n",
       "    <tr>\n",
       "      <th>3</th>\n",
       "      <td>D</td>\n",
       "      <td>59.0</td>\n",
       "      <td>54.3</td>\n",
       "    </tr>\n",
       "    <tr>\n",
       "      <th>4</th>\n",
       "      <td>E</td>\n",
       "      <td>57.5</td>\n",
       "      <td>46.3</td>\n",
       "    </tr>\n",
       "  </tbody>\n",
       "</table>\n",
       "</div>"
      ],
      "text/plain": [
       "  River    up  down\n",
       "0     A  57.1  45.7\n",
       "1     B  51.6  37.2\n",
       "2     C  53.9  53.3\n",
       "3     D  59.0  54.3\n",
       "4     E  57.5  46.3"
      ]
     },
     "execution_count": 91,
     "metadata": {},
     "output_type": "execute_result"
    }
   ],
   "source": [
    "df = pd.read_csv('https://raw.githubusercontent.com/Datamanim/datarepo/main/adp/27/river.csv')\n",
    "df.head()"
   ]
  },
  {
   "cell_type": "markdown",
   "id": "ae6ffbc4-d0f7-4036-8ba6-bacc0ca18c98",
   "metadata": {},
   "source": [
    "### Q 24-1\n",
    "\n",
    "- 귀무가설 H0 : 생물 다양성 점수에 차이가 없다.\n",
    "- 대립가설 H1 : 생물 다양성 점수에 차이가 있다."
   ]
  },
  {
   "cell_type": "markdown",
   "id": "fa02b5ae-7499-49c3-80d7-5bcbfdd31858",
   "metadata": {},
   "source": [
    "### Q 24-2"
   ]
  },
  {
   "cell_type": "code",
   "execution_count": 94,
   "id": "1f7d3f50-9e5d-4dfa-b856-9ecf25ec25b8",
   "metadata": {},
   "outputs": [
    {
     "data": {
      "text/plain": [
       "(array(['A', 'B', 'C', 'D', 'E', 'F', 'G', 'H', 'I', 'J', 'K', 'L', 'M',\n",
       "        'N', 'O', 'P', 'Q', 'R', 'S'], dtype=object),\n",
       " 19)"
      ]
     },
     "execution_count": 94,
     "metadata": {},
     "output_type": "execute_result"
    }
   ],
   "source": [
    "df.River.unique(), df.River.nunique()"
   ]
  },
  {
   "cell_type": "code",
   "execution_count": 93,
   "id": "55496f23-c9e8-4d4f-b7fc-ca1fe4505c80",
   "metadata": {},
   "outputs": [
    {
     "data": {
      "text/plain": [
       "19"
      ]
     },
     "execution_count": 93,
     "metadata": {},
     "output_type": "execute_result"
    }
   ],
   "source": [
    "len(df)"
   ]
  },
  {
   "cell_type": "markdown",
   "id": "ad56d326-5f6f-485a-8f49-98380d87daa9",
   "metadata": {},
   "source": [
    "같은 강에서 상류와 하류는 서로 독립적이지 않기 때문에  \n",
    "정규성 만족한다면 대응 표본 T-검정을 진행한다.\n",
    "\n",
    "데이터가 5000개 미만이므로 shapiro-wilk 검정을 진행한다.\n",
    "\n",
    "### 정규성 검정\n",
    "- 귀무가설 : 정규성을 만족한다.\n",
    "- 대립가설 : 정규성을 불만족한다."
   ]
  },
  {
   "cell_type": "code",
   "execution_count": 95,
   "id": "32583e08-7294-4a01-925b-5bf4d2b11045",
   "metadata": {},
   "outputs": [],
   "source": [
    "up = df.up\n",
    "down = df.down"
   ]
  },
  {
   "cell_type": "code",
   "execution_count": 96,
   "id": "e1c36e36-a79c-46b3-906a-64fea11d648a",
   "metadata": {},
   "outputs": [
    {
     "data": {
      "text/plain": [
       "(np.float64(0.6447678118884479), np.float64(0.9640817488568015))"
      ]
     },
     "execution_count": 96,
     "metadata": {},
     "output_type": "execute_result"
    }
   ],
   "source": [
    "pval_a = stats.shapiro(up)\n",
    "pval_b = stats.shapiro(down)\n",
    "\n",
    "(pval_a.pvalue, pval_b.pvalue)"
   ]
  },
  {
   "cell_type": "markdown",
   "id": "feb3989b-2405-4b2a-a56d-7f59223e9bf9",
   "metadata": {},
   "source": [
    "정규성을 만족하므로 대응 표본 T-검정을 진행한다."
   ]
  },
  {
   "cell_type": "code",
   "execution_count": 100,
   "id": "74f2d5c2-c8a1-4ca8-8e13-d7926705b10f",
   "metadata": {},
   "outputs": [
    {
     "data": {
      "text/plain": [
       "TtestResult(statistic=np.float64(1.2922226959983891), pvalue=np.float64(0.21262429174344777), df=np.int64(18))"
      ]
     },
     "execution_count": 100,
     "metadata": {},
     "output_type": "execute_result"
    }
   ],
   "source": [
    "stats.ttest_rel(up, down)"
   ]
  },
  {
   "cell_type": "markdown",
   "id": "62709dbf-709c-41dc-b6b4-e2caa90e85cd",
   "metadata": {},
   "source": [
    "P-Value가 0.05 이상이므로 귀무가설을 채택, 유의수준 5% 하에서  \n",
    "통계적으로 상류와 하류의 생물 다양성 점수에 차이가 없다."
   ]
  },
  {
   "cell_type": "markdown",
   "id": "d416f866-a889-443b-b95e-d8e64721df45",
   "metadata": {},
   "source": [
    "## Q 25\n",
    "\n",
    "user_counts를 종속변수로 하는 데이터이다\n",
    "\n",
    "- 1. 분위수 회귀분석 (Quantile Regression) 을 사용하여 회귀 계수를 구하시오.  \n",
    "  (반올림하여 소수점 아래 둘째자리까지 표기하시오.)\n",
    "- 2. 1의 모델의 회귀계수를 활용하여 temperature : 10.5, wind : 8.2,  \n",
    "  precipitation : 3.5 일때 user_counts를 예측하시오"
   ]
  },
  {
   "cell_type": "code",
   "execution_count": 111,
   "id": "5d000fdf-292c-4c06-9c42-03415b012899",
   "metadata": {},
   "outputs": [
    {
     "data": {
      "text/html": [
       "<div>\n",
       "<style scoped>\n",
       "    .dataframe tbody tr th:only-of-type {\n",
       "        vertical-align: middle;\n",
       "    }\n",
       "\n",
       "    .dataframe tbody tr th {\n",
       "        vertical-align: top;\n",
       "    }\n",
       "\n",
       "    .dataframe thead th {\n",
       "        text-align: right;\n",
       "    }\n",
       "</style>\n",
       "<table border=\"1\" class=\"dataframe\">\n",
       "  <thead>\n",
       "    <tr style=\"text-align: right;\">\n",
       "      <th></th>\n",
       "      <th>temperature</th>\n",
       "      <th>wind</th>\n",
       "      <th>precipitation</th>\n",
       "      <th>user_counts</th>\n",
       "    </tr>\n",
       "  </thead>\n",
       "  <tbody>\n",
       "    <tr>\n",
       "      <th>0</th>\n",
       "      <td>10.400000</td>\n",
       "      <td>4.600</td>\n",
       "      <td>0.844944</td>\n",
       "      <td>6368</td>\n",
       "    </tr>\n",
       "    <tr>\n",
       "      <th>1</th>\n",
       "      <td>5.666667</td>\n",
       "      <td>4.625</td>\n",
       "      <td>0.040860</td>\n",
       "      <td>5902</td>\n",
       "    </tr>\n",
       "    <tr>\n",
       "      <th>2</th>\n",
       "      <td>4.933333</td>\n",
       "      <td>4.725</td>\n",
       "      <td>0.008696</td>\n",
       "      <td>6226</td>\n",
       "    </tr>\n",
       "    <tr>\n",
       "      <th>3</th>\n",
       "      <td>3.400000</td>\n",
       "      <td>2.675</td>\n",
       "      <td>0.156989</td>\n",
       "      <td>5829</td>\n",
       "    </tr>\n",
       "    <tr>\n",
       "      <th>4</th>\n",
       "      <td>8.900000</td>\n",
       "      <td>3.950</td>\n",
       "      <td>7.988462</td>\n",
       "      <td>7589</td>\n",
       "    </tr>\n",
       "  </tbody>\n",
       "</table>\n",
       "</div>"
      ],
      "text/plain": [
       "   temperature   wind  precipitation  user_counts\n",
       "0    10.400000  4.600       0.844944         6368\n",
       "1     5.666667  4.625       0.040860         5902\n",
       "2     4.933333  4.725       0.008696         6226\n",
       "3     3.400000  2.675       0.156989         5829\n",
       "4     8.900000  3.950       7.988462         7589"
      ]
     },
     "execution_count": 111,
     "metadata": {},
     "output_type": "execute_result"
    }
   ],
   "source": [
    "df = pd.read_csv('https://raw.githubusercontent.com/Datamanim/datarepo/main/adp/27/problem8.csv')\n",
    "df.head()"
   ]
  },
  {
   "cell_type": "markdown",
   "id": "bc5afeba-0925-49a6-ac2c-f563ead241de",
   "metadata": {},
   "source": [
    "### Q 25-1"
   ]
  },
  {
   "cell_type": "code",
   "execution_count": 127,
   "id": "390f853e-9b4d-46bf-83fe-cf82528c3484",
   "metadata": {},
   "outputs": [
    {
     "name": "stdout",
     "output_type": "stream",
     "text": [
      "X1 : 213.49, X2 : 0.0, X3 : 0.0\n"
     ]
    }
   ],
   "source": [
    "from sklearn.linear_model import QuantileRegressor\n",
    "\n",
    "qr = QuantileRegressor()\n",
    "x = df.iloc[:, :-1]\n",
    "y = df.iloc[:, -1:]\n",
    "\n",
    "qr.fit(x, y)\n",
    "\n",
    "x1, x2, x3 = qr.coef_\n",
    "bias = qr.intercept_\n",
    "\n",
    "print(f\"X1 : {x1.round(2)}, X2 : {x2.round(2)}, X3 : {x3.round(2)}\")"
   ]
  },
  {
   "cell_type": "markdown",
   "id": "704dede9-c66b-4230-87d8-59c5a7d8e47c",
   "metadata": {},
   "source": [
    "### Q 25-2"
   ]
  },
  {
   "cell_type": "code",
   "execution_count": 131,
   "id": "4ddef3e5-3c7c-41c9-9caa-ebaf8b30a493",
   "metadata": {},
   "outputs": [
    {
     "data": {
      "text/plain": [
       "np.float64(8278.75)"
      ]
     },
     "execution_count": 131,
     "metadata": {},
     "output_type": "execute_result"
    }
   ],
   "source": [
    "user_counts = 10.5 * x1 + 8.2 * x2 + 3.5 * x3 + bias\n",
    "user_counts.round(2)"
   ]
  }
 ],
 "metadata": {
  "kernelspec": {
   "display_name": "Python 3 (ipykernel)",
   "language": "python",
   "name": "python3"
  },
  "language_info": {
   "codemirror_mode": {
    "name": "ipython",
    "version": 3
   },
   "file_extension": ".py",
   "mimetype": "text/x-python",
   "name": "python",
   "nbconvert_exporter": "python",
   "pygments_lexer": "ipython3",
   "version": "3.10.11"
  }
 },
 "nbformat": 4,
 "nbformat_minor": 5
}
