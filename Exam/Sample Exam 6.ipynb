{
 "cells": [
  {
   "cell_type": "code",
   "execution_count": 1,
   "id": "65867289-fcc0-4ab7-8bbb-9005df266271",
   "metadata": {},
   "outputs": [],
   "source": [
    "import pandas as pd\n",
    "import numpy as np\n",
    "import matplotlib.pyplot as plt\n",
    "import seaborn as sns\n",
    "\n",
    "import warnings, time\n",
    "\n",
    "from scipy import stats"
   ]
  },
  {
   "cell_type": "code",
   "execution_count": 3,
   "id": "8e0b9ad4-364d-4e05-b0b9-7d6713af618d",
   "metadata": {},
   "outputs": [
    {
     "data": {
      "text/html": [
       "<div>\n",
       "<style scoped>\n",
       "    .dataframe tbody tr th:only-of-type {\n",
       "        vertical-align: middle;\n",
       "    }\n",
       "\n",
       "    .dataframe tbody tr th {\n",
       "        vertical-align: top;\n",
       "    }\n",
       "\n",
       "    .dataframe thead th {\n",
       "        text-align: right;\n",
       "    }\n",
       "</style>\n",
       "<table border=\"1\" class=\"dataframe\">\n",
       "  <thead>\n",
       "    <tr style=\"text-align: right;\">\n",
       "      <th></th>\n",
       "      <th>school</th>\n",
       "      <th>sex</th>\n",
       "      <th>age</th>\n",
       "      <th>address</th>\n",
       "      <th>famsize</th>\n",
       "      <th>Pstatus</th>\n",
       "      <th>Medu</th>\n",
       "      <th>Fedu</th>\n",
       "      <th>reason</th>\n",
       "      <th>guardian</th>\n",
       "      <th>traveltime</th>\n",
       "      <th>studytime</th>\n",
       "      <th>failures</th>\n",
       "      <th>paid</th>\n",
       "      <th>activities</th>\n",
       "      <th>famrel</th>\n",
       "      <th>freetime</th>\n",
       "      <th>absences_grade</th>\n",
       "    </tr>\n",
       "  </thead>\n",
       "  <tbody>\n",
       "    <tr>\n",
       "      <th>0</th>\n",
       "      <td>GP</td>\n",
       "      <td>F</td>\n",
       "      <td>18</td>\n",
       "      <td>U</td>\n",
       "      <td>GT3</td>\n",
       "      <td>A</td>\n",
       "      <td>4</td>\n",
       "      <td>4</td>\n",
       "      <td>course</td>\n",
       "      <td>mother</td>\n",
       "      <td>2</td>\n",
       "      <td>2</td>\n",
       "      <td>0</td>\n",
       "      <td>no</td>\n",
       "      <td>no</td>\n",
       "      <td>4</td>\n",
       "      <td>3</td>\n",
       "      <td>3.0</td>\n",
       "    </tr>\n",
       "    <tr>\n",
       "      <th>1</th>\n",
       "      <td>GP</td>\n",
       "      <td>F</td>\n",
       "      <td>17</td>\n",
       "      <td>U</td>\n",
       "      <td>GT3</td>\n",
       "      <td>T</td>\n",
       "      <td>1</td>\n",
       "      <td>1</td>\n",
       "      <td>course</td>\n",
       "      <td>father</td>\n",
       "      <td>1</td>\n",
       "      <td>2</td>\n",
       "      <td>0</td>\n",
       "      <td>no</td>\n",
       "      <td>no</td>\n",
       "      <td>5</td>\n",
       "      <td>3</td>\n",
       "      <td>2.0</td>\n",
       "    </tr>\n",
       "    <tr>\n",
       "      <th>2</th>\n",
       "      <td>GP</td>\n",
       "      <td>F</td>\n",
       "      <td>15</td>\n",
       "      <td>U</td>\n",
       "      <td>LE3</td>\n",
       "      <td>T</td>\n",
       "      <td>1</td>\n",
       "      <td>1</td>\n",
       "      <td>other</td>\n",
       "      <td>mother</td>\n",
       "      <td>1</td>\n",
       "      <td>2</td>\n",
       "      <td>3</td>\n",
       "      <td>yes</td>\n",
       "      <td>no</td>\n",
       "      <td>4</td>\n",
       "      <td>3</td>\n",
       "      <td>4.0</td>\n",
       "    </tr>\n",
       "    <tr>\n",
       "      <th>3</th>\n",
       "      <td>GP</td>\n",
       "      <td>F</td>\n",
       "      <td>15</td>\n",
       "      <td>U</td>\n",
       "      <td>GT3</td>\n",
       "      <td>T</td>\n",
       "      <td>4</td>\n",
       "      <td>2</td>\n",
       "      <td>home</td>\n",
       "      <td>mother</td>\n",
       "      <td>1</td>\n",
       "      <td>3</td>\n",
       "      <td>0</td>\n",
       "      <td>yes</td>\n",
       "      <td>yes</td>\n",
       "      <td>3</td>\n",
       "      <td>2</td>\n",
       "      <td>1.0</td>\n",
       "    </tr>\n",
       "    <tr>\n",
       "      <th>4</th>\n",
       "      <td>GP</td>\n",
       "      <td>F</td>\n",
       "      <td>16</td>\n",
       "      <td>U</td>\n",
       "      <td>GT3</td>\n",
       "      <td>T</td>\n",
       "      <td>3</td>\n",
       "      <td>3</td>\n",
       "      <td>home</td>\n",
       "      <td>father</td>\n",
       "      <td>1</td>\n",
       "      <td>2</td>\n",
       "      <td>0</td>\n",
       "      <td>yes</td>\n",
       "      <td>no</td>\n",
       "      <td>4</td>\n",
       "      <td>3</td>\n",
       "      <td>2.0</td>\n",
       "    </tr>\n",
       "  </tbody>\n",
       "</table>\n",
       "</div>"
      ],
      "text/plain": [
       "  school sex  age address famsize Pstatus  Medu  Fedu  reason guardian  \\\n",
       "0     GP   F   18       U     GT3       A     4     4  course   mother   \n",
       "1     GP   F   17       U     GT3       T     1     1  course   father   \n",
       "2     GP   F   15       U     LE3       T     1     1   other   mother   \n",
       "3     GP   F   15       U     GT3       T     4     2    home   mother   \n",
       "4     GP   F   16       U     GT3       T     3     3    home   father   \n",
       "\n",
       "   traveltime  studytime  failures paid activities  famrel  freetime  \\\n",
       "0           2          2         0   no         no       4         3   \n",
       "1           1          2         0   no         no       5         3   \n",
       "2           1          2         3  yes         no       4         3   \n",
       "3           1          3         0  yes        yes       3         2   \n",
       "4           1          2         0  yes         no       4         3   \n",
       "\n",
       "   absences_grade  \n",
       "0             3.0  \n",
       "1             2.0  \n",
       "2             4.0  \n",
       "3             1.0  \n",
       "4             2.0  "
      ]
     },
     "execution_count": 3,
     "metadata": {},
     "output_type": "execute_result"
    }
   ],
   "source": [
    "df = pd.read_csv('https://raw.githubusercontent.com/ADPclass/ADP_book_ver01/main/data/28_problem1.csv')\n",
    "df.head()"
   ]
  },
  {
   "cell_type": "markdown",
   "id": "8e9ac333-6c15-499b-beaa-6f1ba1be714a",
   "metadata": {},
   "source": [
    "# 머신러닝"
   ]
  },
  {
   "cell_type": "markdown",
   "id": "265ea6a5-2388-420d-9ffe-8d1c978f2606",
   "metadata": {},
   "source": [
    " "
   ]
  },
  {
   "cell_type": "markdown",
   "id": "9831aaaa-d12a-481f-b712-1e84890beb8b",
   "metadata": {},
   "source": [
    "## 1 데이터 전처리 및 시각화\n",
    "\n",
    "- (1) EDA를 진행하고, 차원축소의 필요성 판단\n",
    "- (2) 데이터 품질 개선 방법을 제안하고, 데이터셋 재생성\n",
    "- (3) (2)에서 제시한 방법이 과적합 된다는 가정 하에 과적합을  \n",
    "  해결할 수 있는 2가지 방안을 제시하고 각각의 장단점 기술"
   ]
  },
  {
   "cell_type": "markdown",
   "id": "675d1980-42e5-4c7d-a1a3-07495c113e7d",
   "metadata": {},
   "source": [
    " "
   ]
  },
  {
   "cell_type": "markdown",
   "id": "33376a19-26fb-49fb-ae65-1ba5f1db9a5b",
   "metadata": {},
   "source": [
    "## 2 데이터 분석\n",
    "\n",
    "- (1) RandomForest, Neural Network, LightGBM 3가지 방식으로    \n",
    "  학교 결석 횟수 등급을 예측하는 모델을 만들고 F1-Score로 평가\n",
    "- (2) Hard Voting, Soft Voting의 장단점을 설명하고 2-(1)의  \n",
    "  모델로 구현하고 F1-Score로 평가\n",
    "- (3) 총 5개 모델 중 실시간 온라인 시스템에 가장 적합한  \n",
    "  모델과 선정이유를 객관적으로 제시"
   ]
  },
  {
   "cell_type": "markdown",
   "id": "27addbda-bbd9-4c57-bd94-096e17b39522",
   "metadata": {},
   "source": [
    " "
   ]
  },
  {
   "cell_type": "markdown",
   "id": "028383c8-88a4-44f5-84f8-bd2359cafc07",
   "metadata": {},
   "source": [
    "## 3 데이터 모델링\n",
    "\n",
    "- (1) 적정 모델 선정과 모델링 과정에서 추가적으로  \n",
    "  고려할만 한 사항을 설명\n",
    "- (2) 모델을 학교 시스템에 적용하려 한다. 모델 적용 및  \n",
    "  운영과정에서 고려할만 한 사항을 설명"
   ]
  },
  {
   "cell_type": "markdown",
   "id": "2a8fc016-2fc6-4f0d-bd8c-74d7104b444d",
   "metadata": {},
   "source": [
    " "
   ]
  },
  {
   "cell_type": "markdown",
   "id": "bdf23850-6099-4d19-8ff7-80ec3a64cd56",
   "metadata": {},
   "source": [
    "# 통계분석"
   ]
  },
  {
   "cell_type": "markdown",
   "id": "f7b5f87f-c4a5-447b-8bf9-834e63410c67",
   "metadata": {},
   "source": [
    " "
   ]
  },
  {
   "cell_type": "markdown",
   "id": "d52cbffb-90a5-43de-ac91-22274902a255",
   "metadata": {},
   "source": [
    "## 1 두 회사의 데이터 분석\n",
    "\n",
    "- (1) Kaplan Meier 방법을 활용해 생존분석을 수행하고  \n",
    "  회사부품별 25, 35, 45개월 후의 생존확률 구하기.\n",
    "- (2) 두 회사간 생존시간 차이를 log_rank 방식으로 검정  \n",
    "  (가설설정, 통계량, 가설채택) "
   ]
  },
  {
   "cell_type": "markdown",
   "id": "2f6902ce-8259-4d39-a7dc-210996b328c9",
   "metadata": {},
   "source": [
    " "
   ]
  },
  {
   "cell_type": "code",
   "execution_count": 4,
   "id": "799e9eb4-13b7-43fb-be96-1b9b83d343cc",
   "metadata": {},
   "outputs": [
    {
     "data": {
      "text/html": [
       "<div>\n",
       "<style scoped>\n",
       "    .dataframe tbody tr th:only-of-type {\n",
       "        vertical-align: middle;\n",
       "    }\n",
       "\n",
       "    .dataframe tbody tr th {\n",
       "        vertical-align: top;\n",
       "    }\n",
       "\n",
       "    .dataframe thead th {\n",
       "        text-align: right;\n",
       "    }\n",
       "</style>\n",
       "<table border=\"1\" class=\"dataframe\">\n",
       "  <thead>\n",
       "    <tr style=\"text-align: right;\">\n",
       "      <th></th>\n",
       "      <th>time(month)</th>\n",
       "      <th>survival</th>\n",
       "      <th>company</th>\n",
       "    </tr>\n",
       "  </thead>\n",
       "  <tbody>\n",
       "    <tr>\n",
       "      <th>0</th>\n",
       "      <td>39</td>\n",
       "      <td>Y</td>\n",
       "      <td>B</td>\n",
       "    </tr>\n",
       "    <tr>\n",
       "      <th>1</th>\n",
       "      <td>29</td>\n",
       "      <td>Y</td>\n",
       "      <td>B</td>\n",
       "    </tr>\n",
       "    <tr>\n",
       "      <th>2</th>\n",
       "      <td>15</td>\n",
       "      <td>N</td>\n",
       "      <td>B</td>\n",
       "    </tr>\n",
       "    <tr>\n",
       "      <th>3</th>\n",
       "      <td>43</td>\n",
       "      <td>N</td>\n",
       "      <td>A</td>\n",
       "    </tr>\n",
       "    <tr>\n",
       "      <th>4</th>\n",
       "      <td>8</td>\n",
       "      <td>Y</td>\n",
       "      <td>A</td>\n",
       "    </tr>\n",
       "  </tbody>\n",
       "</table>\n",
       "</div>"
      ],
      "text/plain": [
       "   time(month) survival company\n",
       "0           39        Y       B\n",
       "1           29        Y       B\n",
       "2           15        N       B\n",
       "3           43        N       A\n",
       "4            8        Y       A"
      ]
     },
     "execution_count": 4,
     "metadata": {},
     "output_type": "execute_result"
    }
   ],
   "source": [
    "data = pd.read_csv('https://raw.githubusercontent.com/ADPclass/ADP_book_ver01/main/data/28_problem4.csv?raw=true')\n",
    "data.head()"
   ]
  },
  {
   "cell_type": "markdown",
   "id": "1dce58ef-df12-42be-8076-a7f9e8490fda",
   "metadata": {},
   "source": [
    "## 2\n",
    "\n",
    "구매 데이터에서 시식 여부가 구매의사에 영향을 주는지  \n",
    "가설 설정 및 검증"
   ]
  },
  {
   "cell_type": "markdown",
   "id": "6ffc707a-216a-4c01-b30a-38d82c93db78",
   "metadata": {},
   "source": [
    " "
   ]
  },
  {
   "cell_type": "code",
   "execution_count": 5,
   "id": "6e759da9-bc98-47be-8cf3-7668e51055ef",
   "metadata": {},
   "outputs": [
    {
     "data": {
      "text/html": [
       "<div>\n",
       "<style scoped>\n",
       "    .dataframe tbody tr th:only-of-type {\n",
       "        vertical-align: middle;\n",
       "    }\n",
       "\n",
       "    .dataframe tbody tr th {\n",
       "        vertical-align: top;\n",
       "    }\n",
       "\n",
       "    .dataframe thead th {\n",
       "        text-align: right;\n",
       "    }\n",
       "</style>\n",
       "<table border=\"1\" class=\"dataframe\">\n",
       "  <thead>\n",
       "    <tr style=\"text-align: right;\">\n",
       "      <th></th>\n",
       "      <th>시식전</th>\n",
       "      <th>시식후</th>\n",
       "      <th>유저아이디</th>\n",
       "    </tr>\n",
       "  </thead>\n",
       "  <tbody>\n",
       "    <tr>\n",
       "      <th>0</th>\n",
       "      <td>Y</td>\n",
       "      <td>Y</td>\n",
       "      <td>ID1</td>\n",
       "    </tr>\n",
       "    <tr>\n",
       "      <th>1</th>\n",
       "      <td>N</td>\n",
       "      <td>Y</td>\n",
       "      <td>ID2</td>\n",
       "    </tr>\n",
       "    <tr>\n",
       "      <th>2</th>\n",
       "      <td>N</td>\n",
       "      <td>N</td>\n",
       "      <td>ID3</td>\n",
       "    </tr>\n",
       "    <tr>\n",
       "      <th>3</th>\n",
       "      <td>N</td>\n",
       "      <td>Y</td>\n",
       "      <td>ID4</td>\n",
       "    </tr>\n",
       "    <tr>\n",
       "      <th>4</th>\n",
       "      <td>Y</td>\n",
       "      <td>Y</td>\n",
       "      <td>ID5</td>\n",
       "    </tr>\n",
       "  </tbody>\n",
       "</table>\n",
       "</div>"
      ],
      "text/plain": [
       "  시식전 시식후 유저아이디\n",
       "0   Y   Y   ID1\n",
       "1   N   Y   ID2\n",
       "2   N   N   ID3\n",
       "3   N   Y   ID4\n",
       "4   Y   Y   ID5"
      ]
     },
     "execution_count": 5,
     "metadata": {},
     "output_type": "execute_result"
    }
   ],
   "source": [
    "data = pd.read_csv('https://raw.githubusercontent.com/ADPclass/ADP_book_ver01/main/data/28_problem5.csv?raw=true')\n",
    "data.head()"
   ]
  },
  {
   "cell_type": "markdown",
   "id": "7e26c28a-87dd-4c30-8b95-6a032a1d8859",
   "metadata": {},
   "source": [
    "## 3\n",
    "\n",
    "두 개의 고등학교 시험점수 데이터를 참고해 시험점수의  \n",
    "분포 차이가 있는지 검정(단, 성적은 독립이라고 가정)"
   ]
  },
  {
   "cell_type": "markdown",
   "id": "7ce0bc44-cc96-4037-81ab-ee299d7b39ea",
   "metadata": {},
   "source": [
    " "
   ]
  },
  {
   "cell_type": "code",
   "execution_count": 6,
   "id": "ed21b5a8-7c50-4e74-970e-dc7cc936d38f",
   "metadata": {},
   "outputs": [
    {
     "data": {
      "text/html": [
       "<div>\n",
       "<style scoped>\n",
       "    .dataframe tbody tr th:only-of-type {\n",
       "        vertical-align: middle;\n",
       "    }\n",
       "\n",
       "    .dataframe tbody tr th {\n",
       "        vertical-align: top;\n",
       "    }\n",
       "\n",
       "    .dataframe thead th {\n",
       "        text-align: right;\n",
       "    }\n",
       "</style>\n",
       "<table border=\"1\" class=\"dataframe\">\n",
       "  <thead>\n",
       "    <tr style=\"text-align: right;\">\n",
       "      <th></th>\n",
       "      <th>Score</th>\n",
       "      <th>School</th>\n",
       "      <th>ID</th>\n",
       "    </tr>\n",
       "  </thead>\n",
       "  <tbody>\n",
       "    <tr>\n",
       "      <th>0</th>\n",
       "      <td>97</td>\n",
       "      <td>A</td>\n",
       "      <td>ID1</td>\n",
       "    </tr>\n",
       "    <tr>\n",
       "      <th>1</th>\n",
       "      <td>84</td>\n",
       "      <td>A</td>\n",
       "      <td>ID2</td>\n",
       "    </tr>\n",
       "    <tr>\n",
       "      <th>2</th>\n",
       "      <td>77</td>\n",
       "      <td>A</td>\n",
       "      <td>ID3</td>\n",
       "    </tr>\n",
       "    <tr>\n",
       "      <th>3</th>\n",
       "      <td>93</td>\n",
       "      <td>A</td>\n",
       "      <td>ID4</td>\n",
       "    </tr>\n",
       "    <tr>\n",
       "      <th>4</th>\n",
       "      <td>67</td>\n",
       "      <td>A</td>\n",
       "      <td>ID5</td>\n",
       "    </tr>\n",
       "  </tbody>\n",
       "</table>\n",
       "</div>"
      ],
      "text/plain": [
       "   Score School   ID\n",
       "0     97      A  ID1\n",
       "1     84      A  ID2\n",
       "2     77      A  ID3\n",
       "3     93      A  ID4\n",
       "4     67      A  ID5"
      ]
     },
     "execution_count": 6,
     "metadata": {},
     "output_type": "execute_result"
    }
   ],
   "source": [
    "data = pd.read_csv('https://raw.githubusercontent.com/ADPclass/ADP_book_ver01/main/data/28_problem6.csv?raw=true')\n",
    "data.head()"
   ]
  },
  {
   "cell_type": "markdown",
   "id": "40ec1b1e-29fe-4a25-8a91-3cc742321afa",
   "metadata": {},
   "source": [
    "## 4\n",
    "\n",
    "몸무게를 제어한다고 생각하고, 나이와 콜레스테롤  \n",
    "상관관계 및 유의확률 구하기."
   ]
  },
  {
   "cell_type": "markdown",
   "id": "32ee889f-8bfd-4ff8-8274-0577aa7b7443",
   "metadata": {},
   "source": [
    " "
   ]
  },
  {
   "cell_type": "code",
   "execution_count": 7,
   "id": "9e3c2cb5-7016-4d26-8ecd-f3d6fe44c2ea",
   "metadata": {},
   "outputs": [
    {
     "data": {
      "text/html": [
       "<div>\n",
       "<style scoped>\n",
       "    .dataframe tbody tr th:only-of-type {\n",
       "        vertical-align: middle;\n",
       "    }\n",
       "\n",
       "    .dataframe tbody tr th {\n",
       "        vertical-align: top;\n",
       "    }\n",
       "\n",
       "    .dataframe thead th {\n",
       "        text-align: right;\n",
       "    }\n",
       "</style>\n",
       "<table border=\"1\" class=\"dataframe\">\n",
       "  <thead>\n",
       "    <tr style=\"text-align: right;\">\n",
       "      <th></th>\n",
       "      <th>age</th>\n",
       "      <th>Cholesterol</th>\n",
       "      <th>weight</th>\n",
       "    </tr>\n",
       "  </thead>\n",
       "  <tbody>\n",
       "    <tr>\n",
       "      <th>0</th>\n",
       "      <td>61</td>\n",
       "      <td>255</td>\n",
       "      <td>56</td>\n",
       "    </tr>\n",
       "    <tr>\n",
       "      <th>1</th>\n",
       "      <td>71</td>\n",
       "      <td>241</td>\n",
       "      <td>114</td>\n",
       "    </tr>\n",
       "    <tr>\n",
       "      <th>2</th>\n",
       "      <td>44</td>\n",
       "      <td>271</td>\n",
       "      <td>59</td>\n",
       "    </tr>\n",
       "    <tr>\n",
       "      <th>3</th>\n",
       "      <td>73</td>\n",
       "      <td>257</td>\n",
       "      <td>87</td>\n",
       "    </tr>\n",
       "    <tr>\n",
       "      <th>4</th>\n",
       "      <td>80</td>\n",
       "      <td>259</td>\n",
       "      <td>112</td>\n",
       "    </tr>\n",
       "  </tbody>\n",
       "</table>\n",
       "</div>"
      ],
      "text/plain": [
       "   age  Cholesterol  weight\n",
       "0   61          255      56\n",
       "1   71          241     114\n",
       "2   44          271      59\n",
       "3   73          257      87\n",
       "4   80          259     112"
      ]
     },
     "execution_count": 7,
     "metadata": {},
     "output_type": "execute_result"
    }
   ],
   "source": [
    "data = pd.read_csv('https://raw.githubusercontent.com/ADPclass/ADP_book_ver01/main/data/28_problem7.csv?raw=true')\n",
    "data.head()"
   ]
  }
 ],
 "metadata": {
  "kernelspec": {
   "display_name": "Python 3 (ipykernel)",
   "language": "python",
   "name": "python3"
  },
  "language_info": {
   "codemirror_mode": {
    "name": "ipython",
    "version": 3
   },
   "file_extension": ".py",
   "mimetype": "text/x-python",
   "name": "python",
   "nbconvert_exporter": "python",
   "pygments_lexer": "ipython3",
   "version": "3.10.11"
  }
 },
 "nbformat": 4,
 "nbformat_minor": 5
}
