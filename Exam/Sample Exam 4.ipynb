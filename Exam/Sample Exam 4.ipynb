{
 "cells": [
  {
   "cell_type": "code",
   "execution_count": 1,
   "id": "53c9cfcd-7b2f-4261-8abb-40966070c318",
   "metadata": {},
   "outputs": [],
   "source": [
    "import pandas as pd\n",
    "import numpy as np\n",
    "import matplotlib.pyplot as plt\n",
    "import seaborn as sns\n",
    "import os, warnings, time\n",
    "import statsmodels.api as sm\n",
    "\n",
    "from datetime import datetime, timedelta\n",
    "from sklearn.model_selection import train_test_split, cross_val_score, GridSearchCV\n",
    "from scipy import stats"
   ]
  },
  {
   "cell_type": "markdown",
   "id": "e2cad95f-16fc-4486-9576-983f21a85257",
   "metadata": {},
   "source": [
    " "
   ]
  },
  {
   "cell_type": "markdown",
   "id": "78f9af7d-5170-4575-8a04-6a0a73489b36",
   "metadata": {},
   "source": [
    " "
   ]
  },
  {
   "cell_type": "markdown",
   "id": "481359c7-5265-4697-9fa0-141721d9d737",
   "metadata": {},
   "source": [
    "# 머신러닝"
   ]
  },
  {
   "cell_type": "markdown",
   "id": "797f91cb-8305-453c-a1ab-7bd7a800e216",
   "metadata": {},
   "source": [
    " "
   ]
  },
  {
   "cell_type": "markdown",
   "id": "22d65cb4-1141-4f63-b6cd-46383eaf833f",
   "metadata": {},
   "source": [
    " "
   ]
  },
  {
   "cell_type": "code",
   "execution_count": 2,
   "id": "87e752e3-3ef3-4f97-9789-97d32df3f207",
   "metadata": {
    "scrolled": true
   },
   "outputs": [
    {
     "data": {
      "text/html": [
       "<div>\n",
       "<style scoped>\n",
       "    .dataframe tbody tr th:only-of-type {\n",
       "        vertical-align: middle;\n",
       "    }\n",
       "\n",
       "    .dataframe tbody tr th {\n",
       "        vertical-align: top;\n",
       "    }\n",
       "\n",
       "    .dataframe thead th {\n",
       "        text-align: right;\n",
       "    }\n",
       "</style>\n",
       "<table border=\"1\" class=\"dataframe\">\n",
       "  <thead>\n",
       "    <tr style=\"text-align: right;\">\n",
       "      <th></th>\n",
       "      <th>ID</th>\n",
       "      <th>Year_Birth</th>\n",
       "      <th>Marital_Status</th>\n",
       "      <th>Income</th>\n",
       "      <th>Kidhome</th>\n",
       "      <th>Teenhome</th>\n",
       "      <th>MntWines</th>\n",
       "      <th>MntFruits</th>\n",
       "      <th>MntMeatProducts</th>\n",
       "      <th>MntFishProducts</th>\n",
       "      <th>MntSweetProducts</th>\n",
       "      <th>NumDealsPurchases</th>\n",
       "      <th>NumWebPurchases</th>\n",
       "      <th>NumCatalogPurchases</th>\n",
       "      <th>NumStorePurchases</th>\n",
       "      <th>NumWebVisitsMonth</th>\n",
       "    </tr>\n",
       "  </thead>\n",
       "  <tbody>\n",
       "    <tr>\n",
       "      <th>0</th>\n",
       "      <td>5524</td>\n",
       "      <td>1957</td>\n",
       "      <td>Single</td>\n",
       "      <td>58138.0</td>\n",
       "      <td>0</td>\n",
       "      <td>0</td>\n",
       "      <td>635</td>\n",
       "      <td>88</td>\n",
       "      <td>546</td>\n",
       "      <td>172</td>\n",
       "      <td>88</td>\n",
       "      <td>3</td>\n",
       "      <td>8</td>\n",
       "      <td>10</td>\n",
       "      <td>4</td>\n",
       "      <td>7</td>\n",
       "    </tr>\n",
       "    <tr>\n",
       "      <th>1</th>\n",
       "      <td>2174</td>\n",
       "      <td>1954</td>\n",
       "      <td>Single</td>\n",
       "      <td>46344.0</td>\n",
       "      <td>1</td>\n",
       "      <td>1</td>\n",
       "      <td>11</td>\n",
       "      <td>1</td>\n",
       "      <td>6</td>\n",
       "      <td>2</td>\n",
       "      <td>1</td>\n",
       "      <td>2</td>\n",
       "      <td>1</td>\n",
       "      <td>1</td>\n",
       "      <td>2</td>\n",
       "      <td>5</td>\n",
       "    </tr>\n",
       "    <tr>\n",
       "      <th>2</th>\n",
       "      <td>4141</td>\n",
       "      <td>1965</td>\n",
       "      <td>Together</td>\n",
       "      <td>71613.0</td>\n",
       "      <td>0</td>\n",
       "      <td>0</td>\n",
       "      <td>426</td>\n",
       "      <td>49</td>\n",
       "      <td>127</td>\n",
       "      <td>111</td>\n",
       "      <td>21</td>\n",
       "      <td>1</td>\n",
       "      <td>8</td>\n",
       "      <td>2</td>\n",
       "      <td>10</td>\n",
       "      <td>4</td>\n",
       "    </tr>\n",
       "    <tr>\n",
       "      <th>3</th>\n",
       "      <td>6182</td>\n",
       "      <td>1984</td>\n",
       "      <td>Together</td>\n",
       "      <td>26646.0</td>\n",
       "      <td>1</td>\n",
       "      <td>0</td>\n",
       "      <td>11</td>\n",
       "      <td>4</td>\n",
       "      <td>20</td>\n",
       "      <td>10</td>\n",
       "      <td>3</td>\n",
       "      <td>2</td>\n",
       "      <td>2</td>\n",
       "      <td>0</td>\n",
       "      <td>4</td>\n",
       "      <td>6</td>\n",
       "    </tr>\n",
       "    <tr>\n",
       "      <th>4</th>\n",
       "      <td>5324</td>\n",
       "      <td>1981</td>\n",
       "      <td>Married</td>\n",
       "      <td>58293.0</td>\n",
       "      <td>1</td>\n",
       "      <td>0</td>\n",
       "      <td>173</td>\n",
       "      <td>43</td>\n",
       "      <td>118</td>\n",
       "      <td>46</td>\n",
       "      <td>27</td>\n",
       "      <td>5</td>\n",
       "      <td>5</td>\n",
       "      <td>3</td>\n",
       "      <td>6</td>\n",
       "      <td>5</td>\n",
       "    </tr>\n",
       "  </tbody>\n",
       "</table>\n",
       "</div>"
      ],
      "text/plain": [
       "     ID  Year_Birth Marital_Status   Income  Kidhome  Teenhome  MntWines  \\\n",
       "0  5524        1957         Single  58138.0        0         0       635   \n",
       "1  2174        1954         Single  46344.0        1         1        11   \n",
       "2  4141        1965       Together  71613.0        0         0       426   \n",
       "3  6182        1984       Together  26646.0        1         0        11   \n",
       "4  5324        1981        Married  58293.0        1         0       173   \n",
       "\n",
       "   MntFruits  MntMeatProducts  MntFishProducts  MntSweetProducts  \\\n",
       "0         88              546              172                88   \n",
       "1          1                6                2                 1   \n",
       "2         49              127              111                21   \n",
       "3          4               20               10                 3   \n",
       "4         43              118               46                27   \n",
       "\n",
       "   NumDealsPurchases  NumWebPurchases  NumCatalogPurchases  NumStorePurchases  \\\n",
       "0                  3                8                   10                  4   \n",
       "1                  2                1                    1                  2   \n",
       "2                  1                8                    2                 10   \n",
       "3                  2                2                    0                  4   \n",
       "4                  5                5                    3                  6   \n",
       "\n",
       "   NumWebVisitsMonth  \n",
       "0                  7  \n",
       "1                  5  \n",
       "2                  4  \n",
       "3                  6  \n",
       "4                  5  "
      ]
     },
     "execution_count": 2,
     "metadata": {},
     "output_type": "execute_result"
    }
   ],
   "source": [
    "df = pd.read_csv('../Edu/code/data/26_problem1.csv')\n",
    "df.head()"
   ]
  },
  {
   "cell_type": "markdown",
   "id": "71cfbfb2-63a2-4016-9bca-721819492b14",
   "metadata": {},
   "source": [
    " "
   ]
  },
  {
   "cell_type": "markdown",
   "id": "e0f940b0-aa1b-44f4-8a79-61f2c0c12cac",
   "metadata": {},
   "source": [
    "## 1 전처리 및 군집생성 "
   ]
  },
  {
   "cell_type": "markdown",
   "id": "af231865-b4e9-4ac7-b252-eee56db9b924",
   "metadata": {},
   "source": [
    " "
   ]
  },
  {
   "cell_type": "markdown",
   "id": "c84e3b91-95ff-4845-9fab-06f50ff1c5c9",
   "metadata": {},
   "source": [
    "### 1-1\n",
    "\n",
    "결측치 확인 및 결측치 제거 / EDA 수행"
   ]
  },
  {
   "cell_type": "markdown",
   "id": "b2459da8-9138-4327-b625-735132de106c",
   "metadata": {},
   "source": [
    " "
   ]
  },
  {
   "cell_type": "markdown",
   "id": "e9a3fea3-165e-48d6-bd99-56f7c1db70db",
   "metadata": {},
   "source": [
    "### 1-2\n",
    "\n",
    "이상치 제거 방법을 서술하고, 이상치 제거 후의 결과를  \n",
    "통계적으로 서술"
   ]
  },
  {
   "cell_type": "markdown",
   "id": "5d82cadb-d048-479f-a979-8abce66a9fd4",
   "metadata": {},
   "source": [
    " "
   ]
  },
  {
   "cell_type": "markdown",
   "id": "9feef544-a8f8-4d86-9a24-f8890dbda287",
   "metadata": {},
   "source": [
    "### 1-3\n",
    "\n",
    "위에서 전처리한 데이터로 Kmeans, DBSCAN 등의 방법으로 군집 생성"
   ]
  },
  {
   "cell_type": "markdown",
   "id": "5c9f147b-c2e7-4140-b2d0-128911957330",
   "metadata": {},
   "source": [
    " "
   ]
  },
  {
   "cell_type": "markdown",
   "id": "fcb6e9f7-3ebe-4d1b-a933-f4cd47f3257e",
   "metadata": {},
   "source": [
    "## 2 군집분석 "
   ]
  },
  {
   "cell_type": "markdown",
   "id": "30dff7d9-8a0c-4b15-95e5-da509c1dd866",
   "metadata": {},
   "source": [
    " "
   ]
  },
  {
   "cell_type": "markdown",
   "id": "6a1f3849-9a80-4fae-97db-a8b4882eab0b",
   "metadata": {},
   "source": [
    "### 2-1\n",
    "\n",
    "위에서 생성한 군집들의 특성 분석"
   ]
  },
  {
   "cell_type": "markdown",
   "id": "a079cc3f-51f3-42ae-8f09-0caf47da0446",
   "metadata": {},
   "source": [
    " "
   ]
  },
  {
   "cell_type": "markdown",
   "id": "58e57328-6f7a-4687-8a59-40e0ae6daf1f",
   "metadata": {},
   "source": [
    "### 2-2\n",
    "\n",
    "군집별 상품 추천"
   ]
  },
  {
   "cell_type": "markdown",
   "id": "8330fbf8-1da7-40e3-b28a-d88b7c8dc509",
   "metadata": {},
   "source": [
    " "
   ]
  },
  {
   "cell_type": "markdown",
   "id": "b0a83508-5454-4e1a-895d-4aca786e7b2c",
   "metadata": {},
   "source": [
    "### 2-3\n",
    "\n",
    "ID가 10870인 고객을 대상으로 상품 추천"
   ]
  },
  {
   "cell_type": "markdown",
   "id": "d5869e64-be1d-435f-87ad-f36fe5a09adb",
   "metadata": {},
   "source": [
    " "
   ]
  },
  {
   "cell_type": "markdown",
   "id": "bf9f3330-5c3d-49b0-ba7e-2844a5cad2ad",
   "metadata": {},
   "source": [
    " "
   ]
  },
  {
   "cell_type": "markdown",
   "id": "f5945157-db63-4285-a90d-817a258ca438",
   "metadata": {},
   "source": [
    "# 통계분석"
   ]
  },
  {
   "cell_type": "markdown",
   "id": "fdbb067f-4f54-4bae-9857-e4de0148a6ee",
   "metadata": {},
   "source": [
    " "
   ]
  },
  {
   "cell_type": "markdown",
   "id": "df3568de-b032-4346-aa05-1b710d56f35b",
   "metadata": {},
   "source": [
    " "
   ]
  },
  {
   "cell_type": "markdown",
   "id": "08add316-77ee-489f-9638-0885c6ffe0f4",
   "metadata": {},
   "source": [
    "## 1\n",
    "\n",
    "한 공장에서 생산된 제품에서 최근 추정 불량률은 90%였다.  \n",
    "오차의 한계가 5% 이하가 되도록 하는 최소 표본 사이즈 구하기"
   ]
  },
  {
   "cell_type": "markdown",
   "id": "202efbfe-2057-452b-8e50-172584256e3c",
   "metadata": {},
   "source": [
    " "
   ]
  },
  {
   "cell_type": "markdown",
   "id": "66e828e2-9cdc-448a-9787-f0b686586517",
   "metadata": {},
   "source": [
    "## 2\n",
    "\n",
    "다음은 1월부터 9월까지의 은의 가격이다."
   ]
  },
  {
   "cell_type": "code",
   "execution_count": 8,
   "id": "d631181d-5209-4e06-966c-b6507c4fed30",
   "metadata": {},
   "outputs": [
    {
     "data": {
      "text/html": [
       "<div>\n",
       "<style scoped>\n",
       "    .dataframe tbody tr th:only-of-type {\n",
       "        vertical-align: middle;\n",
       "    }\n",
       "\n",
       "    .dataframe tbody tr th {\n",
       "        vertical-align: top;\n",
       "    }\n",
       "\n",
       "    .dataframe thead th {\n",
       "        text-align: right;\n",
       "    }\n",
       "</style>\n",
       "<table border=\"1\" class=\"dataframe\">\n",
       "  <thead>\n",
       "    <tr style=\"text-align: right;\">\n",
       "      <th></th>\n",
       "      <th>1M</th>\n",
       "      <th>2M</th>\n",
       "      <th>3M</th>\n",
       "      <th>4M</th>\n",
       "      <th>5M</th>\n",
       "      <th>6M</th>\n",
       "      <th>7M</th>\n",
       "      <th>8M</th>\n",
       "      <th>9M</th>\n",
       "    </tr>\n",
       "  </thead>\n",
       "  <tbody>\n",
       "    <tr>\n",
       "      <th>0</th>\n",
       "      <td>12.14</td>\n",
       "      <td>42.6</td>\n",
       "      <td>34.4</td>\n",
       "      <td>35.29</td>\n",
       "      <td>30.96</td>\n",
       "      <td>57.12</td>\n",
       "      <td>37.84</td>\n",
       "      <td>42.49</td>\n",
       "      <td>31.38</td>\n",
       "    </tr>\n",
       "  </tbody>\n",
       "</table>\n",
       "</div>"
      ],
      "text/plain": [
       "      1M    2M    3M     4M     5M     6M     7M     8M     9M\n",
       "0  12.14  42.6  34.4  35.29  30.96  57.12  37.84  42.49  31.38"
      ]
     },
     "execution_count": 8,
     "metadata": {},
     "output_type": "execute_result"
    }
   ],
   "source": [
    "data = {'1M': [12.14], '2M': [42.6], '3M': [34.4], '4M': [35.29], '5M': [30.96],\n",
    "        '6M': [57.12], '7M': [37.84], '8M': [42.49], '9M': [31.38]}\n",
    "\n",
    "silver = pd.DataFrame(data)\n",
    "silver"
   ]
  },
  {
   "cell_type": "markdown",
   "id": "0848a747-0713-422a-9d83-4f059907ae6f",
   "metadata": {},
   "source": [
    "### 2-1\n",
    "\n",
    "이동평균값 3이 설정된 시계열 그래프와 은의 가격 그래프 시각화"
   ]
  },
  {
   "cell_type": "markdown",
   "id": "56075833-5927-4916-9d05-db19cee2aa43",
   "metadata": {},
   "source": [
    " "
   ]
  },
  {
   "cell_type": "markdown",
   "id": "7990cbdb-ce27-414c-9997-b480ad3b37a6",
   "metadata": {},
   "source": [
    "### 2-2\n",
    "\n",
    "1월 대비 9월의 은의 가격은 몇 % 올랐는가? (소수점 두번째 자리에서 반올림)"
   ]
  },
  {
   "cell_type": "markdown",
   "id": "6a583cc9-8062-4e1a-bb91-6fa7086a8689",
   "metadata": {},
   "source": [
    " "
   ]
  },
  {
   "cell_type": "markdown",
   "id": "69434f9a-351f-420d-b54b-c0eb9f1ec306",
   "metadata": {},
   "source": [
    "## 3\n",
    "\n",
    "A, B, C 자치구별 H 의원에 대한 찬성, 반대 투표 결과이다.  \n",
    "자치구별 지지율이 같은지 검정"
   ]
  },
  {
   "cell_type": "code",
   "execution_count": 9,
   "id": "038562fb-6a61-45d2-b943-307eeb260e1e",
   "metadata": {},
   "outputs": [
    {
     "data": {
      "text/html": [
       "<div>\n",
       "<style scoped>\n",
       "    .dataframe tbody tr th:only-of-type {\n",
       "        vertical-align: middle;\n",
       "    }\n",
       "\n",
       "    .dataframe tbody tr th {\n",
       "        vertical-align: top;\n",
       "    }\n",
       "\n",
       "    .dataframe thead th {\n",
       "        text-align: right;\n",
       "    }\n",
       "</style>\n",
       "<table border=\"1\" class=\"dataframe\">\n",
       "  <thead>\n",
       "    <tr style=\"text-align: right;\">\n",
       "      <th></th>\n",
       "      <th>A</th>\n",
       "      <th>B</th>\n",
       "      <th>C</th>\n",
       "    </tr>\n",
       "  </thead>\n",
       "  <tbody>\n",
       "    <tr>\n",
       "      <th>찬성</th>\n",
       "      <td>176</td>\n",
       "      <td>193</td>\n",
       "      <td>159</td>\n",
       "    </tr>\n",
       "    <tr>\n",
       "      <th>반대</th>\n",
       "      <td>124</td>\n",
       "      <td>107</td>\n",
       "      <td>141</td>\n",
       "    </tr>\n",
       "  </tbody>\n",
       "</table>\n",
       "</div>"
      ],
      "text/plain": [
       "      A    B    C\n",
       "찬성  176  193  159\n",
       "반대  124  107  141"
      ]
     },
     "execution_count": 9,
     "metadata": {},
     "output_type": "execute_result"
    }
   ],
   "source": [
    "data = pd.DataFrame(\n",
    "    {'A':[176, 124], 'B':[193, 107], 'C':[159, 141]},\n",
    "    index=['찬성', '반대']\n",
    ")\n",
    "\n",
    "data"
   ]
  },
  {
   "cell_type": "markdown",
   "id": "bc548fd2-b0a6-4c24-93ac-49ac7801ff73",
   "metadata": {},
   "source": [
    " "
   ]
  },
  {
   "cell_type": "markdown",
   "id": "fc877504-ea95-404d-9f3d-31b66f3d90af",
   "metadata": {},
   "source": [
    "## 4\n",
    "\n",
    "A학교 남녀 학생들의 평균 혈압 차이가 있는지 검정  \n",
    "(단, 남녀 학생의 혈압 데이터는 정규분포를 따르고 등분산임을 가정)"
   ]
  },
  {
   "cell_type": "code",
   "execution_count": 10,
   "id": "8ece0249-be72-4550-9113-779129fe2f84",
   "metadata": {},
   "outputs": [
    {
     "data": {
      "text/html": [
       "<div>\n",
       "<style scoped>\n",
       "    .dataframe tbody tr th:only-of-type {\n",
       "        vertical-align: middle;\n",
       "    }\n",
       "\n",
       "    .dataframe tbody tr th {\n",
       "        vertical-align: top;\n",
       "    }\n",
       "\n",
       "    .dataframe thead th {\n",
       "        text-align: right;\n",
       "    }\n",
       "</style>\n",
       "<table border=\"1\" class=\"dataframe\">\n",
       "  <thead>\n",
       "    <tr style=\"text-align: right;\">\n",
       "      <th></th>\n",
       "      <th>gender</th>\n",
       "      <th>pressure</th>\n",
       "    </tr>\n",
       "  </thead>\n",
       "  <tbody>\n",
       "    <tr>\n",
       "      <th>0</th>\n",
       "      <td>male</td>\n",
       "      <td>106.8</td>\n",
       "    </tr>\n",
       "    <tr>\n",
       "      <th>1</th>\n",
       "      <td>male</td>\n",
       "      <td>100.8</td>\n",
       "    </tr>\n",
       "    <tr>\n",
       "      <th>2</th>\n",
       "      <td>male</td>\n",
       "      <td>84.5</td>\n",
       "    </tr>\n",
       "    <tr>\n",
       "      <th>3</th>\n",
       "      <td>male</td>\n",
       "      <td>104.2</td>\n",
       "    </tr>\n",
       "    <tr>\n",
       "      <th>4</th>\n",
       "      <td>male</td>\n",
       "      <td>107.0</td>\n",
       "    </tr>\n",
       "  </tbody>\n",
       "</table>\n",
       "</div>"
      ],
      "text/plain": [
       "  gender  pressure\n",
       "0   male     106.8\n",
       "1   male     100.8\n",
       "2   male      84.5\n",
       "3   male     104.2\n",
       "4   male     107.0"
      ]
     },
     "execution_count": 10,
     "metadata": {},
     "output_type": "execute_result"
    }
   ],
   "source": [
    "df = pd.read_csv('../Edu/code/data/26_problem6.csv')\n",
    "df.head()"
   ]
  },
  {
   "cell_type": "markdown",
   "id": "dd688c89-0266-4c70-b963-e0b73bd05d86",
   "metadata": {},
   "source": [
    " "
   ]
  },
  {
   "cell_type": "markdown",
   "id": "9582b75f-fb91-4a7d-aca6-691cdcf2c284",
   "metadata": {},
   "source": [
    "### 4-1\n",
    "\n",
    "검정에 대한 가설 설정"
   ]
  },
  {
   "cell_type": "markdown",
   "id": "2998da0e-7b57-48f1-a695-24561b507081",
   "metadata": {},
   "source": [
    " "
   ]
  },
  {
   "cell_type": "markdown",
   "id": "1e5c4e3b-734a-4ca0-a7a3-64c72072e554",
   "metadata": {},
   "source": [
    "### 4-2\n",
    "\n",
    "검정통계량 구하고 결과에 대해 판단"
   ]
  },
  {
   "cell_type": "markdown",
   "id": "25d7636c-44f6-4107-9ae2-386de09e388f",
   "metadata": {},
   "source": [
    " "
   ]
  },
  {
   "cell_type": "markdown",
   "id": "9d7f9ebf-3ed3-4072-a1c4-abf339649108",
   "metadata": {},
   "source": [
    "### 4-3\n",
    "\n",
    "평균 혈압차의 신뢰구간을 구하고, 판단 결과가  \n",
    "4=2의 결과를 지지하는지 설명"
   ]
  },
  {
   "cell_type": "markdown",
   "id": "d782344a-5419-4da5-8649-1697c3bbfadb",
   "metadata": {},
   "source": [
    " "
   ]
  },
  {
   "cell_type": "markdown",
   "id": "e67155b8-297e-472f-b485-fbdc3fc95e2a",
   "metadata": {},
   "source": [
    " "
   ]
  },
  {
   "cell_type": "markdown",
   "id": "1329b01f-f8ef-4aaa-b914-1bec591d4bff",
   "metadata": {},
   "source": [
    "## 5\n",
    "\n",
    "problem7.csv 파일 데이터로 다음을 분석  \n",
    "20대 남성의 키와 허리둘레가 체중에 영향을 미치는지 검정"
   ]
  },
  {
   "cell_type": "code",
   "execution_count": 11,
   "id": "5d7bf983-1bdb-4277-a66c-f2ca7cff17a7",
   "metadata": {},
   "outputs": [
    {
     "data": {
      "text/html": [
       "<div>\n",
       "<style scoped>\n",
       "    .dataframe tbody tr th:only-of-type {\n",
       "        vertical-align: middle;\n",
       "    }\n",
       "\n",
       "    .dataframe tbody tr th {\n",
       "        vertical-align: top;\n",
       "    }\n",
       "\n",
       "    .dataframe thead th {\n",
       "        text-align: right;\n",
       "    }\n",
       "</style>\n",
       "<table border=\"1\" class=\"dataframe\">\n",
       "  <thead>\n",
       "    <tr style=\"text-align: right;\">\n",
       "      <th></th>\n",
       "      <th>height</th>\n",
       "      <th>weight</th>\n",
       "      <th>waistline</th>\n",
       "    </tr>\n",
       "  </thead>\n",
       "  <tbody>\n",
       "    <tr>\n",
       "      <th>0</th>\n",
       "      <td>174.396</td>\n",
       "      <td>72.102</td>\n",
       "      <td>79.3787</td>\n",
       "    </tr>\n",
       "    <tr>\n",
       "      <th>1</th>\n",
       "      <td>179.656</td>\n",
       "      <td>81.255</td>\n",
       "      <td>80.6649</td>\n",
       "    </tr>\n",
       "    <tr>\n",
       "      <th>2</th>\n",
       "      <td>175.079</td>\n",
       "      <td>76.207</td>\n",
       "      <td>80.3166</td>\n",
       "    </tr>\n",
       "    <tr>\n",
       "      <th>3</th>\n",
       "      <td>180.804</td>\n",
       "      <td>81.354</td>\n",
       "      <td>80.8794</td>\n",
       "    </tr>\n",
       "    <tr>\n",
       "      <th>4</th>\n",
       "      <td>177.448</td>\n",
       "      <td>78.768</td>\n",
       "      <td>80.3499</td>\n",
       "    </tr>\n",
       "  </tbody>\n",
       "</table>\n",
       "</div>"
      ],
      "text/plain": [
       "    height  weight  waistline\n",
       "0  174.396  72.102    79.3787\n",
       "1  179.656  81.255    80.6649\n",
       "2  175.079  76.207    80.3166\n",
       "3  180.804  81.354    80.8794\n",
       "4  177.448  78.768    80.3499"
      ]
     },
     "execution_count": 11,
     "metadata": {},
     "output_type": "execute_result"
    }
   ],
   "source": [
    "df = pd.read_csv('../Edu/code/data/26_problem7.csv')\n",
    "df.head()"
   ]
  },
  {
   "cell_type": "markdown",
   "id": "08c554ca-6b25-4081-914d-622e5c51e5b5",
   "metadata": {},
   "source": [
    " "
   ]
  },
  {
   "cell_type": "markdown",
   "id": "4bccd838-3c88-4710-b382-407acc8a7dbd",
   "metadata": {},
   "source": [
    "### 5-1\n",
    "\n",
    "아래 조건을 참고해 회귀계수(반올림하여 소수점 두자리) 구하기\n",
    "- 베이지안 회귀모델 사용\n",
    "- 1000번의 burn-in 이후 10000의 MCMC를 수행\n",
    "- 회귀계수의 사전분포는 부적절한 균일분포\n",
    "- 오차항의 분산의 사전분포는 역감마 분포로 지정\n",
    "- 형상 모수와 척도 모수는 각각 0.005로 지정"
   ]
  },
  {
   "cell_type": "markdown",
   "id": "a686db5d-e581-430a-a455-e5aa5e438186",
   "metadata": {},
   "source": [
    " "
   ]
  },
  {
   "cell_type": "markdown",
   "id": "84f37a7a-57e4-4d6d-be80-7d674562eea5",
   "metadata": {},
   "source": [
    "### 5-2\n",
    "\n",
    "생성한 베이지안 회귀모델을바탕으로 키 180cm, 허리둘레 85인  \n",
    "남성의 몸무게를 추정"
   ]
  },
  {
   "cell_type": "markdown",
   "id": "ef9b2519-24d0-4b8d-be7f-62300a818058",
   "metadata": {},
   "source": [
    " "
   ]
  }
 ],
 "metadata": {
  "kernelspec": {
   "display_name": "Python 3 (ipykernel)",
   "language": "python",
   "name": "python3"
  },
  "language_info": {
   "codemirror_mode": {
    "name": "ipython",
    "version": 3
   },
   "file_extension": ".py",
   "mimetype": "text/x-python",
   "name": "python",
   "nbconvert_exporter": "python",
   "pygments_lexer": "ipython3",
   "version": "3.10.11"
  }
 },
 "nbformat": 4,
 "nbformat_minor": 5
}
