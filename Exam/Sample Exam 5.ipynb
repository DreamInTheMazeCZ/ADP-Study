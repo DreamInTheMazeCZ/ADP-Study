{
 "cells": [
  {
   "cell_type": "code",
   "execution_count": 1,
   "id": "95101d4b-a14e-4d60-a08e-a6643e0f57fc",
   "metadata": {},
   "outputs": [],
   "source": [
    "import pandas as pd\n",
    "import numpy as np\n",
    "import matplotlib.pyplot as plt\n",
    "import seaborn as sns\n",
    "import os, warnings, time\n",
    "\n",
    "from datetime import datetime, timedelta\n",
    "\n",
    "plt.rc('font', family='Malgun Gothic')\n",
    "plt.rcParams['axes.unicode_minus'] = False"
   ]
  },
  {
   "cell_type": "code",
   "execution_count": 5,
   "id": "598e0dbe-cbc3-4c45-8ed6-44a53f628fe2",
   "metadata": {},
   "outputs": [
    {
     "data": {
      "text/html": [
       "<div>\n",
       "<style scoped>\n",
       "    .dataframe tbody tr th:only-of-type {\n",
       "        vertical-align: middle;\n",
       "    }\n",
       "\n",
       "    .dataframe tbody tr th {\n",
       "        vertical-align: top;\n",
       "    }\n",
       "\n",
       "    .dataframe thead th {\n",
       "        text-align: right;\n",
       "    }\n",
       "</style>\n",
       "<table border=\"1\" class=\"dataframe\">\n",
       "  <thead>\n",
       "    <tr style=\"text-align: right;\">\n",
       "      <th></th>\n",
       "      <th>Time</th>\n",
       "      <th>V1</th>\n",
       "      <th>V2</th>\n",
       "      <th>V3</th>\n",
       "      <th>V4</th>\n",
       "      <th>V5</th>\n",
       "      <th>V6</th>\n",
       "      <th>V7</th>\n",
       "      <th>V8</th>\n",
       "      <th>V9</th>\n",
       "      <th>V10</th>\n",
       "      <th>V11</th>\n",
       "      <th>V12</th>\n",
       "      <th>V13</th>\n",
       "      <th>V14</th>\n",
       "      <th>V15</th>\n",
       "      <th>V16</th>\n",
       "      <th>V17</th>\n",
       "      <th>Amount</th>\n",
       "      <th>Class</th>\n",
       "    </tr>\n",
       "  </thead>\n",
       "  <tbody>\n",
       "    <tr>\n",
       "      <th>0</th>\n",
       "      <td>60.0</td>\n",
       "      <td>1.069141</td>\n",
       "      <td>0.043786</td>\n",
       "      <td>0.309867</td>\n",
       "      <td>1.316694</td>\n",
       "      <td>-0.462394</td>\n",
       "      <td>-0.857888</td>\n",
       "      <td>0.207904</td>\n",
       "      <td>-0.191270</td>\n",
       "      <td>0.056398</td>\n",
       "      <td>0.041567</td>\n",
       "      <td>-0.507358</td>\n",
       "      <td>-0.108666</td>\n",
       "      <td>-0.473257</td>\n",
       "      <td>0.452046</td>\n",
       "      <td>1.005675</td>\n",
       "      <td>0.185441</td>\n",
       "      <td>-0.439976</td>\n",
       "      <td>89.40</td>\n",
       "      <td>0</td>\n",
       "    </tr>\n",
       "    <tr>\n",
       "      <th>1</th>\n",
       "      <td>406.0</td>\n",
       "      <td>-2.312227</td>\n",
       "      <td>1.951992</td>\n",
       "      <td>-1.609851</td>\n",
       "      <td>3.997906</td>\n",
       "      <td>-0.522188</td>\n",
       "      <td>-1.426545</td>\n",
       "      <td>-2.537387</td>\n",
       "      <td>1.391657</td>\n",
       "      <td>-2.770089</td>\n",
       "      <td>-2.772272</td>\n",
       "      <td>3.202033</td>\n",
       "      <td>-2.899907</td>\n",
       "      <td>-0.595222</td>\n",
       "      <td>-4.289254</td>\n",
       "      <td>0.389724</td>\n",
       "      <td>-1.140747</td>\n",
       "      <td>-2.830056</td>\n",
       "      <td>0.00</td>\n",
       "      <td>1</td>\n",
       "    </tr>\n",
       "    <tr>\n",
       "      <th>2</th>\n",
       "      <td>426.0</td>\n",
       "      <td>-1.932055</td>\n",
       "      <td>1.724618</td>\n",
       "      <td>1.288229</td>\n",
       "      <td>-0.396998</td>\n",
       "      <td>-0.140202</td>\n",
       "      <td>2.470521</td>\n",
       "      <td>-1.865298</td>\n",
       "      <td>-5.186855</td>\n",
       "      <td>0.794764</td>\n",
       "      <td>0.155379</td>\n",
       "      <td>0.034517</td>\n",
       "      <td>0.906738</td>\n",
       "      <td>-0.027172</td>\n",
       "      <td>-0.404303</td>\n",
       "      <td>-0.473949</td>\n",
       "      <td>0.274034</td>\n",
       "      <td>-0.222340</td>\n",
       "      <td>16.19</td>\n",
       "      <td>0</td>\n",
       "    </tr>\n",
       "    <tr>\n",
       "      <th>3</th>\n",
       "      <td>472.0</td>\n",
       "      <td>-3.043541</td>\n",
       "      <td>-3.157307</td>\n",
       "      <td>1.088463</td>\n",
       "      <td>2.288644</td>\n",
       "      <td>1.359805</td>\n",
       "      <td>-1.064823</td>\n",
       "      <td>0.325574</td>\n",
       "      <td>-0.067794</td>\n",
       "      <td>-0.270953</td>\n",
       "      <td>-0.838587</td>\n",
       "      <td>-0.414575</td>\n",
       "      <td>-0.503141</td>\n",
       "      <td>0.676502</td>\n",
       "      <td>-1.692029</td>\n",
       "      <td>2.000635</td>\n",
       "      <td>0.666780</td>\n",
       "      <td>0.599717</td>\n",
       "      <td>529.00</td>\n",
       "      <td>1</td>\n",
       "    </tr>\n",
       "    <tr>\n",
       "      <th>4</th>\n",
       "      <td>674.0</td>\n",
       "      <td>-0.719065</td>\n",
       "      <td>0.638954</td>\n",
       "      <td>0.686335</td>\n",
       "      <td>-0.023240</td>\n",
       "      <td>2.317890</td>\n",
       "      <td>3.871978</td>\n",
       "      <td>-0.312797</td>\n",
       "      <td>1.089780</td>\n",
       "      <td>-0.596925</td>\n",
       "      <td>-0.006142</td>\n",
       "      <td>-0.242883</td>\n",
       "      <td>-0.384491</td>\n",
       "      <td>0.109079</td>\n",
       "      <td>0.187565</td>\n",
       "      <td>1.823472</td>\n",
       "      <td>0.274346</td>\n",
       "      <td>-0.697730</td>\n",
       "      <td>22.00</td>\n",
       "      <td>0</td>\n",
       "    </tr>\n",
       "  </tbody>\n",
       "</table>\n",
       "</div>"
      ],
      "text/plain": [
       "    Time        V1        V2        V3        V4        V5        V6  \\\n",
       "0   60.0  1.069141  0.043786  0.309867  1.316694 -0.462394 -0.857888   \n",
       "1  406.0 -2.312227  1.951992 -1.609851  3.997906 -0.522188 -1.426545   \n",
       "2  426.0 -1.932055  1.724618  1.288229 -0.396998 -0.140202  2.470521   \n",
       "3  472.0 -3.043541 -3.157307  1.088463  2.288644  1.359805 -1.064823   \n",
       "4  674.0 -0.719065  0.638954  0.686335 -0.023240  2.317890  3.871978   \n",
       "\n",
       "         V7        V8        V9       V10       V11       V12       V13  \\\n",
       "0  0.207904 -0.191270  0.056398  0.041567 -0.507358 -0.108666 -0.473257   \n",
       "1 -2.537387  1.391657 -2.770089 -2.772272  3.202033 -2.899907 -0.595222   \n",
       "2 -1.865298 -5.186855  0.794764  0.155379  0.034517  0.906738 -0.027172   \n",
       "3  0.325574 -0.067794 -0.270953 -0.838587 -0.414575 -0.503141  0.676502   \n",
       "4 -0.312797  1.089780 -0.596925 -0.006142 -0.242883 -0.384491  0.109079   \n",
       "\n",
       "        V14       V15       V16       V17  Amount  Class  \n",
       "0  0.452046  1.005675  0.185441 -0.439976   89.40      0  \n",
       "1 -4.289254  0.389724 -1.140747 -2.830056    0.00      1  \n",
       "2 -0.404303 -0.473949  0.274034 -0.222340   16.19      0  \n",
       "3 -1.692029  2.000635  0.666780  0.599717  529.00      1  \n",
       "4  0.187565  1.823472  0.274346 -0.697730   22.00      0  "
      ]
     },
     "execution_count": 5,
     "metadata": {},
     "output_type": "execute_result"
    }
   ],
   "source": [
    "df = pd.read_csv('../Edu/code/data/27_problem1.csv')\n",
    "df.head()"
   ]
  },
  {
   "cell_type": "markdown",
   "id": "cdb0d33b-857b-409b-bc66-78d282707fc4",
   "metadata": {},
   "source": [
    " "
   ]
  },
  {
   "cell_type": "markdown",
   "id": "5c190fc0-4e83-43cd-bf08-9428619e7053",
   "metadata": {},
   "source": [
    "# 머신러닝"
   ]
  },
  {
   "cell_type": "markdown",
   "id": "6f2c94d4-be05-4dda-8d84-a84c65995280",
   "metadata": {},
   "source": [
    " "
   ]
  },
  {
   "cell_type": "markdown",
   "id": "f0534e5e-95f6-4a36-93b6-9b03c8d5501d",
   "metadata": {},
   "source": [
    " "
   ]
  },
  {
   "cell_type": "markdown",
   "id": "2aa59b24-362a-4428-a496-6bab4e6e9b61",
   "metadata": {},
   "source": [
    "## 1 데이터 전처리"
   ]
  },
  {
   "cell_type": "markdown",
   "id": "e10c1541-8e52-475a-bc1c-4c68e4c79957",
   "metadata": {},
   "source": [
    " "
   ]
  },
  {
   "cell_type": "markdown",
   "id": "5e93dc6d-8698-441c-aa51-2acbc80f4eb7",
   "metadata": {},
   "source": [
    "### 1-1\n",
    "\n",
    "데이터의 특징 파악 (EDA)"
   ]
  },
  {
   "cell_type": "markdown",
   "id": "f845496e-1b73-4930-8d61-43a428bb05a7",
   "metadata": {},
   "source": [
    " "
   ]
  },
  {
   "cell_type": "markdown",
   "id": "9e1f5fb0-c948-4acc-b317-9af8d46c63d1",
   "metadata": {},
   "source": [
    "### 1-2\n",
    "\n",
    "상관관계 시각화 및 필요한 전처리 설명"
   ]
  },
  {
   "cell_type": "markdown",
   "id": "f4a2324c-4e80-4e7f-8f3b-bca8d8923033",
   "metadata": {},
   "source": [
    " "
   ]
  },
  {
   "cell_type": "markdown",
   "id": "248922ca-d01a-47fd-9b66-0b845d21d462",
   "metadata": {},
   "source": [
    "## 2 차원축소"
   ]
  },
  {
   "cell_type": "markdown",
   "id": "f3c35a8a-5030-4794-ae95-17f9a7765b13",
   "metadata": {},
   "source": [
    " "
   ]
  },
  {
   "cell_type": "markdown",
   "id": "255d1e5a-2960-48a4-ba9b-35fb49088a8a",
   "metadata": {},
   "source": [
    "### 2-1\n",
    "\n",
    "차원축소 방법 2가지 이상을 비교하고 한 가지를 선택"
   ]
  },
  {
   "cell_type": "markdown",
   "id": "22ef9954-53a0-40b4-b465-b670b0162ba9",
   "metadata": {},
   "source": [
    " "
   ]
  },
  {
   "cell_type": "markdown",
   "id": "255c81c3-8763-4088-88eb-ca4c5a083a1e",
   "metadata": {},
   "source": [
    "### 2-2\n",
    "\n",
    "선택한 방법을 수행하고, 선택한 이유 설명"
   ]
  },
  {
   "cell_type": "markdown",
   "id": "17a998f0-9c24-479f-aa89-989363ede250",
   "metadata": {},
   "source": [
    " "
   ]
  },
  {
   "cell_type": "markdown",
   "id": "0c1cefe7-316b-4ac3-93ed-5208644e6b5e",
   "metadata": {},
   "source": [
    "## 3 오버 / 언더 샘플링"
   ]
  },
  {
   "cell_type": "markdown",
   "id": "73ee0c8f-6549-4d5a-a432-3d23fc3d24cd",
   "metadata": {},
   "source": [
    " "
   ]
  },
  {
   "cell_type": "markdown",
   "id": "9d741bf0-e8c1-4259-bdc1-38dfaa0458f1",
   "metadata": {},
   "source": [
    "### 3-1\n",
    "\n",
    "오버샘플링과 언더샘플링의 장단점을 비교하고 선택"
   ]
  },
  {
   "cell_type": "markdown",
   "id": "ab22f188-3ae1-41f8-bc09-10b95b534345",
   "metadata": {},
   "source": [
    " "
   ]
  },
  {
   "cell_type": "markdown",
   "id": "ef90b3d5-fe7a-4b13-89f9-eb9d3ef336ee",
   "metadata": {},
   "source": [
    "### 3-2\n",
    "\n",
    "분류분석 모델 구현 및 선택한 샘플링 기법 중 2가지 이상의  \n",
    "알고리즘으로 모델을 비교하고 성능 측정"
   ]
  },
  {
   "cell_type": "markdown",
   "id": "f33e8440-3d02-4026-8345-3d68b0360ea9",
   "metadata": {},
   "source": [
    " "
   ]
  },
  {
   "cell_type": "markdown",
   "id": "c8da3ae7-c2a5-4c33-be51-41f6def1d4ed",
   "metadata": {},
   "source": [
    "### 3-3\n",
    "\n",
    "현재까지 전처리한 데이터를 통해 분류 모델 수행 후 결과 분석"
   ]
  },
  {
   "cell_type": "markdown",
   "id": "df63c55f-c538-404d-bcf1-7cd357b47ac4",
   "metadata": {},
   "source": [
    " "
   ]
  },
  {
   "cell_type": "markdown",
   "id": "b0f627da-1bfd-4558-9701-302a804d9b4b",
   "metadata": {},
   "source": [
    "## 4 이상탐지 모델"
   ]
  },
  {
   "cell_type": "markdown",
   "id": "d99e4e6d-1317-46eb-8012-3b604e2165c8",
   "metadata": {},
   "source": [
    " "
   ]
  },
  {
   "cell_type": "markdown",
   "id": "29b22af6-b137-4557-bbeb-11ad9dadcca8",
   "metadata": {},
   "source": [
    "### 4-1\n",
    "\n",
    "이상탐지 모델 2가지 이상을 기술하고 장단점 설명"
   ]
  },
  {
   "cell_type": "markdown",
   "id": "81f0e936-0e31-40b0-99b0-b30e8a12884c",
   "metadata": {},
   "source": [
    " "
   ]
  },
  {
   "cell_type": "markdown",
   "id": "2d234f85-07b2-42fa-af83-0e52828c26c2",
   "metadata": {},
   "source": [
    "### 4-2\n",
    "\n",
    "앞서 전처리한 데이터로 한가지 이상의 탐지 모델 구현 및  \n",
    "3 에서 만든 모델과 비교"
   ]
  },
  {
   "cell_type": "markdown",
   "id": "43c2141e-df7f-4442-be29-3f55d6efea47",
   "metadata": {},
   "source": [
    " "
   ]
  },
  {
   "cell_type": "markdown",
   "id": "4bc9e0f5-e0b4-47c0-871a-4176e2467a83",
   "metadata": {},
   "source": [
    "### 4-3\n",
    "\n",
    "데이터분석과 관점에서 3의 모델과 4의 모델을 설명"
   ]
  },
  {
   "cell_type": "markdown",
   "id": "2a4469c4-5d71-4e5a-9a0f-ea9d39b35d02",
   "metadata": {},
   "source": [
    " "
   ]
  },
  {
   "cell_type": "markdown",
   "id": "47519798-68f1-4025-ad8d-78066bc8779d",
   "metadata": {},
   "source": [
    " "
   ]
  },
  {
   "cell_type": "markdown",
   "id": "63269344-f5dd-424d-8adf-b7156cc35284",
   "metadata": {},
   "source": [
    "# 통계분석"
   ]
  },
  {
   "cell_type": "markdown",
   "id": "78c25656-ee38-48f7-88f9-588920e8951f",
   "metadata": {},
   "source": [
    " "
   ]
  },
  {
   "cell_type": "markdown",
   "id": "1ea0f1da-89eb-4cab-afe0-00c65c47804d",
   "metadata": {},
   "source": [
    " "
   ]
  },
  {
   "cell_type": "markdown",
   "id": "df677bed-623a-455c-a556-005c6c091244",
   "metadata": {},
   "source": [
    "## 1\n",
    "\n",
    "2년 전 제품 생산량이 100000개, 1년 전 제품 생산량이 150000개,  \n",
    "그후 기술 상승으로 제품 생산량이 250000개 되었을 때 연평균  \n",
    "상승률의 대표값을 구하라 (소수점 아래 셋째 자리에서 반올림)"
   ]
  },
  {
   "cell_type": "markdown",
   "id": "193f3db8-4a50-4eba-ad1d-77db694a6b44",
   "metadata": {},
   "source": [
    " "
   ]
  },
  {
   "cell_type": "markdown",
   "id": "c04bffa1-0a15-4cba-b9f4-b680ca152768",
   "metadata": {},
   "source": [
    "## 2\n",
    "\n",
    "12건의 광고시간 측정 데이터에서 평균은 15.5초, 분산은 3.2초였다.  \n",
    "이때 광고시간의 90% 신뢰구간을 구하시오."
   ]
  },
  {
   "cell_type": "markdown",
   "id": "2d41e85f-f617-4425-9472-12586b91a46f",
   "metadata": {},
   "source": [
    " "
   ]
  },
  {
   "cell_type": "markdown",
   "id": "9ecbd5c2-256e-4836-9c71-8532d01e76c5",
   "metadata": {},
   "source": [
    "## 3\n",
    "\n",
    "강의 상류와 하류의 생물다양성 점수에 차이가 있는지 유의수준 0.1 하에 검정  \n",
    "(단, 같은 강에서 상/하류는 서로 독립이 아니고, 정규성을 만족한다고 가정)\n",
    "\n",
    "- (1) 가설수립\n",
    "- (2) 검정통계량, 유의확률 구하기, 연구가설 채택여부 검정"
   ]
  },
  {
   "cell_type": "markdown",
   "id": "7ffbdc62-4520-4566-8ff7-1101d61b7257",
   "metadata": {},
   "source": [
    " "
   ]
  },
  {
   "cell_type": "code",
   "execution_count": 6,
   "id": "9bdf394a-4d5a-4862-82dd-56b16322392e",
   "metadata": {},
   "outputs": [
    {
     "data": {
      "text/html": [
       "<div>\n",
       "<style scoped>\n",
       "    .dataframe tbody tr th:only-of-type {\n",
       "        vertical-align: middle;\n",
       "    }\n",
       "\n",
       "    .dataframe tbody tr th {\n",
       "        vertical-align: top;\n",
       "    }\n",
       "\n",
       "    .dataframe thead th {\n",
       "        text-align: right;\n",
       "    }\n",
       "</style>\n",
       "<table border=\"1\" class=\"dataframe\">\n",
       "  <thead>\n",
       "    <tr style=\"text-align: right;\">\n",
       "      <th></th>\n",
       "      <th>river</th>\n",
       "      <th>up</th>\n",
       "      <th>down</th>\n",
       "    </tr>\n",
       "  </thead>\n",
       "  <tbody>\n",
       "    <tr>\n",
       "      <th>0</th>\n",
       "      <td>a</td>\n",
       "      <td>57.1</td>\n",
       "      <td>45.7</td>\n",
       "    </tr>\n",
       "    <tr>\n",
       "      <th>1</th>\n",
       "      <td>b</td>\n",
       "      <td>51.6</td>\n",
       "      <td>37.2</td>\n",
       "    </tr>\n",
       "    <tr>\n",
       "      <th>2</th>\n",
       "      <td>c</td>\n",
       "      <td>53.9</td>\n",
       "      <td>53.3</td>\n",
       "    </tr>\n",
       "    <tr>\n",
       "      <th>3</th>\n",
       "      <td>d</td>\n",
       "      <td>59.0</td>\n",
       "      <td>54.3</td>\n",
       "    </tr>\n",
       "    <tr>\n",
       "      <th>4</th>\n",
       "      <td>e</td>\n",
       "      <td>57.5</td>\n",
       "      <td>46.3</td>\n",
       "    </tr>\n",
       "  </tbody>\n",
       "</table>\n",
       "</div>"
      ],
      "text/plain": [
       "  river    up  down\n",
       "0     a  57.1  45.7\n",
       "1     b  51.6  37.2\n",
       "2     c  53.9  53.3\n",
       "3     d  59.0  54.3\n",
       "4     e  57.5  46.3"
      ]
     },
     "execution_count": 6,
     "metadata": {},
     "output_type": "execute_result"
    }
   ],
   "source": [
    "data = pd.read_csv('../Edu/code/data/27_problem7.csv')\n",
    "data.head()"
   ]
  },
  {
   "cell_type": "markdown",
   "id": "9f9463bf-12ad-4daf-b9a3-ecccca598e7a",
   "metadata": {},
   "source": [
    "## 4\n",
    "\n",
    "usercounts를 종속변수로 하는 데이터\n",
    "\n",
    "- (1) 분위수 회귀분석을 사용해 회귀계수 구하기  \n",
    "  (소수점 아래 셋째자리에서 반올림)\n",
    "- (2) (1)의 회귀계수를 활용해 temperature 10.5, wind 8.2,  \n",
    "  precipitation 3.5일 때 user_counts 예측 (반올림하여 소수 둘째 자리까지)"
   ]
  },
  {
   "cell_type": "markdown",
   "id": "d86cfde0-8575-46e8-9459-bc8581c34c7e",
   "metadata": {},
   "source": [
    " "
   ]
  },
  {
   "cell_type": "code",
   "execution_count": 8,
   "id": "30a3e956-43fe-403a-8c35-0b53b12e4b51",
   "metadata": {},
   "outputs": [
    {
     "data": {
      "text/html": [
       "<div>\n",
       "<style scoped>\n",
       "    .dataframe tbody tr th:only-of-type {\n",
       "        vertical-align: middle;\n",
       "    }\n",
       "\n",
       "    .dataframe tbody tr th {\n",
       "        vertical-align: top;\n",
       "    }\n",
       "\n",
       "    .dataframe thead th {\n",
       "        text-align: right;\n",
       "    }\n",
       "</style>\n",
       "<table border=\"1\" class=\"dataframe\">\n",
       "  <thead>\n",
       "    <tr style=\"text-align: right;\">\n",
       "      <th></th>\n",
       "      <th>temperature</th>\n",
       "      <th>wind</th>\n",
       "      <th>precipitation</th>\n",
       "      <th>user_counts</th>\n",
       "    </tr>\n",
       "  </thead>\n",
       "  <tbody>\n",
       "    <tr>\n",
       "      <th>0</th>\n",
       "      <td>10.400000</td>\n",
       "      <td>4.600</td>\n",
       "      <td>0.844944</td>\n",
       "      <td>6368</td>\n",
       "    </tr>\n",
       "    <tr>\n",
       "      <th>1</th>\n",
       "      <td>5.666667</td>\n",
       "      <td>4.625</td>\n",
       "      <td>0.040860</td>\n",
       "      <td>5902</td>\n",
       "    </tr>\n",
       "    <tr>\n",
       "      <th>2</th>\n",
       "      <td>4.933333</td>\n",
       "      <td>4.725</td>\n",
       "      <td>0.008696</td>\n",
       "      <td>6226</td>\n",
       "    </tr>\n",
       "    <tr>\n",
       "      <th>3</th>\n",
       "      <td>3.400000</td>\n",
       "      <td>2.675</td>\n",
       "      <td>0.156989</td>\n",
       "      <td>5829</td>\n",
       "    </tr>\n",
       "    <tr>\n",
       "      <th>4</th>\n",
       "      <td>8.900000</td>\n",
       "      <td>3.950</td>\n",
       "      <td>7.988462</td>\n",
       "      <td>7589</td>\n",
       "    </tr>\n",
       "  </tbody>\n",
       "</table>\n",
       "</div>"
      ],
      "text/plain": [
       "   temperature   wind  precipitation  user_counts\n",
       "0    10.400000  4.600       0.844944         6368\n",
       "1     5.666667  4.625       0.040860         5902\n",
       "2     4.933333  4.725       0.008696         6226\n",
       "3     3.400000  2.675       0.156989         5829\n",
       "4     8.900000  3.950       7.988462         7589"
      ]
     },
     "execution_count": 8,
     "metadata": {},
     "output_type": "execute_result"
    }
   ],
   "source": [
    "data = pd.read_csv('../Edu/code/data/27_problem8.csv')\n",
    "data.head()"
   ]
  },
  {
   "cell_type": "markdown",
   "id": "7b2d9184-ee4c-4c3f-8440-c6c952bdbc3d",
   "metadata": {},
   "source": [
    "## 5\n",
    "\n",
    "지하철 호선과 월별 승객수 간 상관관계가 있는지 확인\n",
    "\n",
    "- (1) 가설수립\n",
    "- (2) Type III Anova를 사용하여 상관관계 검정"
   ]
  },
  {
   "cell_type": "markdown",
   "id": "3e9f322b-b363-48fd-a357-ff224db6a7e1",
   "metadata": {},
   "source": [
    " "
   ]
  },
  {
   "cell_type": "code",
   "execution_count": 9,
   "id": "b85a8b4d-05eb-47f5-a6e5-4a5e3c4f0486",
   "metadata": {},
   "outputs": [
    {
     "data": {
      "text/html": [
       "<div>\n",
       "<style scoped>\n",
       "    .dataframe tbody tr th:only-of-type {\n",
       "        vertical-align: middle;\n",
       "    }\n",
       "\n",
       "    .dataframe tbody tr th {\n",
       "        vertical-align: top;\n",
       "    }\n",
       "\n",
       "    .dataframe thead th {\n",
       "        text-align: right;\n",
       "    }\n",
       "</style>\n",
       "<table border=\"1\" class=\"dataframe\">\n",
       "  <thead>\n",
       "    <tr style=\"text-align: right;\">\n",
       "      <th></th>\n",
       "      <th>line</th>\n",
       "      <th>month</th>\n",
       "      <th>total</th>\n",
       "    </tr>\n",
       "  </thead>\n",
       "  <tbody>\n",
       "    <tr>\n",
       "      <th>0</th>\n",
       "      <td>1</td>\n",
       "      <td>1</td>\n",
       "      <td>1310</td>\n",
       "    </tr>\n",
       "    <tr>\n",
       "      <th>1</th>\n",
       "      <td>1</td>\n",
       "      <td>2</td>\n",
       "      <td>1300</td>\n",
       "    </tr>\n",
       "    <tr>\n",
       "      <th>2</th>\n",
       "      <td>1</td>\n",
       "      <td>3</td>\n",
       "      <td>1305</td>\n",
       "    </tr>\n",
       "    <tr>\n",
       "      <th>3</th>\n",
       "      <td>1</td>\n",
       "      <td>4</td>\n",
       "      <td>1200</td>\n",
       "    </tr>\n",
       "    <tr>\n",
       "      <th>4</th>\n",
       "      <td>1</td>\n",
       "      <td>5</td>\n",
       "      <td>1301</td>\n",
       "    </tr>\n",
       "  </tbody>\n",
       "</table>\n",
       "</div>"
      ],
      "text/plain": [
       "   line  month  total\n",
       "0     1      1   1310\n",
       "1     1      2   1300\n",
       "2     1      3   1305\n",
       "3     1      4   1200\n",
       "4     1      5   1301"
      ]
     },
     "execution_count": 9,
     "metadata": {},
     "output_type": "execute_result"
    }
   ],
   "source": [
    "data = pd.read_csv('../Edu/code/data/27_problem9.csv')\n",
    "data.head()"
   ]
  }
 ],
 "metadata": {
  "kernelspec": {
   "display_name": "Python 3 (ipykernel)",
   "language": "python",
   "name": "python3"
  },
  "language_info": {
   "codemirror_mode": {
    "name": "ipython",
    "version": 3
   },
   "file_extension": ".py",
   "mimetype": "text/x-python",
   "name": "python",
   "nbconvert_exporter": "python",
   "pygments_lexer": "ipython3",
   "version": "3.10.11"
  }
 },
 "nbformat": 4,
 "nbformat_minor": 5
}
