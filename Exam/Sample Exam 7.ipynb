{
 "cells": [
  {
   "cell_type": "code",
   "execution_count": 1,
   "id": "c7cf4eef-8b3d-4fb8-b25b-81c46823aff8",
   "metadata": {},
   "outputs": [],
   "source": [
    "import pandas as pd\n",
    "import numpy as np\n",
    "import matplotlib.pyplot as plt\n",
    "import seaborn as sns\n",
    "\n",
    "plt.rc('font', family='Malgun Gothic')\n",
    "plt.rcParams['axes.unicode_minus'] = False"
   ]
  },
  {
   "cell_type": "markdown",
   "id": "ea11d9f7-a651-4f47-b6c7-4ea4ea172bec",
   "metadata": {},
   "source": [
    " "
   ]
  },
  {
   "cell_type": "markdown",
   "id": "2c0216a1-8a3b-4167-a894-b5e57ec1dfba",
   "metadata": {},
   "source": [
    "# 머신러닝"
   ]
  },
  {
   "cell_type": "markdown",
   "id": "fba67219-2dac-44a4-a819-bea60262d770",
   "metadata": {},
   "source": [
    " "
   ]
  },
  {
   "cell_type": "markdown",
   "id": "4f59804d-efb9-43cb-a419-7bf319fab3e7",
   "metadata": {},
   "source": [
    "## 1 주택 계약 데이터"
   ]
  },
  {
   "cell_type": "markdown",
   "id": "80740858-e444-4c29-b2d8-36711fcb5c98",
   "metadata": {},
   "source": [
    " "
   ]
  },
  {
   "cell_type": "code",
   "execution_count": 4,
   "id": "da21d31a-785d-4aad-9275-018ebfc7994d",
   "metadata": {
    "scrolled": true
   },
   "outputs": [
    {
     "data": {
      "text/html": [
       "<div>\n",
       "<style scoped>\n",
       "    .dataframe tbody tr th:only-of-type {\n",
       "        vertical-align: middle;\n",
       "    }\n",
       "\n",
       "    .dataframe tbody tr th {\n",
       "        vertical-align: top;\n",
       "    }\n",
       "\n",
       "    .dataframe thead th {\n",
       "        text-align: right;\n",
       "    }\n",
       "</style>\n",
       "<table border=\"1\" class=\"dataframe\">\n",
       "  <thead>\n",
       "    <tr style=\"text-align: right;\">\n",
       "      <th></th>\n",
       "      <th>순번</th>\n",
       "      <th>계약구분</th>\n",
       "      <th>재계약횟수</th>\n",
       "      <th>거주개월</th>\n",
       "      <th>아파트 이름</th>\n",
       "      <th>아파트 ID</th>\n",
       "      <th>아파트 평점</th>\n",
       "      <th>호실고유번호</th>\n",
       "      <th>층</th>\n",
       "      <th>평형대</th>\n",
       "      <th>...</th>\n",
       "      <th>퇴거연도</th>\n",
       "      <th>거주연도</th>\n",
       "      <th>월세(원)</th>\n",
       "      <th>보증금(원)</th>\n",
       "      <th>대표나이</th>\n",
       "      <th>나이</th>\n",
       "      <th>성별</th>\n",
       "      <th>결혼여부</th>\n",
       "      <th>거주자 수</th>\n",
       "      <th>퇴거여부</th>\n",
       "    </tr>\n",
       "  </thead>\n",
       "  <tbody>\n",
       "    <tr>\n",
       "      <th>0</th>\n",
       "      <td>1</td>\n",
       "      <td>유효</td>\n",
       "      <td>10</td>\n",
       "      <td>222</td>\n",
       "      <td>강남아파트</td>\n",
       "      <td>5</td>\n",
       "      <td>7.0</td>\n",
       "      <td>14520</td>\n",
       "      <td>1</td>\n",
       "      <td>12</td>\n",
       "      <td>...</td>\n",
       "      <td>NaN</td>\n",
       "      <td>2008</td>\n",
       "      <td>47100</td>\n",
       "      <td>3646000</td>\n",
       "      <td>46</td>\n",
       "      <td>33</td>\n",
       "      <td>남</td>\n",
       "      <td>미혼</td>\n",
       "      <td>3</td>\n",
       "      <td>미퇴거</td>\n",
       "    </tr>\n",
       "    <tr>\n",
       "      <th>1</th>\n",
       "      <td>1</td>\n",
       "      <td>유효</td>\n",
       "      <td>10</td>\n",
       "      <td>222</td>\n",
       "      <td>강남아파트</td>\n",
       "      <td>5</td>\n",
       "      <td>7.0</td>\n",
       "      <td>14520</td>\n",
       "      <td>1</td>\n",
       "      <td>12</td>\n",
       "      <td>...</td>\n",
       "      <td>NaN</td>\n",
       "      <td>2009</td>\n",
       "      <td>56500</td>\n",
       "      <td>4375000</td>\n",
       "      <td>46</td>\n",
       "      <td>34</td>\n",
       "      <td>남</td>\n",
       "      <td>미혼</td>\n",
       "      <td>3</td>\n",
       "      <td>미퇴거</td>\n",
       "    </tr>\n",
       "    <tr>\n",
       "      <th>2</th>\n",
       "      <td>1</td>\n",
       "      <td>유효</td>\n",
       "      <td>10</td>\n",
       "      <td>222</td>\n",
       "      <td>강남아파트</td>\n",
       "      <td>5</td>\n",
       "      <td>7.0</td>\n",
       "      <td>14520</td>\n",
       "      <td>1</td>\n",
       "      <td>12</td>\n",
       "      <td>...</td>\n",
       "      <td>NaN</td>\n",
       "      <td>2010</td>\n",
       "      <td>56500</td>\n",
       "      <td>4375000</td>\n",
       "      <td>46</td>\n",
       "      <td>35</td>\n",
       "      <td>남</td>\n",
       "      <td>미혼</td>\n",
       "      <td>3</td>\n",
       "      <td>미퇴거</td>\n",
       "    </tr>\n",
       "    <tr>\n",
       "      <th>3</th>\n",
       "      <td>1</td>\n",
       "      <td>유효</td>\n",
       "      <td>10</td>\n",
       "      <td>222</td>\n",
       "      <td>강남아파트</td>\n",
       "      <td>5</td>\n",
       "      <td>7.0</td>\n",
       "      <td>14520</td>\n",
       "      <td>1</td>\n",
       "      <td>12</td>\n",
       "      <td>...</td>\n",
       "      <td>NaN</td>\n",
       "      <td>2011</td>\n",
       "      <td>69900</td>\n",
       "      <td>5408000</td>\n",
       "      <td>46</td>\n",
       "      <td>36</td>\n",
       "      <td>남</td>\n",
       "      <td>미혼</td>\n",
       "      <td>3</td>\n",
       "      <td>미퇴거</td>\n",
       "    </tr>\n",
       "    <tr>\n",
       "      <th>4</th>\n",
       "      <td>1</td>\n",
       "      <td>유효</td>\n",
       "      <td>10</td>\n",
       "      <td>222</td>\n",
       "      <td>강남아파트</td>\n",
       "      <td>5</td>\n",
       "      <td>7.0</td>\n",
       "      <td>14520</td>\n",
       "      <td>1</td>\n",
       "      <td>12</td>\n",
       "      <td>...</td>\n",
       "      <td>NaN</td>\n",
       "      <td>2012</td>\n",
       "      <td>69900</td>\n",
       "      <td>5408000</td>\n",
       "      <td>46</td>\n",
       "      <td>37</td>\n",
       "      <td>남</td>\n",
       "      <td>미혼</td>\n",
       "      <td>3</td>\n",
       "      <td>미퇴거</td>\n",
       "    </tr>\n",
       "  </tbody>\n",
       "</table>\n",
       "<p>5 rows × 23 columns</p>\n",
       "</div>"
      ],
      "text/plain": [
       "   순번 계약구분  재계약횟수  거주개월 아파트 이름  아파트 ID  아파트 평점  호실고유번호  층  평형대  ...  퇴거연도  \\\n",
       "0   1   유효     10   222  강남아파트       5     7.0   14520  1   12  ...   NaN   \n",
       "1   1   유효     10   222  강남아파트       5     7.0   14520  1   12  ...   NaN   \n",
       "2   1   유효     10   222  강남아파트       5     7.0   14520  1   12  ...   NaN   \n",
       "3   1   유효     10   222  강남아파트       5     7.0   14520  1   12  ...   NaN   \n",
       "4   1   유효     10   222  강남아파트       5     7.0   14520  1   12  ...   NaN   \n",
       "\n",
       "   거주연도  월세(원)   보증금(원)  대표나이  나이  성별  결혼여부  거주자 수 퇴거여부  \n",
       "0  2008  47100  3646000    46  33   남    미혼      3  미퇴거  \n",
       "1  2009  56500  4375000    46  34   남    미혼      3  미퇴거  \n",
       "2  2010  56500  4375000    46  35   남    미혼      3  미퇴거  \n",
       "3  2011  69900  5408000    46  36   남    미혼      3  미퇴거  \n",
       "4  2012  69900  5408000    46  37   남    미혼      3  미퇴거  \n",
       "\n",
       "[5 rows x 23 columns]"
      ]
     },
     "execution_count": 4,
     "metadata": {},
     "output_type": "execute_result"
    }
   ],
   "source": [
    "df = pd.read_csv(\n",
    "    'https://raw.githubusercontent.com/ADPclass/ADP_book_ver01/main/data/29_problem1.csv',\n",
    "encoding='cp949')\n",
    "df.head()"
   ]
  },
  {
   "cell_type": "markdown",
   "id": "59b8d971-367a-41d5-90c8-dc108db91930",
   "metadata": {},
   "source": [
    " "
   ]
  },
  {
   "cell_type": "markdown",
   "id": "0fa3dc73-7f22-4b36-928d-2e673bc83665",
   "metadata": {},
   "source": [
    "- (1) 계약자 고유번호(contract_id) 기준으로 가장 최신의  \n",
    "  거주연도(residence_year)만 포함하는 데이터프레임 생성\n",
    "- (2) (1)의 데이터로 EDA 진행 및 결측치 처리\n",
    "- (3) (2)의 데이터에서 이상치 처리\n",
    "- (4) (3)의 데이터에서 재계약 횟수(renewal_counts)의 중앙값을 기준으로  \n",
    "  중앙값보다 크거나 같으면 'High', 작으면 'Low'로 renewal_h/l 변수 생성\n",
    "- (5) (4)의 데이터로 차원을 축소하고 필요한 이유 기술.  \n",
    "  필요하지 않다면 하지 않고 그 이유를 기술\n",
    "- (6) (4) 데이터의 renewal_h/l 변수를 기준으로 데이터를 나누고,  \n",
    "  각 데이터의 특징을 서술\n",
    "- (7) 재계약횟수를 종속변수로하는 회귀분석을 두 가지 이상의 방법론을  \n",
    "  통해 수행하고, 최종 모델을 결정\n",
    "- (8) 최종 모델에서 유의하게 작용하는 변수를 확인하고 설명\n",
    "- (9) 해당 분석결과로 얻을 수 있는 인사이트 제시"
   ]
  },
  {
   "cell_type": "markdown",
   "id": "460880ad-0565-4210-9d1c-1e1afc1dc96a",
   "metadata": {},
   "source": [
    " "
   ]
  },
  {
   "cell_type": "markdown",
   "id": "d0feb910-d8a5-4af9-b900-a79ebf0283d6",
   "metadata": {},
   "source": [
    "## 2 야구 데이터"
   ]
  },
  {
   "cell_type": "markdown",
   "id": "3a7174e6-652f-4640-ad7b-6814c709bee8",
   "metadata": {},
   "source": [
    " "
   ]
  },
  {
   "cell_type": "code",
   "execution_count": 5,
   "id": "8349a47a-b743-463d-82b0-120fc0cdfb54",
   "metadata": {
    "scrolled": true
   },
   "outputs": [
    {
     "data": {
      "text/html": [
       "<div>\n",
       "<style scoped>\n",
       "    .dataframe tbody tr th:only-of-type {\n",
       "        vertical-align: middle;\n",
       "    }\n",
       "\n",
       "    .dataframe tbody tr th {\n",
       "        vertical-align: top;\n",
       "    }\n",
       "\n",
       "    .dataframe thead th {\n",
       "        text-align: right;\n",
       "    }\n",
       "</style>\n",
       "<table border=\"1\" class=\"dataframe\">\n",
       "  <thead>\n",
       "    <tr style=\"text-align: right;\">\n",
       "      <th></th>\n",
       "      <th>game_id</th>\n",
       "      <th>a1_1</th>\n",
       "      <th>a1_2</th>\n",
       "      <th>a2_1</th>\n",
       "      <th>a2_2</th>\n",
       "      <th>a3_1</th>\n",
       "      <th>a3_2</th>\n",
       "      <th>a4_1</th>\n",
       "      <th>a4_2</th>\n",
       "      <th>a5_1</th>\n",
       "      <th>...</th>\n",
       "      <th>a9_2</th>\n",
       "      <th>b1</th>\n",
       "      <th>b2</th>\n",
       "      <th>b3</th>\n",
       "      <th>b4</th>\n",
       "      <th>b5</th>\n",
       "      <th>b6</th>\n",
       "      <th>b7</th>\n",
       "      <th>b8</th>\n",
       "      <th>b9</th>\n",
       "    </tr>\n",
       "  </thead>\n",
       "  <tbody>\n",
       "    <tr>\n",
       "      <th>0</th>\n",
       "      <td>201900016</td>\n",
       "      <td>5</td>\n",
       "      <td>5</td>\n",
       "      <td>5</td>\n",
       "      <td>5</td>\n",
       "      <td>5</td>\n",
       "      <td>5</td>\n",
       "      <td>5</td>\n",
       "      <td>5</td>\n",
       "      <td>5</td>\n",
       "      <td>...</td>\n",
       "      <td>5</td>\n",
       "      <td>0</td>\n",
       "      <td>0</td>\n",
       "      <td>0</td>\n",
       "      <td>0</td>\n",
       "      <td>0</td>\n",
       "      <td>0</td>\n",
       "      <td>0</td>\n",
       "      <td>4</td>\n",
       "      <td>2</td>\n",
       "    </tr>\n",
       "    <tr>\n",
       "      <th>1</th>\n",
       "      <td>201900023</td>\n",
       "      <td>6</td>\n",
       "      <td>4</td>\n",
       "      <td>5</td>\n",
       "      <td>5</td>\n",
       "      <td>2</td>\n",
       "      <td>5</td>\n",
       "      <td>1</td>\n",
       "      <td>1</td>\n",
       "      <td>6</td>\n",
       "      <td>...</td>\n",
       "      <td>7</td>\n",
       "      <td>3</td>\n",
       "      <td>0</td>\n",
       "      <td>0</td>\n",
       "      <td>1</td>\n",
       "      <td>0</td>\n",
       "      <td>1</td>\n",
       "      <td>3</td>\n",
       "      <td>1</td>\n",
       "      <td>0</td>\n",
       "    </tr>\n",
       "    <tr>\n",
       "      <th>2</th>\n",
       "      <td>201900103</td>\n",
       "      <td>5</td>\n",
       "      <td>6</td>\n",
       "      <td>5</td>\n",
       "      <td>5</td>\n",
       "      <td>1</td>\n",
       "      <td>9</td>\n",
       "      <td>5</td>\n",
       "      <td>4</td>\n",
       "      <td>6</td>\n",
       "      <td>...</td>\n",
       "      <td>6</td>\n",
       "      <td>0</td>\n",
       "      <td>0</td>\n",
       "      <td>1</td>\n",
       "      <td>1</td>\n",
       "      <td>4</td>\n",
       "      <td>1</td>\n",
       "      <td>2</td>\n",
       "      <td>0</td>\n",
       "      <td>1</td>\n",
       "    </tr>\n",
       "    <tr>\n",
       "      <th>3</th>\n",
       "      <td>201900112</td>\n",
       "      <td>5</td>\n",
       "      <td>7</td>\n",
       "      <td>6</td>\n",
       "      <td>1</td>\n",
       "      <td>5</td>\n",
       "      <td>5</td>\n",
       "      <td>1</td>\n",
       "      <td>5</td>\n",
       "      <td>1</td>\n",
       "      <td>...</td>\n",
       "      <td>5</td>\n",
       "      <td>0</td>\n",
       "      <td>3</td>\n",
       "      <td>0</td>\n",
       "      <td>0</td>\n",
       "      <td>0</td>\n",
       "      <td>0</td>\n",
       "      <td>1</td>\n",
       "      <td>0</td>\n",
       "      <td>0</td>\n",
       "    </tr>\n",
       "    <tr>\n",
       "      <th>4</th>\n",
       "      <td>201900131</td>\n",
       "      <td>5</td>\n",
       "      <td>1</td>\n",
       "      <td>2</td>\n",
       "      <td>5</td>\n",
       "      <td>2</td>\n",
       "      <td>5</td>\n",
       "      <td>7</td>\n",
       "      <td>2</td>\n",
       "      <td>6</td>\n",
       "      <td>...</td>\n",
       "      <td>6</td>\n",
       "      <td>0</td>\n",
       "      <td>2</td>\n",
       "      <td>4</td>\n",
       "      <td>1</td>\n",
       "      <td>2</td>\n",
       "      <td>2</td>\n",
       "      <td>0</td>\n",
       "      <td>1</td>\n",
       "      <td>0</td>\n",
       "    </tr>\n",
       "  </tbody>\n",
       "</table>\n",
       "<p>5 rows × 28 columns</p>\n",
       "</div>"
      ],
      "text/plain": [
       "     game_id  a1_1  a1_2  a2_1  a2_2  a3_1  a3_2  a4_1  a4_2  a5_1  ...  a9_2  \\\n",
       "0  201900016     5     5     5     5     5     5     5     5     5  ...     5   \n",
       "1  201900023     6     4     5     5     2     5     1     1     6  ...     7   \n",
       "2  201900103     5     6     5     5     1     9     5     4     6  ...     6   \n",
       "3  201900112     5     7     6     1     5     5     1     5     1  ...     5   \n",
       "4  201900131     5     1     2     5     2     5     7     2     6  ...     6   \n",
       "\n",
       "   b1  b2  b3  b4  b5  b6  b7  b8  b9  \n",
       "0   0   0   0   0   0   0   0   4   2  \n",
       "1   3   0   0   1   0   1   3   1   0  \n",
       "2   0   0   1   1   4   1   2   0   1  \n",
       "3   0   3   0   0   0   0   1   0   0  \n",
       "4   0   2   4   1   2   2   0   1   0  \n",
       "\n",
       "[5 rows x 28 columns]"
      ]
     },
     "execution_count": 5,
     "metadata": {},
     "output_type": "execute_result"
    }
   ],
   "source": [
    "df = pd.read_csv(\n",
    "    'https://raw.githubusercontent.com/ADPclass/ADP_book_ver01/main/data/29_problem2.csv')\n",
    "df.head()"
   ]
  },
  {
   "cell_type": "markdown",
   "id": "fe945aef-1132-4a1e-8cc3-1d68f37f5e6b",
   "metadata": {},
   "source": [
    "- (1) 회차별로 1번 타자의 출루 (1 ~ 3루타, 사사구) 가 있는  \n",
    "  경우에 대해 득점이 발생했는지 확인하는 분석을 위한 전처리 수행  \n",
    "  (단 첫 번째 혹은 두 번째 타자가 홈런을 친 경우 해당 회차 데이터는 제외)\n",
    "- (2) (1)에 데이터에 대해 Logistic Regression을 적용하고,  \n",
    "  2번 타자의 희생번트 여부에 대한 회귀계수 검정을 적용\n",
    "- (3) SMOTE를 적용하여 데이터 불균형을 해결하시오\n",
    "- (4) (3)의 데이터에 Logistic Regression을 적용하고 결과 분석"
   ]
  },
  {
   "cell_type": "markdown",
   "id": "8304adcd-73b6-47a6-b4e8-a7e1c08abb0f",
   "metadata": {},
   "source": [
    " "
   ]
  },
  {
   "cell_type": "markdown",
   "id": "e353684b-ad15-4843-ae93-d2f79a6f81b4",
   "metadata": {},
   "source": [
    " "
   ]
  },
  {
   "cell_type": "markdown",
   "id": "40240d3f-519d-47a0-b4ad-5f9d4ee3df83",
   "metadata": {},
   "source": [
    "# 통계분석"
   ]
  },
  {
   "cell_type": "markdown",
   "id": "1d2deb97-a1b7-4548-8390-45007a43d0dd",
   "metadata": {},
   "source": [
    " "
   ]
  },
  {
   "cell_type": "markdown",
   "id": "c66a510e-6ac5-4479-9b7d-686fdb1a369e",
   "metadata": {},
   "source": [
    " "
   ]
  },
  {
   "cell_type": "markdown",
   "id": "bec7ab7e-90cf-4df5-86f5-da24f1ab907b",
   "metadata": {},
   "source": [
    "## 1\n",
    "\n",
    "제품 A의 불량률은 0.03이다. 25개의 제품을 뽑았을 때  \n",
    "3개가 불량일 확률은? (소수점 다섯째 자리에서 반올림)"
   ]
  },
  {
   "cell_type": "markdown",
   "id": "3eaf971f-cfb6-49c5-8111-ce027041e57e",
   "metadata": {},
   "source": [
    " "
   ]
  },
  {
   "cell_type": "markdown",
   "id": "7ec0155b-16e3-4f28-8a20-258f207d163e",
   "metadata": {},
   "source": [
    "## 2 데이터 분석 후 기술\n",
    "\n",
    "- (1) C사 생산제품 1000개 중 양품이 600개, D사 생산제품 500개 중 양품이 200개이다.  \n",
    "  두 회사의 양품률에 차이가 있는지 검정\n",
    "- (2) 각 차종별 범퍼 파손의 정도에 차이가 유의한지 검정\n",
    "- (3) 귀무가설 채택 시 그 의미를 해석하고, 기각이라면 사후분석 시행"
   ]
  },
  {
   "cell_type": "markdown",
   "id": "1a3d95b6-6900-486d-b985-c4df836ac55b",
   "metadata": {},
   "source": [
    " "
   ]
  },
  {
   "cell_type": "markdown",
   "id": "f050b2bf-a821-4d87-8a91-6adc384e1f30",
   "metadata": {},
   "source": [
    "### 2-1"
   ]
  },
  {
   "cell_type": "markdown",
   "id": "0e4bff6a-a4b1-4379-818b-11d01bd83385",
   "metadata": {},
   "source": [
    " "
   ]
  },
  {
   "cell_type": "markdown",
   "id": "7c446df7-8492-4d42-a6e3-be9ffac2584b",
   "metadata": {},
   "source": [
    "### 2-2"
   ]
  },
  {
   "cell_type": "code",
   "execution_count": 7,
   "id": "e2625653-f225-4b68-9a47-26e5d2dff7b6",
   "metadata": {},
   "outputs": [
    {
     "data": {
      "text/html": [
       "<div>\n",
       "<style scoped>\n",
       "    .dataframe tbody tr th:only-of-type {\n",
       "        vertical-align: middle;\n",
       "    }\n",
       "\n",
       "    .dataframe tbody tr th {\n",
       "        vertical-align: top;\n",
       "    }\n",
       "\n",
       "    .dataframe thead th {\n",
       "        text-align: right;\n",
       "    }\n",
       "</style>\n",
       "<table border=\"1\" class=\"dataframe\">\n",
       "  <thead>\n",
       "    <tr style=\"text-align: right;\">\n",
       "      <th></th>\n",
       "      <th>name</th>\n",
       "      <th>ratio</th>\n",
       "    </tr>\n",
       "  </thead>\n",
       "  <tbody>\n",
       "    <tr>\n",
       "      <th>0</th>\n",
       "      <td>A</td>\n",
       "      <td>10.993428</td>\n",
       "    </tr>\n",
       "    <tr>\n",
       "      <th>1</th>\n",
       "      <td>A</td>\n",
       "      <td>9.723471</td>\n",
       "    </tr>\n",
       "    <tr>\n",
       "      <th>2</th>\n",
       "      <td>A</td>\n",
       "      <td>11.295377</td>\n",
       "    </tr>\n",
       "    <tr>\n",
       "      <th>3</th>\n",
       "      <td>A</td>\n",
       "      <td>13.046060</td>\n",
       "    </tr>\n",
       "    <tr>\n",
       "      <th>4</th>\n",
       "      <td>A</td>\n",
       "      <td>9.531693</td>\n",
       "    </tr>\n",
       "  </tbody>\n",
       "</table>\n",
       "</div>"
      ],
      "text/plain": [
       "  name      ratio\n",
       "0    A  10.993428\n",
       "1    A   9.723471\n",
       "2    A  11.295377\n",
       "3    A  13.046060\n",
       "4    A   9.531693"
      ]
     },
     "execution_count": 7,
     "metadata": {},
     "output_type": "execute_result"
    }
   ],
   "source": [
    "data = pd.read_csv(\n",
    "    'https://raw.githubusercontent.com/ADPclass/ADP_book_ver01/main/data/29_problem3.csv')\n",
    "data.head()"
   ]
  },
  {
   "cell_type": "markdown",
   "id": "eec7a41e-1e4e-41d9-9933-e878f701b5b8",
   "metadata": {},
   "source": [
    " "
   ]
  },
  {
   "cell_type": "markdown",
   "id": "54442328-4806-470a-afbb-c05d33bfc21e",
   "metadata": {},
   "source": [
    "### 2-3"
   ]
  },
  {
   "cell_type": "markdown",
   "id": "9f3074eb-24f1-4c8e-ab4a-011538572bea",
   "metadata": {},
   "source": [
    " "
   ]
  },
  {
   "cell_type": "markdown",
   "id": "4b15e1ef-22cc-49f3-a5d7-2b06d326b427",
   "metadata": {},
   "source": [
    "## 3\n",
    "\n",
    "L1 ~ L3 세 개의 생산라인에서 각각 13%, 37%, 50%를 생산하며,  \n",
    "각각 1.1%, 2.1%, 3.3%의 불량률을 갖는다.  \n",
    "불량 제품이 나왔을 때 L1 라인에서 생산되었을 확률은?  \n",
    "(소수점 둘째 자리에서 반올림)"
   ]
  },
  {
   "cell_type": "markdown",
   "id": "6ab9dd8d-94bd-4440-8b7c-1623b6d08ceb",
   "metadata": {},
   "source": [
    " "
   ]
  },
  {
   "cell_type": "code",
   "execution_count": null,
   "id": "2b20fbbf-006f-4e26-afac-0854682295f4",
   "metadata": {},
   "outputs": [],
   "source": []
  }
 ],
 "metadata": {
  "kernelspec": {
   "display_name": "Python 3 (ipykernel)",
   "language": "python",
   "name": "python3"
  },
  "language_info": {
   "codemirror_mode": {
    "name": "ipython",
    "version": 3
   },
   "file_extension": ".py",
   "mimetype": "text/x-python",
   "name": "python",
   "nbconvert_exporter": "python",
   "pygments_lexer": "ipython3",
   "version": "3.10.11"
  }
 },
 "nbformat": 4,
 "nbformat_minor": 5
}
