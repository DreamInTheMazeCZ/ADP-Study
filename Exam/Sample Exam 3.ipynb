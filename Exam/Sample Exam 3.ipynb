{
 "cells": [
  {
   "cell_type": "code",
   "execution_count": 1,
   "id": "a4c7f3a8-bbcd-4315-8133-3bc857ecdd3d",
   "metadata": {},
   "outputs": [],
   "source": [
    "import pandas as pd\n",
    "import numpy as np\n",
    "\n",
    "import os, warnings, time\n",
    "\n",
    "from datetime import datetime, timedelta\n",
    "from scipy import stats\n",
    "\n",
    "from sklearn.model_selection import train_test_split, cross_val_score, GridSearchCV\n",
    "from sklearn.preprocessing import MinMaxScaler, StandardScaler\n",
    "from sklearn.metrics import mean_squared_error, classification_report\n",
    "\n",
    "import matplotlib.pyplot as plt\n",
    "import seaborn as sns"
   ]
  },
  {
   "cell_type": "code",
   "execution_count": 2,
   "id": "1c93b791-d7e9-401a-afc3-bcbb4870b524",
   "metadata": {},
   "outputs": [],
   "source": [
    "warnings.filterwarnings('ignore')"
   ]
  },
  {
   "cell_type": "markdown",
   "id": "b8896086-facb-4983-8552-42335fc85f1a",
   "metadata": {},
   "source": [
    "  "
   ]
  },
  {
   "cell_type": "markdown",
   "id": "869413c2-ce7c-458f-ad8e-2e8805b5acca",
   "metadata": {},
   "source": [
    "  "
   ]
  },
  {
   "cell_type": "markdown",
   "id": "782c2090-b6aa-494d-aaf0-475d5ef5c56f",
   "metadata": {},
   "source": [
    "## 머신러닝 - 객실 사용 여부 관련 데이터"
   ]
  },
  {
   "cell_type": "markdown",
   "id": "c08358ea-a5f8-4d66-bf44-d6500cf5cc6e",
   "metadata": {},
   "source": [
    "  "
   ]
  },
  {
   "cell_type": "code",
   "execution_count": 3,
   "id": "adbbc957-3597-4fca-a74b-7244fa3cbf24",
   "metadata": {
    "scrolled": true
   },
   "outputs": [
    {
     "data": {
      "text/html": [
       "<div>\n",
       "<style scoped>\n",
       "    .dataframe tbody tr th:only-of-type {\n",
       "        vertical-align: middle;\n",
       "    }\n",
       "\n",
       "    .dataframe tbody tr th {\n",
       "        vertical-align: top;\n",
       "    }\n",
       "\n",
       "    .dataframe thead th {\n",
       "        text-align: right;\n",
       "    }\n",
       "</style>\n",
       "<table border=\"1\" class=\"dataframe\">\n",
       "  <thead>\n",
       "    <tr style=\"text-align: right;\">\n",
       "      <th></th>\n",
       "      <th>is_canceled</th>\n",
       "      <th>deposit_type</th>\n",
       "      <th>lead_time</th>\n",
       "      <th>stays_in_weekend_nights</th>\n",
       "      <th>stays_in_week_nights</th>\n",
       "      <th>is_repeated_guest</th>\n",
       "      <th>previous_cancellations</th>\n",
       "      <th>previous_bookings_not_canceled</th>\n",
       "      <th>booking_changes</th>\n",
       "      <th>days_in_waiting_list</th>\n",
       "      <th>adr</th>\n",
       "    </tr>\n",
       "  </thead>\n",
       "  <tbody>\n",
       "    <tr>\n",
       "      <th>0</th>\n",
       "      <td>0</td>\n",
       "      <td>No Deposit</td>\n",
       "      <td>105.0</td>\n",
       "      <td>2</td>\n",
       "      <td>5</td>\n",
       "      <td>NaN</td>\n",
       "      <td>0</td>\n",
       "      <td>0</td>\n",
       "      <td>1</td>\n",
       "      <td>0</td>\n",
       "      <td>131.50</td>\n",
       "    </tr>\n",
       "    <tr>\n",
       "      <th>1</th>\n",
       "      <td>0</td>\n",
       "      <td>No Deposit</td>\n",
       "      <td>303.0</td>\n",
       "      <td>2</td>\n",
       "      <td>2</td>\n",
       "      <td>NaN</td>\n",
       "      <td>0</td>\n",
       "      <td>0</td>\n",
       "      <td>0</td>\n",
       "      <td>0</td>\n",
       "      <td>73.95</td>\n",
       "    </tr>\n",
       "    <tr>\n",
       "      <th>2</th>\n",
       "      <td>0</td>\n",
       "      <td>No Deposit</td>\n",
       "      <td>33.0</td>\n",
       "      <td>2</td>\n",
       "      <td>3</td>\n",
       "      <td>0.0</td>\n",
       "      <td>0</td>\n",
       "      <td>0</td>\n",
       "      <td>0</td>\n",
       "      <td>0</td>\n",
       "      <td>NaN</td>\n",
       "    </tr>\n",
       "    <tr>\n",
       "      <th>3</th>\n",
       "      <td>0</td>\n",
       "      <td>No Deposit</td>\n",
       "      <td>48.0</td>\n",
       "      <td>0</td>\n",
       "      <td>1</td>\n",
       "      <td>0.0</td>\n",
       "      <td>0</td>\n",
       "      <td>0</td>\n",
       "      <td>1</td>\n",
       "      <td>0</td>\n",
       "      <td>80.30</td>\n",
       "    </tr>\n",
       "    <tr>\n",
       "      <th>4</th>\n",
       "      <td>0</td>\n",
       "      <td>No Deposit</td>\n",
       "      <td>216.0</td>\n",
       "      <td>4</td>\n",
       "      <td>7</td>\n",
       "      <td>0.0</td>\n",
       "      <td>0</td>\n",
       "      <td>0</td>\n",
       "      <td>2</td>\n",
       "      <td>0</td>\n",
       "      <td>60.90</td>\n",
       "    </tr>\n",
       "  </tbody>\n",
       "</table>\n",
       "</div>"
      ],
      "text/plain": [
       "   is_canceled deposit_type  lead_time  stays_in_weekend_nights  \\\n",
       "0            0   No Deposit      105.0                        2   \n",
       "1            0   No Deposit      303.0                        2   \n",
       "2            0   No Deposit       33.0                        2   \n",
       "3            0   No Deposit       48.0                        0   \n",
       "4            0   No Deposit      216.0                        4   \n",
       "\n",
       "   stays_in_week_nights  is_repeated_guest  previous_cancellations  \\\n",
       "0                     5                NaN                       0   \n",
       "1                     2                NaN                       0   \n",
       "2                     3                0.0                       0   \n",
       "3                     1                0.0                       0   \n",
       "4                     7                0.0                       0   \n",
       "\n",
       "   previous_bookings_not_canceled  booking_changes  days_in_waiting_list  \\\n",
       "0                               0                1                     0   \n",
       "1                               0                0                     0   \n",
       "2                               0                0                     0   \n",
       "3                               0                1                     0   \n",
       "4                               0                2                     0   \n",
       "\n",
       "      adr  \n",
       "0  131.50  \n",
       "1   73.95  \n",
       "2     NaN  \n",
       "3   80.30  \n",
       "4   60.90  "
      ]
     },
     "execution_count": 3,
     "metadata": {},
     "output_type": "execute_result"
    }
   ],
   "source": [
    "df = pd.read_csv('../Edu/code/data/hotel_bookings.csv')\n",
    "df.head()"
   ]
  },
  {
   "cell_type": "markdown",
   "id": "9976138f-1ca7-4526-9de5-122bb97056ed",
   "metadata": {},
   "source": [
    "  "
   ]
  },
  {
   "cell_type": "markdown",
   "id": "ba54b62b-ccc7-4a80-8bc0-049a876e6a58",
   "metadata": {},
   "source": [
    "### 1 데이터 탐색 및 결과 제시"
   ]
  },
  {
   "cell_type": "code",
   "execution_count": 4,
   "id": "e27a7dce-77dd-4834-be8e-9f6390dd3e60",
   "metadata": {},
   "outputs": [
    {
     "name": "stdout",
     "output_type": "stream",
     "text": [
      "<class 'pandas.core.frame.DataFrame'>\n",
      "RangeIndex: 20000 entries, 0 to 19999\n",
      "Data columns (total 11 columns):\n",
      " #   Column                          Non-Null Count  Dtype  \n",
      "---  ------                          --------------  -----  \n",
      " 0   is_canceled                     20000 non-null  int64  \n",
      " 1   deposit_type                    20000 non-null  object \n",
      " 2   lead_time                       19995 non-null  float64\n",
      " 3   stays_in_weekend_nights         20000 non-null  int64  \n",
      " 4   stays_in_week_nights            20000 non-null  int64  \n",
      " 5   is_repeated_guest               19642 non-null  float64\n",
      " 6   previous_cancellations          20000 non-null  int64  \n",
      " 7   previous_bookings_not_canceled  20000 non-null  int64  \n",
      " 8   booking_changes                 20000 non-null  int64  \n",
      " 9   days_in_waiting_list            20000 non-null  int64  \n",
      " 10  adr                             18937 non-null  float64\n",
      "dtypes: float64(3), int64(7), object(1)\n",
      "memory usage: 1.7+ MB\n"
     ]
    }
   ],
   "source": [
    "df.info()"
   ]
  },
  {
   "cell_type": "code",
   "execution_count": 5,
   "id": "01c60617-096a-43c5-a0b8-4e636c38cb2d",
   "metadata": {},
   "outputs": [
    {
     "data": {
      "text/plain": [
       "array(['No Deposit', 'Refundable', 'Non Refund'], dtype=object)"
      ]
     },
     "execution_count": 5,
     "metadata": {},
     "output_type": "execute_result"
    }
   ],
   "source": [
    "df.deposit_type.unique()"
   ]
  },
  {
   "cell_type": "code",
   "execution_count": 6,
   "id": "b56852c8-d9a1-434a-9c98-9828fe1fdcee",
   "metadata": {},
   "outputs": [
    {
     "data": {
      "text/html": [
       "<div>\n",
       "<style scoped>\n",
       "    .dataframe tbody tr th:only-of-type {\n",
       "        vertical-align: middle;\n",
       "    }\n",
       "\n",
       "    .dataframe tbody tr th {\n",
       "        vertical-align: top;\n",
       "    }\n",
       "\n",
       "    .dataframe thead th {\n",
       "        text-align: right;\n",
       "    }\n",
       "</style>\n",
       "<table border=\"1\" class=\"dataframe\">\n",
       "  <thead>\n",
       "    <tr style=\"text-align: right;\">\n",
       "      <th></th>\n",
       "      <th>is_canceled</th>\n",
       "      <th>lead_time</th>\n",
       "      <th>stays_in_weekend_nights</th>\n",
       "      <th>stays_in_week_nights</th>\n",
       "      <th>is_repeated_guest</th>\n",
       "      <th>previous_cancellations</th>\n",
       "      <th>previous_bookings_not_canceled</th>\n",
       "      <th>booking_changes</th>\n",
       "      <th>days_in_waiting_list</th>\n",
       "      <th>adr</th>\n",
       "    </tr>\n",
       "  </thead>\n",
       "  <tbody>\n",
       "    <tr>\n",
       "      <th>count</th>\n",
       "      <td>20000.00000</td>\n",
       "      <td>19995.000000</td>\n",
       "      <td>20000.000000</td>\n",
       "      <td>20000.000000</td>\n",
       "      <td>19642.000000</td>\n",
       "      <td>20000.000000</td>\n",
       "      <td>20000.000000</td>\n",
       "      <td>20000.000000</td>\n",
       "      <td>20000.000000</td>\n",
       "      <td>18937.000000</td>\n",
       "    </tr>\n",
       "    <tr>\n",
       "      <th>mean</th>\n",
       "      <td>0.12000</td>\n",
       "      <td>85.978345</td>\n",
       "      <td>0.892550</td>\n",
       "      <td>2.380400</td>\n",
       "      <td>0.038133</td>\n",
       "      <td>0.032900</td>\n",
       "      <td>0.169050</td>\n",
       "      <td>0.269400</td>\n",
       "      <td>1.983950</td>\n",
       "      <td>101.410239</td>\n",
       "    </tr>\n",
       "    <tr>\n",
       "      <th>std</th>\n",
       "      <td>0.32497</td>\n",
       "      <td>96.427240</td>\n",
       "      <td>0.952077</td>\n",
       "      <td>1.777345</td>\n",
       "      <td>0.191521</td>\n",
       "      <td>0.455552</td>\n",
       "      <td>1.502426</td>\n",
       "      <td>0.687566</td>\n",
       "      <td>15.927212</td>\n",
       "      <td>49.245097</td>\n",
       "    </tr>\n",
       "    <tr>\n",
       "      <th>min</th>\n",
       "      <td>0.00000</td>\n",
       "      <td>0.000000</td>\n",
       "      <td>0.000000</td>\n",
       "      <td>0.000000</td>\n",
       "      <td>0.000000</td>\n",
       "      <td>0.000000</td>\n",
       "      <td>0.000000</td>\n",
       "      <td>0.000000</td>\n",
       "      <td>0.000000</td>\n",
       "      <td>-6.380000</td>\n",
       "    </tr>\n",
       "    <tr>\n",
       "      <th>25%</th>\n",
       "      <td>0.00000</td>\n",
       "      <td>11.000000</td>\n",
       "      <td>0.000000</td>\n",
       "      <td>1.000000</td>\n",
       "      <td>0.000000</td>\n",
       "      <td>0.000000</td>\n",
       "      <td>0.000000</td>\n",
       "      <td>0.000000</td>\n",
       "      <td>0.000000</td>\n",
       "      <td>68.800000</td>\n",
       "    </tr>\n",
       "    <tr>\n",
       "      <th>50%</th>\n",
       "      <td>0.00000</td>\n",
       "      <td>51.000000</td>\n",
       "      <td>1.000000</td>\n",
       "      <td>2.000000</td>\n",
       "      <td>0.000000</td>\n",
       "      <td>0.000000</td>\n",
       "      <td>0.000000</td>\n",
       "      <td>0.000000</td>\n",
       "      <td>0.000000</td>\n",
       "      <td>94.500000</td>\n",
       "    </tr>\n",
       "    <tr>\n",
       "      <th>75%</th>\n",
       "      <td>0.00000</td>\n",
       "      <td>132.000000</td>\n",
       "      <td>2.000000</td>\n",
       "      <td>3.000000</td>\n",
       "      <td>0.000000</td>\n",
       "      <td>0.000000</td>\n",
       "      <td>0.000000</td>\n",
       "      <td>0.000000</td>\n",
       "      <td>0.000000</td>\n",
       "      <td>126.000000</td>\n",
       "    </tr>\n",
       "    <tr>\n",
       "      <th>max</th>\n",
       "      <td>1.00000</td>\n",
       "      <td>629.000000</td>\n",
       "      <td>13.000000</td>\n",
       "      <td>30.000000</td>\n",
       "      <td>1.000000</td>\n",
       "      <td>26.000000</td>\n",
       "      <td>66.000000</td>\n",
       "      <td>17.000000</td>\n",
       "      <td>379.000000</td>\n",
       "      <td>451.500000</td>\n",
       "    </tr>\n",
       "  </tbody>\n",
       "</table>\n",
       "</div>"
      ],
      "text/plain": [
       "       is_canceled     lead_time  stays_in_weekend_nights  \\\n",
       "count  20000.00000  19995.000000             20000.000000   \n",
       "mean       0.12000     85.978345                 0.892550   \n",
       "std        0.32497     96.427240                 0.952077   \n",
       "min        0.00000      0.000000                 0.000000   \n",
       "25%        0.00000     11.000000                 0.000000   \n",
       "50%        0.00000     51.000000                 1.000000   \n",
       "75%        0.00000    132.000000                 2.000000   \n",
       "max        1.00000    629.000000                13.000000   \n",
       "\n",
       "       stays_in_week_nights  is_repeated_guest  previous_cancellations  \\\n",
       "count          20000.000000       19642.000000            20000.000000   \n",
       "mean               2.380400           0.038133                0.032900   \n",
       "std                1.777345           0.191521                0.455552   \n",
       "min                0.000000           0.000000                0.000000   \n",
       "25%                1.000000           0.000000                0.000000   \n",
       "50%                2.000000           0.000000                0.000000   \n",
       "75%                3.000000           0.000000                0.000000   \n",
       "max               30.000000           1.000000               26.000000   \n",
       "\n",
       "       previous_bookings_not_canceled  booking_changes  days_in_waiting_list  \\\n",
       "count                    20000.000000     20000.000000          20000.000000   \n",
       "mean                         0.169050         0.269400              1.983950   \n",
       "std                          1.502426         0.687566             15.927212   \n",
       "min                          0.000000         0.000000              0.000000   \n",
       "25%                          0.000000         0.000000              0.000000   \n",
       "50%                          0.000000         0.000000              0.000000   \n",
       "75%                          0.000000         0.000000              0.000000   \n",
       "max                         66.000000        17.000000            379.000000   \n",
       "\n",
       "                adr  \n",
       "count  18937.000000  \n",
       "mean     101.410239  \n",
       "std       49.245097  \n",
       "min       -6.380000  \n",
       "25%       68.800000  \n",
       "50%       94.500000  \n",
       "75%      126.000000  \n",
       "max      451.500000  "
      ]
     },
     "execution_count": 6,
     "metadata": {},
     "output_type": "execute_result"
    }
   ],
   "source": [
    "df.describe()"
   ]
  },
  {
   "cell_type": "code",
   "execution_count": 7,
   "id": "ad87064d-cc2d-4b15-a1c3-924f89ef6484",
   "metadata": {},
   "outputs": [
    {
     "data": {
      "text/plain": [
       "is_canceled                          0\n",
       "deposit_type                         0\n",
       "lead_time                            5\n",
       "stays_in_weekend_nights              0\n",
       "stays_in_week_nights                 0\n",
       "is_repeated_guest                  358\n",
       "previous_cancellations               0\n",
       "previous_bookings_not_canceled       0\n",
       "booking_changes                      0\n",
       "days_in_waiting_list                 0\n",
       "adr                               1063\n",
       "dtype: int64"
      ]
     },
     "execution_count": 7,
     "metadata": {},
     "output_type": "execute_result"
    }
   ],
   "source": [
    "df.isna().sum()"
   ]
  },
  {
   "cell_type": "markdown",
   "id": "dd0faba6-5c72-40c7-a876-9293807f98e0",
   "metadata": {},
   "source": [
    " "
   ]
  },
  {
   "cell_type": "markdown",
   "id": "9cf74d41-60bd-4914-88c0-4da2331b3a5f",
   "metadata": {},
   "source": [
    " "
   ]
  },
  {
   "cell_type": "markdown",
   "id": "d70197d7-7740-4265-844f-ced7650f7e26",
   "metadata": {},
   "source": [
    "lead_time, is_repeated_guest, adr 변수에 결측값이 존재하는데,  \n",
    "특히 adr 값에서 많이 확인되고 있다.\n",
    "\n",
    "전체 데이터가 2만 건이므로 제거해도 무방해 보이지만,  \n",
    "K-NN 등으로 대체가 가능할 수도 있으므로 확인이 필요해 보인다.\n",
    "\n",
    "또한 is_로 시작되는 두 변수는 각각 0과 1로된 이진 변수이고,  \n",
    "desposit_type은 object 타입의 명목형 변수라서 인코딩이 필요하다."
   ]
  },
  {
   "cell_type": "markdown",
   "id": "99ff4f1c-23fe-4590-add6-82ba586450a2",
   "metadata": {},
   "source": [
    " "
   ]
  },
  {
   "cell_type": "code",
   "execution_count": 8,
   "id": "c8a128c8-b0da-49a2-b472-1bc7a19d98b8",
   "metadata": {},
   "outputs": [
    {
     "data": {
      "image/png": "[encoded data removed]",
      "text/plain": [
       "<Figure size 640x480 with 2 Axes>"
      ]
     },
     "metadata": {},
     "output_type": "display_data"
    }
   ],
   "source": [
    "corr_df = df.select_dtypes(exclude=object).corr()\n",
    "\n",
    "sns.heatmap(corr_df, annot=True, fmt='.2f')\n",
    "plt.xticks(fontsize=8)\n",
    "plt.yticks(fontsize=8)\n",
    "plt.show();"
   ]
  },
  {
   "cell_type": "markdown",
   "id": "63adddff-f150-45ab-ac49-bd23db5067d6",
   "metadata": {},
   "source": [
    "previous_bookings_not_canceled 변수와 is_repeated_guest  \n",
    "변수 간 상관계수가 가장 높게 확인됐으며 다음으로는  \n",
    "previous_bookings_not_canceled 변수와 previouse_cancellations  \n",
    "변수이지만, 강한 상관관계라고 보기는 어렵다."
   ]
  },
  {
   "cell_type": "code",
   "execution_count": 17,
   "id": "0c147ed5-c600-4b15-a887-3181b4c9d990",
   "metadata": {},
   "outputs": [
    {
     "data": {
      "image/png": "[encoded data removed]",
      "text/plain": [
       "<Figure size 600x700 with 3 Axes>"
      ]
     },
     "metadata": {},
     "output_type": "display_data"
    }
   ],
   "source": [
    "cat_col = ['is_canceled', 'is_repeated_guest', 'deposit_type']\n",
    "\n",
    "plt.figure(figsize=(6, 7))\n",
    "\n",
    "for idx, col in enumerate(cat_col):\n",
    "    plt.subplot(3, 1, idx+1)\n",
    "    df[col].value_counts().plot(kind='bar')\n",
    "    plt.title(col)\n",
    "\n",
    "plt.tight_layout()\n",
    "plt.show();"
   ]
  },
  {
   "cell_type": "markdown",
   "id": "1db3300d-7765-4c23-84d8-9688ad54e3b9",
   "metadata": {},
   "source": [
    "범주형 변수들의 불균형이 심한 편인 것을 확인할 수 있다.  \n",
    "그러나 실제로 충분히 관측 가능한 수준으로 보인다."
   ]
  },
  {
   "cell_type": "code",
   "execution_count": 21,
   "id": "33b88a10-f88c-482f-ae0a-939ff2752d85",
   "metadata": {},
   "outputs": [
    {
     "data": {
      "image/png": "[encoded data removed]",
      "text/plain": [
       "<Figure size 600x700 with 8 Axes>"
      ]
     },
     "metadata": {},
     "output_type": "display_data"
    }
   ],
   "source": [
    "num_df = df.select_dtypes(exclude=object)\n",
    "num_df = num_df.drop(columns=['is_canceled', 'is_repeated_guest'])\n",
    "\n",
    "plt.figure(figsize=(6, 7))\n",
    "\n",
    "for idx, col in enumerate(num_df):\n",
    "    plt.subplot(4, 2, idx+1)\n",
    "    df[col].plot(kind='hist')\n",
    "    plt.title(col)\n",
    "\n",
    "plt.tight_layout()\n",
    "plt.show();"
   ]
  },
  {
   "cell_type": "markdown",
   "id": "147e8ed4-80de-4273-ab3d-6dc221817a6a",
   "metadata": {},
   "source": [
    "lead_time과 adr 변수를 제외한 변수는 순서형 변수로 보이므로  \n",
    "종 모양을 따르지 않고, 분포가 쏠린 것을 확인할 수 있다."
   ]
  },
  {
   "cell_type": "code",
   "execution_count": 24,
   "id": "20c12e4f-f7d5-41b0-8981-a2151873f2f8",
   "metadata": {},
   "outputs": [
    {
     "data": {
      "text/plain": [
       "array([ 0, 11,  2,  3,  9, 32,  4,  1, 16, 25,  7, 14, 12,  5, 27,  6, 19,\n",
       "       26, 13, 17, 10, 21, 52, 24, 29, 18, 15, 66,  8, 22, 23, 20, 30, 35,\n",
       "       33, 60])"
      ]
     },
     "execution_count": 24,
     "metadata": {},
     "output_type": "execute_result"
    }
   ],
   "source": [
    "df['previous_bookings_not_canceled'].unique()"
   ]
  },
  {
   "cell_type": "code",
   "execution_count": 29,
   "id": "a122c26c-4b0a-4367-9f1d-f281b75495fe",
   "metadata": {},
   "outputs": [
    {
     "data": {
      "text/html": [
       "<div>\n",
       "<style scoped>\n",
       "    .dataframe tbody tr th:only-of-type {\n",
       "        vertical-align: middle;\n",
       "    }\n",
       "\n",
       "    .dataframe tbody tr th {\n",
       "        vertical-align: top;\n",
       "    }\n",
       "\n",
       "    .dataframe thead th {\n",
       "        text-align: right;\n",
       "    }\n",
       "</style>\n",
       "<table border=\"1\" class=\"dataframe\">\n",
       "  <thead>\n",
       "    <tr style=\"text-align: right;\">\n",
       "      <th></th>\n",
       "      <th>is_canceled</th>\n",
       "      <th>deposit_type</th>\n",
       "      <th>lead_time</th>\n",
       "      <th>stays_in_weekend_nights</th>\n",
       "      <th>stays_in_week_nights</th>\n",
       "      <th>is_repeated_guest</th>\n",
       "      <th>previous_cancellations</th>\n",
       "      <th>previous_bookings_not_canceled</th>\n",
       "      <th>booking_changes</th>\n",
       "      <th>days_in_waiting_list</th>\n",
       "      <th>adr</th>\n",
       "    </tr>\n",
       "  </thead>\n",
       "  <tbody>\n",
       "    <tr>\n",
       "      <th>21</th>\n",
       "      <td>0</td>\n",
       "      <td>No Deposit</td>\n",
       "      <td>13.0</td>\n",
       "      <td>0</td>\n",
       "      <td>1</td>\n",
       "      <td>1.0</td>\n",
       "      <td>1</td>\n",
       "      <td>11</td>\n",
       "      <td>0</td>\n",
       "      <td>0</td>\n",
       "      <td>67.0</td>\n",
       "    </tr>\n",
       "    <tr>\n",
       "      <th>30</th>\n",
       "      <td>0</td>\n",
       "      <td>No Deposit</td>\n",
       "      <td>4.0</td>\n",
       "      <td>0</td>\n",
       "      <td>1</td>\n",
       "      <td>1.0</td>\n",
       "      <td>0</td>\n",
       "      <td>2</td>\n",
       "      <td>0</td>\n",
       "      <td>0</td>\n",
       "      <td>67.0</td>\n",
       "    </tr>\n",
       "    <tr>\n",
       "      <th>46</th>\n",
       "      <td>0</td>\n",
       "      <td>No Deposit</td>\n",
       "      <td>0.0</td>\n",
       "      <td>0</td>\n",
       "      <td>1</td>\n",
       "      <td>1.0</td>\n",
       "      <td>0</td>\n",
       "      <td>3</td>\n",
       "      <td>0</td>\n",
       "      <td>0</td>\n",
       "      <td>0.0</td>\n",
       "    </tr>\n",
       "    <tr>\n",
       "      <th>100</th>\n",
       "      <td>0</td>\n",
       "      <td>No Deposit</td>\n",
       "      <td>0.0</td>\n",
       "      <td>0</td>\n",
       "      <td>1</td>\n",
       "      <td>1.0</td>\n",
       "      <td>1</td>\n",
       "      <td>9</td>\n",
       "      <td>0</td>\n",
       "      <td>0</td>\n",
       "      <td>30.0</td>\n",
       "    </tr>\n",
       "    <tr>\n",
       "      <th>169</th>\n",
       "      <td>0</td>\n",
       "      <td>No Deposit</td>\n",
       "      <td>71.0</td>\n",
       "      <td>0</td>\n",
       "      <td>1</td>\n",
       "      <td>1.0</td>\n",
       "      <td>0</td>\n",
       "      <td>32</td>\n",
       "      <td>0</td>\n",
       "      <td>0</td>\n",
       "      <td>0.0</td>\n",
       "    </tr>\n",
       "    <tr>\n",
       "      <th>...</th>\n",
       "      <td>...</td>\n",
       "      <td>...</td>\n",
       "      <td>...</td>\n",
       "      <td>...</td>\n",
       "      <td>...</td>\n",
       "      <td>...</td>\n",
       "      <td>...</td>\n",
       "      <td>...</td>\n",
       "      <td>...</td>\n",
       "      <td>...</td>\n",
       "      <td>...</td>\n",
       "    </tr>\n",
       "    <tr>\n",
       "      <th>19095</th>\n",
       "      <td>1</td>\n",
       "      <td>No Deposit</td>\n",
       "      <td>3.0</td>\n",
       "      <td>1</td>\n",
       "      <td>2</td>\n",
       "      <td>1.0</td>\n",
       "      <td>0</td>\n",
       "      <td>1</td>\n",
       "      <td>0</td>\n",
       "      <td>0</td>\n",
       "      <td>67.0</td>\n",
       "    </tr>\n",
       "    <tr>\n",
       "      <th>19172</th>\n",
       "      <td>1</td>\n",
       "      <td>No Deposit</td>\n",
       "      <td>1.0</td>\n",
       "      <td>0</td>\n",
       "      <td>1</td>\n",
       "      <td>1.0</td>\n",
       "      <td>0</td>\n",
       "      <td>2</td>\n",
       "      <td>0</td>\n",
       "      <td>0</td>\n",
       "      <td>35.0</td>\n",
       "    </tr>\n",
       "    <tr>\n",
       "      <th>19223</th>\n",
       "      <td>1</td>\n",
       "      <td>No Deposit</td>\n",
       "      <td>1.0</td>\n",
       "      <td>0</td>\n",
       "      <td>1</td>\n",
       "      <td>1.0</td>\n",
       "      <td>4</td>\n",
       "      <td>11</td>\n",
       "      <td>0</td>\n",
       "      <td>0</td>\n",
       "      <td>0.0</td>\n",
       "    </tr>\n",
       "    <tr>\n",
       "      <th>19517</th>\n",
       "      <td>1</td>\n",
       "      <td>No Deposit</td>\n",
       "      <td>0.0</td>\n",
       "      <td>0</td>\n",
       "      <td>1</td>\n",
       "      <td>1.0</td>\n",
       "      <td>0</td>\n",
       "      <td>5</td>\n",
       "      <td>0</td>\n",
       "      <td>0</td>\n",
       "      <td>35.0</td>\n",
       "    </tr>\n",
       "    <tr>\n",
       "      <th>19741</th>\n",
       "      <td>1</td>\n",
       "      <td>No Deposit</td>\n",
       "      <td>9.0</td>\n",
       "      <td>0</td>\n",
       "      <td>1</td>\n",
       "      <td>1.0</td>\n",
       "      <td>5</td>\n",
       "      <td>3</td>\n",
       "      <td>0</td>\n",
       "      <td>0</td>\n",
       "      <td>35.0</td>\n",
       "    </tr>\n",
       "  </tbody>\n",
       "</table>\n",
       "<p>594 rows × 11 columns</p>\n",
       "</div>"
      ],
      "text/plain": [
       "       is_canceled deposit_type  lead_time  stays_in_weekend_nights  \\\n",
       "21               0   No Deposit       13.0                        0   \n",
       "30               0   No Deposit        4.0                        0   \n",
       "46               0   No Deposit        0.0                        0   \n",
       "100              0   No Deposit        0.0                        0   \n",
       "169              0   No Deposit       71.0                        0   \n",
       "...            ...          ...        ...                      ...   \n",
       "19095            1   No Deposit        3.0                        1   \n",
       "19172            1   No Deposit        1.0                        0   \n",
       "19223            1   No Deposit        1.0                        0   \n",
       "19517            1   No Deposit        0.0                        0   \n",
       "19741            1   No Deposit        9.0                        0   \n",
       "\n",
       "       stays_in_week_nights  is_repeated_guest  previous_cancellations  \\\n",
       "21                        1                1.0                       1   \n",
       "30                        1                1.0                       0   \n",
       "46                        1                1.0                       0   \n",
       "100                       1                1.0                       1   \n",
       "169                       1                1.0                       0   \n",
       "...                     ...                ...                     ...   \n",
       "19095                     2                1.0                       0   \n",
       "19172                     1                1.0                       0   \n",
       "19223                     1                1.0                       4   \n",
       "19517                     1                1.0                       0   \n",
       "19741                     1                1.0                       5   \n",
       "\n",
       "       previous_bookings_not_canceled  booking_changes  days_in_waiting_list  \\\n",
       "21                                 11                0                     0   \n",
       "30                                  2                0                     0   \n",
       "46                                  3                0                     0   \n",
       "100                                 9                0                     0   \n",
       "169                                32                0                     0   \n",
       "...                               ...              ...                   ...   \n",
       "19095                               1                0                     0   \n",
       "19172                               2                0                     0   \n",
       "19223                              11                0                     0   \n",
       "19517                               5                0                     0   \n",
       "19741                               3                0                     0   \n",
       "\n",
       "        adr  \n",
       "21     67.0  \n",
       "30     67.0  \n",
       "46      0.0  \n",
       "100    30.0  \n",
       "169     0.0  \n",
       "...     ...  \n",
       "19095  67.0  \n",
       "19172  35.0  \n",
       "19223   0.0  \n",
       "19517  35.0  \n",
       "19741  35.0  \n",
       "\n",
       "[594 rows x 11 columns]"
      ]
     },
     "execution_count": 29,
     "metadata": {},
     "output_type": "execute_result"
    }
   ],
   "source": [
    "df.loc[(df['is_repeated_guest'] == 1) & (df['previous_bookings_not_canceled'] != 0)]"
   ]
  },
  {
   "cell_type": "code",
   "execution_count": 30,
   "id": "e90976aa-d762-470a-9386-b216745583d2",
   "metadata": {},
   "outputs": [
    {
     "data": {
      "text/html": [
       "<div>\n",
       "<style scoped>\n",
       "    .dataframe tbody tr th:only-of-type {\n",
       "        vertical-align: middle;\n",
       "    }\n",
       "\n",
       "    .dataframe tbody tr th {\n",
       "        vertical-align: top;\n",
       "    }\n",
       "\n",
       "    .dataframe thead th {\n",
       "        text-align: right;\n",
       "    }\n",
       "</style>\n",
       "<table border=\"1\" class=\"dataframe\">\n",
       "  <thead>\n",
       "    <tr style=\"text-align: right;\">\n",
       "      <th></th>\n",
       "      <th>is_canceled</th>\n",
       "      <th>deposit_type</th>\n",
       "      <th>lead_time</th>\n",
       "      <th>stays_in_weekend_nights</th>\n",
       "      <th>stays_in_week_nights</th>\n",
       "      <th>is_repeated_guest</th>\n",
       "      <th>previous_cancellations</th>\n",
       "      <th>previous_bookings_not_canceled</th>\n",
       "      <th>booking_changes</th>\n",
       "      <th>days_in_waiting_list</th>\n",
       "      <th>adr</th>\n",
       "    </tr>\n",
       "  </thead>\n",
       "  <tbody>\n",
       "    <tr>\n",
       "      <th>200</th>\n",
       "      <td>0</td>\n",
       "      <td>No Deposit</td>\n",
       "      <td>8.0</td>\n",
       "      <td>0</td>\n",
       "      <td>1</td>\n",
       "      <td>0.0</td>\n",
       "      <td>0</td>\n",
       "      <td>4</td>\n",
       "      <td>0</td>\n",
       "      <td>0</td>\n",
       "      <td>25.0</td>\n",
       "    </tr>\n",
       "    <tr>\n",
       "      <th>604</th>\n",
       "      <td>0</td>\n",
       "      <td>No Deposit</td>\n",
       "      <td>88.0</td>\n",
       "      <td>2</td>\n",
       "      <td>5</td>\n",
       "      <td>0.0</td>\n",
       "      <td>0</td>\n",
       "      <td>1</td>\n",
       "      <td>2</td>\n",
       "      <td>0</td>\n",
       "      <td>34.0</td>\n",
       "    </tr>\n",
       "    <tr>\n",
       "      <th>685</th>\n",
       "      <td>0</td>\n",
       "      <td>No Deposit</td>\n",
       "      <td>88.0</td>\n",
       "      <td>2</td>\n",
       "      <td>5</td>\n",
       "      <td>0.0</td>\n",
       "      <td>0</td>\n",
       "      <td>1</td>\n",
       "      <td>0</td>\n",
       "      <td>0</td>\n",
       "      <td>236.5</td>\n",
       "    </tr>\n",
       "    <tr>\n",
       "      <th>691</th>\n",
       "      <td>0</td>\n",
       "      <td>No Deposit</td>\n",
       "      <td>2.0</td>\n",
       "      <td>0</td>\n",
       "      <td>0</td>\n",
       "      <td>0.0</td>\n",
       "      <td>0</td>\n",
       "      <td>1</td>\n",
       "      <td>0</td>\n",
       "      <td>0</td>\n",
       "      <td>0.0</td>\n",
       "    </tr>\n",
       "    <tr>\n",
       "      <th>696</th>\n",
       "      <td>0</td>\n",
       "      <td>No Deposit</td>\n",
       "      <td>157.0</td>\n",
       "      <td>2</td>\n",
       "      <td>7</td>\n",
       "      <td>0.0</td>\n",
       "      <td>0</td>\n",
       "      <td>4</td>\n",
       "      <td>0</td>\n",
       "      <td>0</td>\n",
       "      <td>209.4</td>\n",
       "    </tr>\n",
       "    <tr>\n",
       "      <th>...</th>\n",
       "      <td>...</td>\n",
       "      <td>...</td>\n",
       "      <td>...</td>\n",
       "      <td>...</td>\n",
       "      <td>...</td>\n",
       "      <td>...</td>\n",
       "      <td>...</td>\n",
       "      <td>...</td>\n",
       "      <td>...</td>\n",
       "      <td>...</td>\n",
       "      <td>...</td>\n",
       "    </tr>\n",
       "    <tr>\n",
       "      <th>17149</th>\n",
       "      <td>0</td>\n",
       "      <td>No Deposit</td>\n",
       "      <td>102.0</td>\n",
       "      <td>1</td>\n",
       "      <td>0</td>\n",
       "      <td>0.0</td>\n",
       "      <td>0</td>\n",
       "      <td>1</td>\n",
       "      <td>1</td>\n",
       "      <td>0</td>\n",
       "      <td>71.0</td>\n",
       "    </tr>\n",
       "    <tr>\n",
       "      <th>17184</th>\n",
       "      <td>0</td>\n",
       "      <td>No Deposit</td>\n",
       "      <td>96.0</td>\n",
       "      <td>2</td>\n",
       "      <td>5</td>\n",
       "      <td>0.0</td>\n",
       "      <td>0</td>\n",
       "      <td>2</td>\n",
       "      <td>0</td>\n",
       "      <td>0</td>\n",
       "      <td>30.0</td>\n",
       "    </tr>\n",
       "    <tr>\n",
       "      <th>17201</th>\n",
       "      <td>0</td>\n",
       "      <td>No Deposit</td>\n",
       "      <td>0.0</td>\n",
       "      <td>0</td>\n",
       "      <td>0</td>\n",
       "      <td>0.0</td>\n",
       "      <td>0</td>\n",
       "      <td>1</td>\n",
       "      <td>0</td>\n",
       "      <td>0</td>\n",
       "      <td>0.0</td>\n",
       "    </tr>\n",
       "    <tr>\n",
       "      <th>17312</th>\n",
       "      <td>0</td>\n",
       "      <td>No Deposit</td>\n",
       "      <td>17.0</td>\n",
       "      <td>1</td>\n",
       "      <td>3</td>\n",
       "      <td>0.0</td>\n",
       "      <td>0</td>\n",
       "      <td>1</td>\n",
       "      <td>0</td>\n",
       "      <td>0</td>\n",
       "      <td>36.0</td>\n",
       "    </tr>\n",
       "    <tr>\n",
       "      <th>17597</th>\n",
       "      <td>0</td>\n",
       "      <td>No Deposit</td>\n",
       "      <td>31.0</td>\n",
       "      <td>1</td>\n",
       "      <td>0</td>\n",
       "      <td>0.0</td>\n",
       "      <td>0</td>\n",
       "      <td>1</td>\n",
       "      <td>1</td>\n",
       "      <td>0</td>\n",
       "      <td>116.4</td>\n",
       "    </tr>\n",
       "  </tbody>\n",
       "</table>\n",
       "<p>178 rows × 11 columns</p>\n",
       "</div>"
      ],
      "text/plain": [
       "       is_canceled deposit_type  lead_time  stays_in_weekend_nights  \\\n",
       "200              0   No Deposit        8.0                        0   \n",
       "604              0   No Deposit       88.0                        2   \n",
       "685              0   No Deposit       88.0                        2   \n",
       "691              0   No Deposit        2.0                        0   \n",
       "696              0   No Deposit      157.0                        2   \n",
       "...            ...          ...        ...                      ...   \n",
       "17149            0   No Deposit      102.0                        1   \n",
       "17184            0   No Deposit       96.0                        2   \n",
       "17201            0   No Deposit        0.0                        0   \n",
       "17312            0   No Deposit       17.0                        1   \n",
       "17597            0   No Deposit       31.0                        1   \n",
       "\n",
       "       stays_in_week_nights  is_repeated_guest  previous_cancellations  \\\n",
       "200                       1                0.0                       0   \n",
       "604                       5                0.0                       0   \n",
       "685                       5                0.0                       0   \n",
       "691                       0                0.0                       0   \n",
       "696                       7                0.0                       0   \n",
       "...                     ...                ...                     ...   \n",
       "17149                     0                0.0                       0   \n",
       "17184                     5                0.0                       0   \n",
       "17201                     0                0.0                       0   \n",
       "17312                     3                0.0                       0   \n",
       "17597                     0                0.0                       0   \n",
       "\n",
       "       previous_bookings_not_canceled  booking_changes  days_in_waiting_list  \\\n",
       "200                                 4                0                     0   \n",
       "604                                 1                2                     0   \n",
       "685                                 1                0                     0   \n",
       "691                                 1                0                     0   \n",
       "696                                 4                0                     0   \n",
       "...                               ...              ...                   ...   \n",
       "17149                               1                1                     0   \n",
       "17184                               2                0                     0   \n",
       "17201                               1                0                     0   \n",
       "17312                               1                0                     0   \n",
       "17597                               1                1                     0   \n",
       "\n",
       "         adr  \n",
       "200     25.0  \n",
       "604     34.0  \n",
       "685    236.5  \n",
       "691      0.0  \n",
       "696    209.4  \n",
       "...      ...  \n",
       "17149   71.0  \n",
       "17184   30.0  \n",
       "17201    0.0  \n",
       "17312   36.0  \n",
       "17597  116.4  \n",
       "\n",
       "[178 rows x 11 columns]"
      ]
     },
     "execution_count": 30,
     "metadata": {},
     "output_type": "execute_result"
    }
   ],
   "source": [
    "df.loc[(df['is_repeated_guest'] == 0) & (df['previous_bookings_not_canceled'] != 0)]"
   ]
  },
  {
   "cell_type": "markdown",
   "id": "d5f6640e-e55d-491d-92ff-1f69f3bd79d5",
   "metadata": {},
   "source": [
    "상관성이 다소 높았던 is_repeated_guest와 previous_bookings_not_canceled  \n",
    "변수 중 is_repeated_guest의 값을 기준으로 previous_bookings_not_canceled가  \n",
    "0이 아닌 값들을 살펴보니 재방문일 경우 previous_bookings_not_canceled 변수가  \n",
    "0이 아닌 경우가 많은 것으로 확인된다. 이런 부분들이 상관계수에 영향을  \n",
    "준 부분들로 추측된다."
   ]
  },
  {
   "cell_type": "code",
   "execution_count": 34,
   "id": "8d2e210a-0a86-45bd-9a3a-2b7995a5e435",
   "metadata": {},
   "outputs": [
    {
     "data": {
      "image/png": "[encoded data removed]",
      "text/plain": [
       "<Figure size 800x800 with 1 Axes>"
      ]
     },
     "metadata": {},
     "output_type": "display_data"
    }
   ],
   "source": [
    "num_df.plot(kind='box', figsize=(8, 8))\n",
    "plt.xticks(fontsize=7)\n",
    "plt.tight_layout();"
   ]
  },
  {
   "cell_type": "markdown",
   "id": "b137534a-a773-4a25-818f-e80e9ffa6c36",
   "metadata": {},
   "source": [
    "lead_time과 adr 변수가 연속형이라면 이상값을 확인할 필요가 있어보인다."
   ]
  },
  {
   "cell_type": "markdown",
   "id": "14d21f9f-3c98-4c4e-9735-07d499eb4f09",
   "metadata": {},
   "source": [
    "  "
   ]
  },
  {
   "cell_type": "markdown",
   "id": "cf5a17bb-d6b9-4299-86ee-e873b4158ae8",
   "metadata": {},
   "source": [
    "### 2 결측치 탐색 및 대체 방법 및 근거 제시"
   ]
  },
  {
   "cell_type": "code",
   "execution_count": null,
   "id": "e7830db7-9fea-421b-bc99-728a4c3f9f20",
   "metadata": {},
   "outputs": [],
   "source": []
  },
  {
   "cell_type": "code",
   "execution_count": null,
   "id": "cc531d42-4eac-400e-ab77-704bc103bac1",
   "metadata": {},
   "outputs": [],
   "source": []
  },
  {
   "cell_type": "markdown",
   "id": "e85fe07e-f347-40a1-9fdf-131fdfb888f8",
   "metadata": {},
   "source": [
    "  "
   ]
  },
  {
   "cell_type": "markdown",
   "id": "223c3667-5cbe-45b3-a10b-6e4c87e260eb",
   "metadata": {},
   "source": [
    "  "
   ]
  },
  {
   "cell_type": "markdown",
   "id": "ad1f0365-a9af-4ab1-8d29-464c8a2fede4",
   "metadata": {},
   "source": [
    "### 3 데이터 질 향상 방법 제안"
   ]
  },
  {
   "cell_type": "code",
   "execution_count": null,
   "id": "c4d06de8-049b-497a-9984-e92f14f8b07e",
   "metadata": {},
   "outputs": [],
   "source": []
  },
  {
   "cell_type": "code",
   "execution_count": null,
   "id": "f4ae3ebc-aad8-458d-81a2-9aa60f68719c",
   "metadata": {},
   "outputs": [],
   "source": []
  },
  {
   "cell_type": "markdown",
   "id": "bbca7821-4146-4ee3-bee8-968373eb282d",
   "metadata": {},
   "source": [
    "  "
   ]
  },
  {
   "cell_type": "markdown",
   "id": "a3c9ce14-55e1-49f9-a89a-0653d367a161",
   "metadata": {},
   "source": [
    "  "
   ]
  },
  {
   "cell_type": "markdown",
   "id": "980573ca-e3ab-42c7-b8ea-a829f642afc4",
   "metadata": {},
   "source": [
    "### 4 데이터 불균형을 시각화를 통해 식별하고,\n",
    "### 불균형 판단근거 작성"
   ]
  },
  {
   "cell_type": "code",
   "execution_count": null,
   "id": "70494488-1f10-4e72-b78d-68f6ae309fcf",
   "metadata": {},
   "outputs": [],
   "source": []
  },
  {
   "cell_type": "code",
   "execution_count": null,
   "id": "c3bddf63-f51d-436d-b74a-1418c5109e42",
   "metadata": {},
   "outputs": [],
   "source": []
  },
  {
   "cell_type": "markdown",
   "id": "7816467b-6682-446c-af35-a5cf1a08b303",
   "metadata": {},
   "source": [
    "  "
   ]
  },
  {
   "cell_type": "markdown",
   "id": "c46d2a41-a75c-4b61-8c30-1d6ad349a525",
   "metadata": {},
   "source": [
    "  "
   ]
  },
  {
   "cell_type": "markdown",
   "id": "30243e9f-765a-43b1-a69e-2149c57b5fe9",
   "metadata": {},
   "source": [
    "### 5 오버샘플링 기법을 설명하고, 비교한 뒤\n",
    "### 2개 기법을 선정하고 근거 제시"
   ]
  },
  {
   "cell_type": "code",
   "execution_count": null,
   "id": "77edfc0d-c593-49cd-95cf-600ef2a3a3f0",
   "metadata": {},
   "outputs": [],
   "source": []
  },
  {
   "cell_type": "code",
   "execution_count": null,
   "id": "119d6491-24ec-478e-827f-6874453c79d7",
   "metadata": {},
   "outputs": [],
   "source": []
  },
  {
   "cell_type": "markdown",
   "id": "7ac751d7-e5e9-4c6a-b607-a0b39fc3293d",
   "metadata": {},
   "source": [
    "  "
   ]
  },
  {
   "cell_type": "markdown",
   "id": "05e5e811-f02a-4e17-a9b3-0de14c5d5081",
   "metadata": {},
   "source": [
    "  "
   ]
  },
  {
   "cell_type": "markdown",
   "id": "131f8ae8-b146-4ec1-9d07-928b0735f4a0",
   "metadata": {},
   "source": [
    "### 6 기법 선정 이유 작성 및 원데이터를 포함한 3개의 데이터셋 구성"
   ]
  },
  {
   "cell_type": "code",
   "execution_count": null,
   "id": "cc582f00-2ce1-4c40-a44a-df3362230f67",
   "metadata": {},
   "outputs": [],
   "source": []
  },
  {
   "cell_type": "code",
   "execution_count": null,
   "id": "4edf75d3-c69e-4dcc-b8fc-87c0d14fe53a",
   "metadata": {},
   "outputs": [],
   "source": []
  },
  {
   "cell_type": "markdown",
   "id": "4ce2a106-5c2d-40b1-9eaf-0935fbaefa0c",
   "metadata": {},
   "source": [
    "  "
   ]
  },
  {
   "cell_type": "markdown",
   "id": "016306ae-6c87-48bc-b779-ffab6fb7aa2b",
   "metadata": {},
   "source": [
    "  "
   ]
  },
  {
   "cell_type": "markdown",
   "id": "c73e88f3-935d-404c-8d11-95436d2794af",
   "metadata": {},
   "source": [
    "### 7 오버샘플링 데이터와 원데이터를 사용해 정확도 측면 모델 1개,\n",
    "### 속도 측면 모델 1개를 선정하고 그 이유를 설명"
   ]
  },
  {
   "cell_type": "code",
   "execution_count": null,
   "id": "0660d2bf-cd1a-4d02-a0d7-fb9ac38e370c",
   "metadata": {},
   "outputs": [],
   "source": []
  },
  {
   "cell_type": "code",
   "execution_count": null,
   "id": "d9f04810-ee25-437f-b990-b57a6418330b",
   "metadata": {},
   "outputs": [],
   "source": []
  },
  {
   "cell_type": "markdown",
   "id": "f4420bc5-3743-498b-89f9-9f7cb7fb20b9",
   "metadata": {},
   "source": [
    "  "
   ]
  },
  {
   "cell_type": "markdown",
   "id": "b88671f0-3e44-4f84-a80d-8cc95eebaad4",
   "metadata": {},
   "source": [
    "  "
   ]
  },
  {
   "cell_type": "markdown",
   "id": "5cfbbfd5-3696-4933-8e32-71c640b0d964",
   "metadata": {},
   "source": [
    "### 8 오버샘플링 데이터와 원데이터로 각각 분류한 결과로\n",
    "### 오버샘플링이 성능에 미친 영향에 대해 작성"
   ]
  },
  {
   "cell_type": "code",
   "execution_count": null,
   "id": "a3fc8857-bc30-4844-9635-12443a6d6efd",
   "metadata": {},
   "outputs": [],
   "source": []
  },
  {
   "cell_type": "code",
   "execution_count": null,
   "id": "ff698319-8b76-4323-8fce-9de196472273",
   "metadata": {},
   "outputs": [],
   "source": []
  },
  {
   "cell_type": "markdown",
   "id": "cf6ae4d0-8c32-467b-817d-dc9a99f5ea6c",
   "metadata": {},
   "source": [
    "  "
   ]
  },
  {
   "cell_type": "markdown",
   "id": "99854948-fcd1-47ec-8c5c-089854be3a15",
   "metadata": {},
   "source": [
    "  "
   ]
  },
  {
   "cell_type": "markdown",
   "id": "3cfc96d9-56a1-48f8-b524-e41fa31fb3b7",
   "metadata": {},
   "source": [
    "## 통계"
   ]
  },
  {
   "cell_type": "markdown",
   "id": "19948207-32d2-43da-b056-7949e0bae950",
   "metadata": {},
   "source": [
    "  "
   ]
  },
  {
   "cell_type": "markdown",
   "id": "61beeee0-1dbe-42ec-bc91-fed7df0853b8",
   "metadata": {},
   "source": [
    "  "
   ]
  },
  {
   "cell_type": "markdown",
   "id": "eb86616c-286a-4756-ae27-bf144bc37eb6",
   "metadata": {},
   "source": [
    "### 1\n",
    "\n",
    "공장에서는 시제품의 농도(%)가 60이라고 주장하며 품질관리팀에서  \n",
    "10개의 샘플을 뽑았다. 유의수준 5%에서 다음을 검정.\n",
    "\n",
    "#### 데이터 : 52, 61, 61, 60, 26, 45, 60, 35, 60, 14\n",
    "\n",
    "- (1) 연구가설, 귀무가설 작성\n",
    "- (2) 유효한 샘플의 수 계산\n",
    "- (3) 검정통계량을 구하고, 연구가설 채택 여부 작성"
   ]
  },
  {
   "cell_type": "markdown",
   "id": "0adebb9c-4ac3-43ef-b8fa-f02386e70223",
   "metadata": {},
   "source": [
    "### 1-1"
   ]
  },
  {
   "cell_type": "markdown",
   "id": "1eba555e-63e1-429a-bef6-057cc08c3e6b",
   "metadata": {},
   "source": [
    "### 1-2"
   ]
  },
  {
   "cell_type": "markdown",
   "id": "28c7c905-9cf9-471a-b217-d6b9d7c607ae",
   "metadata": {},
   "source": [
    "### 1-3"
   ]
  },
  {
   "cell_type": "markdown",
   "id": "e5a4acde-9c08-4edc-b72a-2cc840414973",
   "metadata": {},
   "source": [
    "  "
   ]
  },
  {
   "cell_type": "markdown",
   "id": "3873e8a5-38d4-4a11-92f8-e154dc439288",
   "metadata": {},
   "source": [
    "  "
   ]
  },
  {
   "cell_type": "markdown",
   "id": "a36c7e58-89ed-45f1-ba96-700ea93dd6b7",
   "metadata": {},
   "source": [
    "### 2\n",
    "\n",
    "코로나 시계열 데이터 활용\n",
    "\n",
    "- (1) ACF를 사용해 distancd를 계산\n",
    "- (2) 계층적 군집분석을 위해 덴드로그램 작성"
   ]
  },
  {
   "cell_type": "code",
   "execution_count": 9,
   "id": "b1fb322d-55e6-47ab-b1a1-1724031e0528",
   "metadata": {},
   "outputs": [
    {
     "data": {
      "text/html": [
       "<div>\n",
       "<style scoped>\n",
       "    .dataframe tbody tr th:only-of-type {\n",
       "        vertical-align: middle;\n",
       "    }\n",
       "\n",
       "    .dataframe tbody tr th {\n",
       "        vertical-align: top;\n",
       "    }\n",
       "\n",
       "    .dataframe thead th {\n",
       "        text-align: right;\n",
       "    }\n",
       "</style>\n",
       "<table border=\"1\" class=\"dataframe\">\n",
       "  <thead>\n",
       "    <tr style=\"text-align: right;\">\n",
       "      <th></th>\n",
       "      <th>날짜</th>\n",
       "      <th>종로구</th>\n",
       "      <th>중구</th>\n",
       "      <th>용산구</th>\n",
       "      <th>성동구</th>\n",
       "      <th>광진구</th>\n",
       "      <th>동대문구</th>\n",
       "      <th>중랑구</th>\n",
       "      <th>성북구</th>\n",
       "      <th>강북구</th>\n",
       "      <th>...</th>\n",
       "      <th>강서구</th>\n",
       "      <th>구로구</th>\n",
       "      <th>금천구</th>\n",
       "      <th>영등포구</th>\n",
       "      <th>동작구</th>\n",
       "      <th>관악구</th>\n",
       "      <th>서초구</th>\n",
       "      <th>강남구</th>\n",
       "      <th>송파구</th>\n",
       "      <th>강동구</th>\n",
       "    </tr>\n",
       "  </thead>\n",
       "  <tbody>\n",
       "    <tr>\n",
       "      <th>0</th>\n",
       "      <td>2022-03-30</td>\n",
       "      <td>37261</td>\n",
       "      <td>33753</td>\n",
       "      <td>55376</td>\n",
       "      <td>81018</td>\n",
       "      <td>96008</td>\n",
       "      <td>95433</td>\n",
       "      <td>103288</td>\n",
       "      <td>116862</td>\n",
       "      <td>75118</td>\n",
       "      <td>...</td>\n",
       "      <td>148359</td>\n",
       "      <td>109973</td>\n",
       "      <td>63687</td>\n",
       "      <td>110293</td>\n",
       "      <td>106238</td>\n",
       "      <td>132305</td>\n",
       "      <td>104368</td>\n",
       "      <td>136200</td>\n",
       "      <td>176765</td>\n",
       "      <td>121926</td>\n",
       "    </tr>\n",
       "    <tr>\n",
       "      <th>1</th>\n",
       "      <td>2022-03-29</td>\n",
       "      <td>36216</td>\n",
       "      <td>32835</td>\n",
       "      <td>53872</td>\n",
       "      <td>79030</td>\n",
       "      <td>93474</td>\n",
       "      <td>92993</td>\n",
       "      <td>100255</td>\n",
       "      <td>113609</td>\n",
       "      <td>72934</td>\n",
       "      <td>...</td>\n",
       "      <td>143573</td>\n",
       "      <td>106162</td>\n",
       "      <td>61840</td>\n",
       "      <td>106171</td>\n",
       "      <td>102955</td>\n",
       "      <td>127626</td>\n",
       "      <td>100529</td>\n",
       "      <td>132333</td>\n",
       "      <td>172292</td>\n",
       "      <td>118842</td>\n",
       "    </tr>\n",
       "    <tr>\n",
       "      <th>2</th>\n",
       "      <td>2022-03-28</td>\n",
       "      <td>35276</td>\n",
       "      <td>31878</td>\n",
       "      <td>52391</td>\n",
       "      <td>76802</td>\n",
       "      <td>91030</td>\n",
       "      <td>90277</td>\n",
       "      <td>97419</td>\n",
       "      <td>110583</td>\n",
       "      <td>70754</td>\n",
       "      <td>...</td>\n",
       "      <td>139633</td>\n",
       "      <td>103573</td>\n",
       "      <td>59946</td>\n",
       "      <td>104109</td>\n",
       "      <td>100665</td>\n",
       "      <td>124805</td>\n",
       "      <td>98869</td>\n",
       "      <td>128813</td>\n",
       "      <td>167386</td>\n",
       "      <td>115846</td>\n",
       "    </tr>\n",
       "    <tr>\n",
       "      <th>3</th>\n",
       "      <td>2022-03-27</td>\n",
       "      <td>34879</td>\n",
       "      <td>31577</td>\n",
       "      <td>51652</td>\n",
       "      <td>76108</td>\n",
       "      <td>89876</td>\n",
       "      <td>89302</td>\n",
       "      <td>96359</td>\n",
       "      <td>109500</td>\n",
       "      <td>70003</td>\n",
       "      <td>...</td>\n",
       "      <td>137908</td>\n",
       "      <td>102610</td>\n",
       "      <td>59393</td>\n",
       "      <td>102916</td>\n",
       "      <td>99426</td>\n",
       "      <td>123374</td>\n",
       "      <td>96873</td>\n",
       "      <td>126296</td>\n",
       "      <td>165373</td>\n",
       "      <td>113549</td>\n",
       "    </tr>\n",
       "    <tr>\n",
       "      <th>4</th>\n",
       "      <td>2022-03-26</td>\n",
       "      <td>34061</td>\n",
       "      <td>30903</td>\n",
       "      <td>50720</td>\n",
       "      <td>74178</td>\n",
       "      <td>87770</td>\n",
       "      <td>87345</td>\n",
       "      <td>93690</td>\n",
       "      <td>106437</td>\n",
       "      <td>68329</td>\n",
       "      <td>...</td>\n",
       "      <td>134285</td>\n",
       "      <td>99938</td>\n",
       "      <td>57925</td>\n",
       "      <td>100349</td>\n",
       "      <td>96989</td>\n",
       "      <td>120413</td>\n",
       "      <td>95124</td>\n",
       "      <td>123992</td>\n",
       "      <td>161650</td>\n",
       "      <td>110649</td>\n",
       "    </tr>\n",
       "  </tbody>\n",
       "</table>\n",
       "<p>5 rows × 26 columns</p>\n",
       "</div>"
      ],
      "text/plain": [
       "           날짜    종로구     중구    용산구    성동구    광진구   동대문구     중랑구     성북구  \\\n",
       "0  2022-03-30  37261  33753  55376  81018  96008  95433  103288  116862   \n",
       "1  2022-03-29  36216  32835  53872  79030  93474  92993  100255  113609   \n",
       "2  2022-03-28  35276  31878  52391  76802  91030  90277   97419  110583   \n",
       "3  2022-03-27  34879  31577  51652  76108  89876  89302   96359  109500   \n",
       "4  2022-03-26  34061  30903  50720  74178  87770  87345   93690  106437   \n",
       "\n",
       "     강북구  ...     강서구     구로구    금천구    영등포구     동작구     관악구     서초구     강남구  \\\n",
       "0  75118  ...  148359  109973  63687  110293  106238  132305  104368  136200   \n",
       "1  72934  ...  143573  106162  61840  106171  102955  127626  100529  132333   \n",
       "2  70754  ...  139633  103573  59946  104109  100665  124805   98869  128813   \n",
       "3  70003  ...  137908  102610  59393  102916   99426  123374   96873  126296   \n",
       "4  68329  ...  134285   99938  57925  100349   96989  120413   95124  123992   \n",
       "\n",
       "      송파구     강동구  \n",
       "0  176765  121926  \n",
       "1  172292  118842  \n",
       "2  167386  115846  \n",
       "3  165373  113549  \n",
       "4  161650  110649  \n",
       "\n",
       "[5 rows x 26 columns]"
      ]
     },
     "execution_count": 9,
     "metadata": {},
     "output_type": "execute_result"
    }
   ],
   "source": [
    "covid = pd.read_csv('../Edu/code/data/서울특별시 코로나19.csv')\n",
    "covid.head()"
   ]
  },
  {
   "cell_type": "markdown",
   "id": "3abb60ae-c755-45d2-9bc0-c3c8a93b0007",
   "metadata": {},
   "source": [
    "### 2-1"
   ]
  },
  {
   "cell_type": "markdown",
   "id": "e68c7906-2986-4523-b269-0ce7b0be6def",
   "metadata": {},
   "source": [
    "### 2-2"
   ]
  },
  {
   "cell_type": "markdown",
   "id": "c2998f64-4cd6-4fdc-8f4b-d501aba5c3ed",
   "metadata": {},
   "source": [
    "  "
   ]
  },
  {
   "cell_type": "markdown",
   "id": "45d24962-324f-4c66-abfe-ce6f81411c3d",
   "metadata": {},
   "source": [
    "  "
   ]
  },
  {
   "cell_type": "markdown",
   "id": "38f3f7d1-1cd6-4726-9bc0-c6bda28288a6",
   "metadata": {},
   "source": [
    "### 3\n",
    "\n",
    "사회과학, 자연과학, 공학 세 개 학과의 평점조사표를 보고  \n",
    "학과와 성적이 관계있는지 검정\n",
    "\n",
    "- (1) 연구가설, 귀무가설 작성\n",
    "- (2) 학과와 성적이 독립일 때의 기댓값\n",
    "- (3) 검정통계량을 구하고 연구가설 채택 여부 작성"
   ]
  },
  {
   "cell_type": "markdown",
   "id": "2988aa1e-4113-4f88-80b7-c42472ab4c04",
   "metadata": {},
   "source": [
    "### 3-1"
   ]
  },
  {
   "cell_type": "markdown",
   "id": "db0447a8-f84d-4a81-b438-799bf3bcbf3e",
   "metadata": {},
   "source": [
    "### 3-2"
   ]
  },
  {
   "cell_type": "markdown",
   "id": "1c3285cf-f600-43b0-9099-5edb51177b90",
   "metadata": {},
   "source": [
    "### 3-3"
   ]
  },
  {
   "cell_type": "code",
   "execution_count": null,
   "id": "2da83f62-1d61-4352-a224-2815f68ad0eb",
   "metadata": {},
   "outputs": [],
   "source": []
  }
 ],
 "metadata": {
  "kernelspec": {
   "display_name": "Python 3 (ipykernel)",
   "language": "python",
   "name": "python3"
  },
  "language_info": {
   "codemirror_mode": {
    "name": "ipython",
    "version": 3
   },
   "file_extension": ".py",
   "mimetype": "text/x-python",
   "name": "python",
   "nbconvert_exporter": "python",
   "pygments_lexer": "ipython3",
   "version": "3.10.11"
  }
 },
 "nbformat": 4,
 "nbformat_minor": 5
}
