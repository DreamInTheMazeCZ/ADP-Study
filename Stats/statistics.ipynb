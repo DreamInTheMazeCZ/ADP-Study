{
 "cells": [
  {
   "cell_type": "markdown",
   "id": "75f94b25",
   "metadata": {},
   "source": [
    "## 일표본 T검정 (One sample T-Test)\n",
    "- 한 개의 모집단을 이루고 있는 양적 자료의 모평균에 대한 가설검정으로, 이전보다 모평균의 변화를 통계적으로 검정\n",
    "- H0 (귀무가설) : [기준]의 평균은 [수치]이다.\n",
    "- H1 (대립가설) : [기준]의 평균은 [수치]와 다르다.\n",
    "\n",
    "### 1. 정규성 검정\n",
    "- 정규분포를 따르는지 검정\n",
    "- H0 (귀무가설) : 정규분포를 따름\n",
    "- H1 (대립가설) : 정규분포를 따르지 않음\n",
    "- 데이터 수량 < 5000 : Shapiro-wilk Test (stats.shapiro)\n",
    "- 데이터 수량 >= 5000 : Anderson-darling Test (stats.anderson)\n",
    "\n",
    "#### - 1-1. 정규성 만족 : 일표본 T검정 (stats.ttest_1samp)\n",
    "#### - 1-2. 정규성 불만족 : Wilcoxon 부호순위검정 (stats.wilcoxon)\n",
    "\n",
    "![One sample T-Test](https://img1.daumcdn.net/thumb/R1280x0/?scode=mtistory2&fname=https%3A%2F%2Fblog.kakaocdn.net%2Fdn%2FbHUdcG%2FbtqG5Mf7jDQ%2F4bjOIBQcMGe0XpfHvb6oM1%2Fimg.jpg \"1 표본 검정\")"
   ]
  },
  {
   "cell_type": "code",
   "execution_count": 1,
   "id": "09d1927d",
   "metadata": {},
   "outputs": [],
   "source": [
    "import pandas as pd\n",
    "import scipy.stats as stats"
   ]
  },
  {
   "cell_type": "code",
   "execution_count": 2,
   "id": "a5333cac",
   "metadata": {
    "scrolled": false
   },
   "outputs": [
    {
     "data": {
      "text/html": [
       "<div>\n",
       "<style scoped>\n",
       "    .dataframe tbody tr th:only-of-type {\n",
       "        vertical-align: middle;\n",
       "    }\n",
       "\n",
       "    .dataframe tbody tr th {\n",
       "        vertical-align: top;\n",
       "    }\n",
       "\n",
       "    .dataframe thead th {\n",
       "        text-align: right;\n",
       "    }\n",
       "</style>\n",
       "<table border=\"1\" class=\"dataframe\">\n",
       "  <thead>\n",
       "    <tr style=\"text-align: right;\">\n",
       "      <th></th>\n",
       "      <th>carat</th>\n",
       "      <th>cut</th>\n",
       "      <th>color</th>\n",
       "      <th>clarity</th>\n",
       "      <th>depth</th>\n",
       "      <th>table</th>\n",
       "      <th>price</th>\n",
       "      <th>x</th>\n",
       "      <th>y</th>\n",
       "      <th>z</th>\n",
       "    </tr>\n",
       "  </thead>\n",
       "  <tbody>\n",
       "    <tr>\n",
       "      <th>1</th>\n",
       "      <td>0.23</td>\n",
       "      <td>Ideal</td>\n",
       "      <td>E</td>\n",
       "      <td>SI2</td>\n",
       "      <td>61.5</td>\n",
       "      <td>55.0</td>\n",
       "      <td>326</td>\n",
       "      <td>3.95</td>\n",
       "      <td>3.98</td>\n",
       "      <td>2.43</td>\n",
       "    </tr>\n",
       "    <tr>\n",
       "      <th>2</th>\n",
       "      <td>0.21</td>\n",
       "      <td>Premium</td>\n",
       "      <td>E</td>\n",
       "      <td>SI1</td>\n",
       "      <td>59.8</td>\n",
       "      <td>61.0</td>\n",
       "      <td>326</td>\n",
       "      <td>3.89</td>\n",
       "      <td>3.84</td>\n",
       "      <td>2.31</td>\n",
       "    </tr>\n",
       "    <tr>\n",
       "      <th>3</th>\n",
       "      <td>0.23</td>\n",
       "      <td>Good</td>\n",
       "      <td>E</td>\n",
       "      <td>VS1</td>\n",
       "      <td>56.9</td>\n",
       "      <td>65.0</td>\n",
       "      <td>327</td>\n",
       "      <td>4.05</td>\n",
       "      <td>4.07</td>\n",
       "      <td>2.31</td>\n",
       "    </tr>\n",
       "    <tr>\n",
       "      <th>4</th>\n",
       "      <td>0.29</td>\n",
       "      <td>Premium</td>\n",
       "      <td>I</td>\n",
       "      <td>VS2</td>\n",
       "      <td>62.4</td>\n",
       "      <td>58.0</td>\n",
       "      <td>334</td>\n",
       "      <td>4.20</td>\n",
       "      <td>4.23</td>\n",
       "      <td>2.63</td>\n",
       "    </tr>\n",
       "    <tr>\n",
       "      <th>5</th>\n",
       "      <td>0.31</td>\n",
       "      <td>Good</td>\n",
       "      <td>J</td>\n",
       "      <td>SI2</td>\n",
       "      <td>63.3</td>\n",
       "      <td>58.0</td>\n",
       "      <td>335</td>\n",
       "      <td>4.34</td>\n",
       "      <td>4.35</td>\n",
       "      <td>2.75</td>\n",
       "    </tr>\n",
       "    <tr>\n",
       "      <th>...</th>\n",
       "      <td>...</td>\n",
       "      <td>...</td>\n",
       "      <td>...</td>\n",
       "      <td>...</td>\n",
       "      <td>...</td>\n",
       "      <td>...</td>\n",
       "      <td>...</td>\n",
       "      <td>...</td>\n",
       "      <td>...</td>\n",
       "      <td>...</td>\n",
       "    </tr>\n",
       "    <tr>\n",
       "      <th>53936</th>\n",
       "      <td>0.72</td>\n",
       "      <td>Ideal</td>\n",
       "      <td>D</td>\n",
       "      <td>SI1</td>\n",
       "      <td>60.8</td>\n",
       "      <td>57.0</td>\n",
       "      <td>2757</td>\n",
       "      <td>5.75</td>\n",
       "      <td>5.76</td>\n",
       "      <td>3.50</td>\n",
       "    </tr>\n",
       "    <tr>\n",
       "      <th>53937</th>\n",
       "      <td>0.72</td>\n",
       "      <td>Good</td>\n",
       "      <td>D</td>\n",
       "      <td>SI1</td>\n",
       "      <td>63.1</td>\n",
       "      <td>55.0</td>\n",
       "      <td>2757</td>\n",
       "      <td>5.69</td>\n",
       "      <td>5.75</td>\n",
       "      <td>3.61</td>\n",
       "    </tr>\n",
       "    <tr>\n",
       "      <th>53938</th>\n",
       "      <td>0.70</td>\n",
       "      <td>Very Good</td>\n",
       "      <td>D</td>\n",
       "      <td>SI1</td>\n",
       "      <td>62.8</td>\n",
       "      <td>60.0</td>\n",
       "      <td>2757</td>\n",
       "      <td>5.66</td>\n",
       "      <td>5.68</td>\n",
       "      <td>3.56</td>\n",
       "    </tr>\n",
       "    <tr>\n",
       "      <th>53939</th>\n",
       "      <td>0.86</td>\n",
       "      <td>Premium</td>\n",
       "      <td>H</td>\n",
       "      <td>SI2</td>\n",
       "      <td>61.0</td>\n",
       "      <td>58.0</td>\n",
       "      <td>2757</td>\n",
       "      <td>6.15</td>\n",
       "      <td>6.12</td>\n",
       "      <td>3.74</td>\n",
       "    </tr>\n",
       "    <tr>\n",
       "      <th>53940</th>\n",
       "      <td>0.75</td>\n",
       "      <td>Ideal</td>\n",
       "      <td>D</td>\n",
       "      <td>SI2</td>\n",
       "      <td>62.2</td>\n",
       "      <td>55.0</td>\n",
       "      <td>2757</td>\n",
       "      <td>5.83</td>\n",
       "      <td>5.87</td>\n",
       "      <td>3.64</td>\n",
       "    </tr>\n",
       "  </tbody>\n",
       "</table>\n",
       "<p>53940 rows × 10 columns</p>\n",
       "</div>"
      ],
      "text/plain": [
       "       carat        cut color clarity  depth  table  price     x     y     z\n",
       "1       0.23      Ideal     E     SI2   61.5   55.0    326  3.95  3.98  2.43\n",
       "2       0.21    Premium     E     SI1   59.8   61.0    326  3.89  3.84  2.31\n",
       "3       0.23       Good     E     VS1   56.9   65.0    327  4.05  4.07  2.31\n",
       "4       0.29    Premium     I     VS2   62.4   58.0    334  4.20  4.23  2.63\n",
       "5       0.31       Good     J     SI2   63.3   58.0    335  4.34  4.35  2.75\n",
       "...      ...        ...   ...     ...    ...    ...    ...   ...   ...   ...\n",
       "53936   0.72      Ideal     D     SI1   60.8   57.0   2757  5.75  5.76  3.50\n",
       "53937   0.72       Good     D     SI1   63.1   55.0   2757  5.69  5.75  3.61\n",
       "53938   0.70  Very Good     D     SI1   62.8   60.0   2757  5.66  5.68  3.56\n",
       "53939   0.86    Premium     H     SI2   61.0   58.0   2757  6.15  6.12  3.74\n",
       "53940   0.75      Ideal     D     SI2   62.2   55.0   2757  5.83  5.87  3.64\n",
       "\n",
       "[53940 rows x 10 columns]"
      ]
     },
     "execution_count": 2,
     "metadata": {},
     "output_type": "execute_result"
    }
   ],
   "source": [
    "data = pd.read_csv('diamonds.csv', encoding='utf-8', index_col=0)\n",
    "data"
   ]
  },
  {
   "cell_type": "code",
   "execution_count": 3,
   "id": "e81839ac",
   "metadata": {},
   "outputs": [
    {
     "data": {
      "text/plain": [
       "AndersonResult(statistic=3474.0163510249477, critical_values=array([0.576, 0.656, 0.787, 0.918, 1.092]), significance_level=array([15. , 10. ,  5. ,  2.5,  1. ]))"
      ]
     },
     "execution_count": 3,
     "metadata": {},
     "output_type": "execute_result"
    }
   ],
   "source": [
    "stats.anderson(x = data.price, dist='norm')\n",
    "\n",
    "# 통계량이 유의수준 0.05에서의 임계값 0.787보다 크므로 귀무가설을 기각 → Wilcoxon 부호순위검정 진행"
   ]
  },
  {
   "cell_type": "code",
   "execution_count": 4,
   "id": "7c7611fd",
   "metadata": {},
   "outputs": [
    {
     "name": "stdout",
     "output_type": "stream",
     "text": [
      "WilcoxonResult(statistic=576399622.0, pvalue=0.0), WilcoxonResult(statistic=576399622.0, pvalue=1.0), WilcoxonResult(statistic=576399622.0, pvalue=0.0)\n"
     ]
    }
   ],
   "source": [
    "mu = data.price.mean()\n",
    "two_sided = stats.wilcoxon(data.price - mu, alternative='two-sided') # 양측검정 - 귀무가설 기각\n",
    "greater = stats.wilcoxon(data.price - mu, alternative='greater') # 평균보다 많은지 검정 - 귀무가설 채택\n",
    "less = stats.wilcoxon(data.price - mu, alternative='less') # 평균보다 적은지 검정 - 귀무가설 기각\n",
    "\n",
    "print(f'{two_sided}, {greater}, {less}')"
   ]
  },
  {
   "cell_type": "markdown",
   "id": "9aa2e21d",
   "metadata": {},
   "source": [
    "## 독립 2표본 T검정 (Two sample T-Test)\n",
    "- 두 개의 독립적인 모집단에 대한 평균에 통계적으로 유의한 차이가 있는지를 검정\n",
    "- H0 (귀무가설) : [A]의 평균과 [B]의 평균은 같다. (A-B = 0)\n",
    "- H1 (대립가설) : [A]의 평균과 [B]의 평균은 다르다. (A-B != 0)\n",
    "\n",
    "### 1. 정규성 검정\n",
    "- 정규분포를 따르는지 검정\n",
    "- H0 (귀무가설) : 정규분포를 따름\n",
    "- H1 (대립가설) : 정규분포를 따르지 않음\n",
    "- 데이터 수량 < 5000 : Shapiro-wilk Test (stats.shapiro)\n",
    "- 데이터 수량 >= 5000 : Anderson-darling Test (stats.anderson)\n",
    "\n",
    "#### - 1-1. 정규성 만족 : 2번 진행\n",
    "#### - 1-2. 정규성 불만족 : Wilcoxon 순위합(Ranksum)검정 (stats.ranksums)\n",
    "\n",
    "### 2. 등분산 검정\n",
    "- 분산이 고르게 분포하는지 검정\n",
    "- H0 (귀무가설) : 등분산\n",
    "- H1 (대립가설) : 이분산\n",
    "- Levene의 검정 (stats.levene)\n",
    "- Bartlett의 검정 (stats.bartlett)\n",
    "\n",
    "#### - 2-1. 등분산성 만족 : 등분산 2표본 T검정 (stats.ttest_ind(a_group, b_group, **equal_var = True**))\n",
    "#### - 2-2. 등분산성 불만족 : 이분산 2표본 T검정 (stats.ttest_ind(a_group, b_group, **equal_var = False**))\n",
    "\n",
    "![Two sample T-Test](https://img1.daumcdn.net/thumb/R1280x0/?scode=mtistory2&fname=https%3A%2F%2Fblog.kakaocdn.net%2Fdn%2FbbDVHa%2FbtqG61Edtva%2FBrk63mju434VJUwZZcuQKK%2Fimg.jpg \"2 표본 검정\")"
   ]
  },
  {
   "cell_type": "code",
   "execution_count": 5,
   "id": "37c9ca35",
   "metadata": {},
   "outputs": [],
   "source": [
    "ideal, nonideal = data[data['cut'] == 'Ideal'].price, data[data['cut'] != 'Ideal'].price"
   ]
  },
  {
   "cell_type": "code",
   "execution_count": 6,
   "id": "e40a577e",
   "metadata": {},
   "outputs": [
    {
     "data": {
      "text/plain": [
       "AndersonResult(statistic=1865.0905557672377, critical_values=array([0.576, 0.656, 0.787, 0.918, 1.092]), significance_level=array([15. , 10. ,  5. ,  2.5,  1. ]))"
      ]
     },
     "execution_count": 6,
     "metadata": {},
     "output_type": "execute_result"
    }
   ],
   "source": [
    "stats.anderson(ideal)"
   ]
  },
  {
   "cell_type": "code",
   "execution_count": 7,
   "id": "bcbe8df3",
   "metadata": {},
   "outputs": [
    {
     "data": {
      "text/plain": [
       "AndersonResult(statistic=1725.8414161971668, critical_values=array([0.576, 0.656, 0.787, 0.918, 1.092]), significance_level=array([15. , 10. ,  5. ,  2.5,  1. ]))"
      ]
     },
     "execution_count": 7,
     "metadata": {},
     "output_type": "execute_result"
    }
   ],
   "source": [
    "stats.anderson(nonideal)"
   ]
  },
  {
   "cell_type": "code",
   "execution_count": 8,
   "id": "e59b91ba",
   "metadata": {},
   "outputs": [
    {
     "data": {
      "text/plain": [
       "LeveneResult(statistic=244.8982065343527, pvalue=4.446981310047094e-55)"
      ]
     },
     "execution_count": 8,
     "metadata": {},
     "output_type": "execute_result"
    }
   ],
   "source": [
    "stats.levene(ideal, nonideal)\n",
    "# P-value < 0.05 이므로 귀무가설 기각, 즉 이분산"
   ]
  },
  {
   "cell_type": "code",
   "execution_count": 9,
   "id": "f065976e",
   "metadata": {},
   "outputs": [
    {
     "data": {
      "text/plain": [
       "BartlettResult(statistic=117.27579363258863, pvalue=2.498005976773701e-27)"
      ]
     },
     "execution_count": 9,
     "metadata": {},
     "output_type": "execute_result"
    }
   ],
   "source": [
    "stats.bartlett(ideal, nonideal)\n",
    "# P-value < 0.05 이므로 귀무가설 기각, 즉 이분산"
   ]
  },
  {
   "cell_type": "code",
   "execution_count": 10,
   "id": "f87efbb2",
   "metadata": {},
   "outputs": [
    {
     "data": {
      "text/plain": [
       "Ttest_indResult(statistic=-22.985734120999393, pvalue=2.7359864985506295e-116)"
      ]
     },
     "execution_count": 10,
     "metadata": {},
     "output_type": "execute_result"
    }
   ],
   "source": [
    "stats.ttest_ind(ideal, nonideal, equal_var=False)\n",
    "# P-value < 0.05 이므로 귀무가설 기각, 즉 A - B != 0"
   ]
  },
  {
   "cell_type": "code",
   "execution_count": 11,
   "id": "bcfbd33e",
   "metadata": {},
   "outputs": [
    {
     "data": {
      "text/plain": [
       "(3457.541970210199, 4249.026830096638)"
      ]
     },
     "execution_count": 11,
     "metadata": {},
     "output_type": "execute_result"
    }
   ],
   "source": [
    "ideal.mean(), nonideal.mean()"
   ]
  },
  {
   "cell_type": "markdown",
   "id": "91abdecf",
   "metadata": {},
   "source": [
    "## 대응 2표본 T검정 (Paired T-Test)\n",
    "- 두 모집단에서 표본을 각각 추출할 때 각 표본의 인자가 서로 대응되는 표본으로, 사전과 사후를 비교하는 검정\n",
    "- H0 (귀무가설) : [사전(Pre)]의 평균과 [사후(Post)]의 평균은 같다. (A-B = 0)\n",
    "- H1 (대립가설) : [사전(Pre)]의 평균과 [사후(Post)]의 평균은 다르다. (A-B != 0)\n",
    "- H1 (대립가설) : [사전(Pre)]의 평균이 [사후(Post)]의 평균보다 크다. (A-B > 0)\n",
    "- H1 (대립가설) : [사전(Pre)]의 평균이 [사후(Post)]의 평균보다 작다. (A-B < 0)\n",
    "\n",
    "### 1. 정규성 검정\n",
    "- 정규분포를 따르는지 검정\n",
    "- H0 (귀무가설) : 정규분포를 따름\n",
    "- H1 (대립가설) : 정규분포를 따르지 않음\n",
    "- 데이터 수량 < 5000 : Shapiro-wilk Test (stats.shapiro)\n",
    "- 데이터 수량 >= 5000 : Anderson-darling Test (stats.anderson)\n",
    "\n",
    "#### - 1-1. 정규성 만족 : 2번 진행\n",
    "#### - 1-2. 정규성 불만족 : Wilcoxon 순위합(Ranksum)검정 (stats.ranksums)\n",
    "\n",
    "### 2. 등분산 검정\n",
    "- 분산이 고르게 분포하는지 검정\n",
    "- H0 (귀무가설) : 등분산\n",
    "- H1 (대립가설) : 이분산\n",
    "- Levene의 검정 (stats.levene)\n",
    "- Bartlett의 검정 (stats.bartlett)\n",
    "\n",
    "#### - 2-1. 등분산성 만족 : 등분산 2표본 T검정 (stats.ttest_ind(a_group, b_group, **equal_var = True**))\n",
    "#### - 2-2. 등분산성 불만족 : 이분산 2표본 T검정 (stats.ttest_ind(a_group, b_group, **equal_var = False**))\n",
    "\n",
    "\n",
    "![Paired T-Test](https://img1.daumcdn.net/thumb/R1280x0/?scode=mtistory2&fname=https%3A%2F%2Fblog.kakaocdn.net%2Fdn%2FbymZYG%2FbtqHxbsUoZe%2FFGqhwIga4dHXXbtqWWRUSk%2Fimg.jpg \"대응 2 표본 검정\")"
   ]
  },
  {
   "cell_type": "code",
   "execution_count": 12,
   "id": "d280eb3d",
   "metadata": {
    "scrolled": true
   },
   "outputs": [
    {
     "data": {
      "text/html": [
       "<div>\n",
       "<style scoped>\n",
       "    .dataframe tbody tr th:only-of-type {\n",
       "        vertical-align: middle;\n",
       "    }\n",
       "\n",
       "    .dataframe tbody tr th {\n",
       "        vertical-align: top;\n",
       "    }\n",
       "\n",
       "    .dataframe thead th {\n",
       "        text-align: right;\n",
       "    }\n",
       "</style>\n",
       "<table border=\"1\" class=\"dataframe\">\n",
       "  <thead>\n",
       "    <tr style=\"text-align: right;\">\n",
       "      <th></th>\n",
       "      <th>name</th>\n",
       "      <th>before</th>\n",
       "      <th>after</th>\n",
       "    </tr>\n",
       "  </thead>\n",
       "  <tbody>\n",
       "    <tr>\n",
       "      <th>0</th>\n",
       "      <td>김철수</td>\n",
       "      <td>49</td>\n",
       "      <td>46</td>\n",
       "    </tr>\n",
       "    <tr>\n",
       "      <th>1</th>\n",
       "      <td>김영희</td>\n",
       "      <td>53</td>\n",
       "      <td>49</td>\n",
       "    </tr>\n",
       "    <tr>\n",
       "      <th>2</th>\n",
       "      <td>바둑이</td>\n",
       "      <td>55</td>\n",
       "      <td>52</td>\n",
       "    </tr>\n",
       "    <tr>\n",
       "      <th>3</th>\n",
       "      <td>김한문</td>\n",
       "      <td>57</td>\n",
       "      <td>53</td>\n",
       "    </tr>\n",
       "    <tr>\n",
       "      <th>4</th>\n",
       "      <td>이수학</td>\n",
       "      <td>50</td>\n",
       "      <td>47</td>\n",
       "    </tr>\n",
       "    <tr>\n",
       "      <th>5</th>\n",
       "      <td>박영어</td>\n",
       "      <td>45</td>\n",
       "      <td>48</td>\n",
       "    </tr>\n",
       "    <tr>\n",
       "      <th>6</th>\n",
       "      <td>최과학</td>\n",
       "      <td>80</td>\n",
       "      <td>73</td>\n",
       "    </tr>\n",
       "    <tr>\n",
       "      <th>7</th>\n",
       "      <td>신미술</td>\n",
       "      <td>67</td>\n",
       "      <td>62</td>\n",
       "    </tr>\n",
       "    <tr>\n",
       "      <th>8</th>\n",
       "      <td>오체육</td>\n",
       "      <td>47</td>\n",
       "      <td>44</td>\n",
       "    </tr>\n",
       "  </tbody>\n",
       "</table>\n",
       "</div>"
      ],
      "text/plain": [
       "  name  before  after\n",
       "0  김철수      49     46\n",
       "1  김영희      53     49\n",
       "2  바둑이      55     52\n",
       "3  김한문      57     53\n",
       "4  이수학      50     47\n",
       "5  박영어      45     48\n",
       "6  최과학      80     73\n",
       "7  신미술      67     62\n",
       "8  오체육      47     44"
      ]
     },
     "execution_count": 12,
     "metadata": {},
     "output_type": "execute_result"
    }
   ],
   "source": [
    "weights_df = pd.read_csv('weights.csv', encoding='utf-8-sig')\n",
    "weights_df\n",
    "\n",
    "# H0 귀무가설 : 다이어트는 몸무게를 줄이는 것에 효과가 없다. (사전 몸무게 = 사후 몸무게)\n",
    "# H1 대립가설 : 다이어트는 몸무게를 줄이는 것에 효과가 있다. (사전 몸무게 > 사후 몸무게)"
   ]
  },
  {
   "cell_type": "code",
   "execution_count": 13,
   "id": "44daa4fe",
   "metadata": {},
   "outputs": [
    {
     "data": {
      "text/plain": [
       "(ShapiroResult(statistic=0.8540769219398499, pvalue=0.08261711895465851),\n",
       " ShapiroResult(statistic=0.8253390789031982, pvalue=0.03958192095160484))"
      ]
     },
     "execution_count": 13,
     "metadata": {},
     "output_type": "execute_result"
    }
   ],
   "source": [
    "stats.shapiro(weights_df.before), stats.shapiro(weights_df.after)\n",
    "# before : 정규분포를 따름\n",
    "# after : 정규분포를 따르지 않음"
   ]
  },
  {
   "cell_type": "code",
   "execution_count": 14,
   "id": "fbb409e8",
   "metadata": {},
   "outputs": [
    {
     "data": {
      "text/plain": [
       "RanksumsResult(statistic=0.8830215713766959, pvalue=0.37722461666745344)"
      ]
     },
     "execution_count": 14,
     "metadata": {},
     "output_type": "execute_result"
    }
   ],
   "source": [
    "stats.ranksums(weights_df.before, weights_df.after)"
   ]
  },
  {
   "cell_type": "code",
   "execution_count": 15,
   "id": "8d46313a",
   "metadata": {},
   "outputs": [
    {
     "data": {
      "text/plain": [
       "LeveneResult(statistic=0.14597279205355218, pvalue=0.7074409497665516)"
      ]
     },
     "execution_count": 15,
     "metadata": {},
     "output_type": "execute_result"
    }
   ],
   "source": [
    "stats.levene(weights_df.before, weights_df.after)\n",
    "# 등분산"
   ]
  },
  {
   "cell_type": "code",
   "execution_count": 16,
   "id": "e575cc35",
   "metadata": {},
   "outputs": [
    {
     "data": {
      "text/plain": [
       "Ttest_relResult(statistic=3.603944642806961, pvalue=0.006942420396505739)"
      ]
     },
     "execution_count": 16,
     "metadata": {},
     "output_type": "execute_result"
    }
   ],
   "source": [
    "stats.ttest_rel(weights_df.before, weights_df.after)\n",
    "# 평균이 다름"
   ]
  },
  {
   "cell_type": "code",
   "execution_count": 17,
   "id": "f4ce8460",
   "metadata": {},
   "outputs": [
    {
     "data": {
      "text/plain": [
       "ShapiroResult(statistic=0.810143232345581, pvalue=0.026645243167877197)"
      ]
     },
     "execution_count": 17,
     "metadata": {},
     "output_type": "execute_result"
    }
   ],
   "source": [
    "# 정규성 불만족 시\n",
    "stats.shapiro(weights_df.before - weights_df.after)"
   ]
  },
  {
   "cell_type": "code",
   "execution_count": 18,
   "id": "a3a45385",
   "metadata": {},
   "outputs": [
    {
     "data": {
      "text/plain": [
       "WilcoxonResult(statistic=42.0, pvalue=0.009765625)"
      ]
     },
     "execution_count": 18,
     "metadata": {},
     "output_type": "execute_result"
    }
   ],
   "source": [
    "# alternative\n",
    "# greater : 사전 집단이 사후 집단의 평균보다 많음\n",
    "# less : 사전 집단이 사후 집단의 평균보다 적음\n",
    "stats.wilcoxon(weights_df.before, weights_df.after, zero_method = \"wilcox\", alternative = \"greater\")\n",
    "\n",
    "# 다이어트는 몸무게를 줄이는 것에 효과가 있음"
   ]
  },
  {
   "cell_type": "markdown",
   "id": "a0892469",
   "metadata": {},
   "source": [
    "## 카이제곱 검정(Chi(χ2)-Square Test)\n",
    "- 질적자료와 질적자료간에 서로 통계적으로 관계가 있는지 판단하는 검정\n",
    "- 카이제곱 분포를 기반으로 관찰된 빈도와 기대되는 빈도와 의미있게 다른지 여부를 검증\n",
    "- H0 (귀무가설) : [관찰값]과 [기대값]의 차이가 없다. (A-B = 0)\n",
    "- H1 (대립가설) : [관찰값]과 [기대값]의 차이가 있다. (A-B != 0)\n",
    "- 카이제곱의 분포는 자유도 ((행의 수 - 1) × (열의 수 -1))를 따름\n",
    "\n",
    "![Chi-Square Test](https://img1.daumcdn.net/thumb/R1280x0/?scode=mtistory2&fname=https%3A%2F%2Fblog.kakaocdn.net%2Fdn%2Fc9CFdJ%2FbtqHLeYdN4Y%2FXwtYWxSOL1Kdj60C4izp60%2Fimg.jpg \"카이제곱 검정\")"
   ]
  },
  {
   "cell_type": "code",
   "execution_count": 19,
   "id": "b7a32463",
   "metadata": {},
   "outputs": [
    {
     "data": {
      "text/html": [
       "<div>\n",
       "<style scoped>\n",
       "    .dataframe tbody tr th:only-of-type {\n",
       "        vertical-align: middle;\n",
       "    }\n",
       "\n",
       "    .dataframe tbody tr th {\n",
       "        vertical-align: top;\n",
       "    }\n",
       "\n",
       "    .dataframe thead th {\n",
       "        text-align: right;\n",
       "    }\n",
       "</style>\n",
       "<table border=\"1\" class=\"dataframe\">\n",
       "  <thead>\n",
       "    <tr style=\"text-align: right;\">\n",
       "      <th>color</th>\n",
       "      <th>D</th>\n",
       "      <th>E</th>\n",
       "      <th>F</th>\n",
       "      <th>G</th>\n",
       "      <th>H</th>\n",
       "      <th>I</th>\n",
       "      <th>J</th>\n",
       "    </tr>\n",
       "    <tr>\n",
       "      <th>cut</th>\n",
       "      <th></th>\n",
       "      <th></th>\n",
       "      <th></th>\n",
       "      <th></th>\n",
       "      <th></th>\n",
       "      <th></th>\n",
       "      <th></th>\n",
       "    </tr>\n",
       "  </thead>\n",
       "  <tbody>\n",
       "    <tr>\n",
       "      <th>Fair</th>\n",
       "      <td>163</td>\n",
       "      <td>224</td>\n",
       "      <td>312</td>\n",
       "      <td>314</td>\n",
       "      <td>303</td>\n",
       "      <td>175</td>\n",
       "      <td>119</td>\n",
       "    </tr>\n",
       "    <tr>\n",
       "      <th>Good</th>\n",
       "      <td>662</td>\n",
       "      <td>933</td>\n",
       "      <td>909</td>\n",
       "      <td>871</td>\n",
       "      <td>702</td>\n",
       "      <td>522</td>\n",
       "      <td>307</td>\n",
       "    </tr>\n",
       "    <tr>\n",
       "      <th>Ideal</th>\n",
       "      <td>2834</td>\n",
       "      <td>3903</td>\n",
       "      <td>3826</td>\n",
       "      <td>4884</td>\n",
       "      <td>3115</td>\n",
       "      <td>2093</td>\n",
       "      <td>896</td>\n",
       "    </tr>\n",
       "    <tr>\n",
       "      <th>Premium</th>\n",
       "      <td>1603</td>\n",
       "      <td>2337</td>\n",
       "      <td>2331</td>\n",
       "      <td>2924</td>\n",
       "      <td>2360</td>\n",
       "      <td>1428</td>\n",
       "      <td>808</td>\n",
       "    </tr>\n",
       "    <tr>\n",
       "      <th>Very Good</th>\n",
       "      <td>1513</td>\n",
       "      <td>2400</td>\n",
       "      <td>2164</td>\n",
       "      <td>2299</td>\n",
       "      <td>1824</td>\n",
       "      <td>1204</td>\n",
       "      <td>678</td>\n",
       "    </tr>\n",
       "  </tbody>\n",
       "</table>\n",
       "</div>"
      ],
      "text/plain": [
       "color         D     E     F     G     H     I    J\n",
       "cut                                               \n",
       "Fair        163   224   312   314   303   175  119\n",
       "Good        662   933   909   871   702   522  307\n",
       "Ideal      2834  3903  3826  4884  3115  2093  896\n",
       "Premium    1603  2337  2331  2924  2360  1428  808\n",
       "Very Good  1513  2400  2164  2299  1824  1204  678"
      ]
     },
     "execution_count": 19,
     "metadata": {},
     "output_type": "execute_result"
    }
   ],
   "source": [
    "result = pd.crosstab(data.cut, data.color)\n",
    "result"
   ]
  },
  {
   "cell_type": "code",
   "execution_count": 20,
   "id": "84d37ff4",
   "metadata": {},
   "outputs": [
    {
     "data": {
      "text/plain": [
       "(310.31790052115434,\n",
       " 1.394512091985105e-51,\n",
       " 24,\n",
       " array([[ 202.22005933,  292.42065258,  284.80941787,  337.04338154,\n",
       "          247.85761958,  161.83574342,   83.8131257 ],\n",
       "        [ 616.2059696 ,  891.06566555,  867.87267334, 1027.04026696,\n",
       "          755.27296997,  493.1466815 ,  255.39577308],\n",
       "        [2706.85993697, 3914.25930664, 3812.37749351, 4511.56640712,\n",
       "         3317.7512792 , 2166.28702262, 1121.89855395],\n",
       "        [1732.18437152, 2504.82808676, 2439.63147942, 2887.05917686,\n",
       "         2123.1083426 , 1386.25884316,  717.92969967],\n",
       "        [1517.52966259, 2194.42628847, 2137.30893585, 2529.29076752,\n",
       "         1860.00978865, 1214.47170931,  628.96284761]]))"
      ]
     },
     "execution_count": 20,
     "metadata": {},
     "output_type": "execute_result"
    }
   ],
   "source": [
    "stats.chi2_contingency(observed = result)\n",
    "\n",
    "# 310.31790052115434 : Chi-Square 값\n",
    "# 1.394512091985105e-51 : p-value\n",
    "# 24 : df(degree of freedom)\n",
    "# array : 기대치(Expected Value)\n",
    "\n",
    "# 유의확률이 0.000 이므로 유의수준 0.05 에서 cut 과 color 간에는 통계적으로 유의한 관련성이 있음"
   ]
  },
  {
   "cell_type": "code",
   "execution_count": 21,
   "id": "5efc188a",
   "metadata": {},
   "outputs": [
    {
     "data": {
      "text/html": [
       "<div>\n",
       "<style scoped>\n",
       "    .dataframe tbody tr th:only-of-type {\n",
       "        vertical-align: middle;\n",
       "    }\n",
       "\n",
       "    .dataframe tbody tr th {\n",
       "        vertical-align: top;\n",
       "    }\n",
       "\n",
       "    .dataframe thead th {\n",
       "        text-align: right;\n",
       "    }\n",
       "</style>\n",
       "<table border=\"1\" class=\"dataframe\">\n",
       "  <thead>\n",
       "    <tr style=\"text-align: right;\">\n",
       "      <th>clarity</th>\n",
       "      <th>I1</th>\n",
       "      <th>IF</th>\n",
       "      <th>SI1</th>\n",
       "      <th>SI2</th>\n",
       "      <th>VS1</th>\n",
       "      <th>VS2</th>\n",
       "      <th>VVS1</th>\n",
       "      <th>VVS2</th>\n",
       "    </tr>\n",
       "    <tr>\n",
       "      <th>cut</th>\n",
       "      <th></th>\n",
       "      <th></th>\n",
       "      <th></th>\n",
       "      <th></th>\n",
       "      <th></th>\n",
       "      <th></th>\n",
       "      <th></th>\n",
       "      <th></th>\n",
       "    </tr>\n",
       "  </thead>\n",
       "  <tbody>\n",
       "    <tr>\n",
       "      <th>Fair</th>\n",
       "      <td>210</td>\n",
       "      <td>9</td>\n",
       "      <td>408</td>\n",
       "      <td>466</td>\n",
       "      <td>170</td>\n",
       "      <td>261</td>\n",
       "      <td>17</td>\n",
       "      <td>69</td>\n",
       "    </tr>\n",
       "    <tr>\n",
       "      <th>Good</th>\n",
       "      <td>96</td>\n",
       "      <td>71</td>\n",
       "      <td>1560</td>\n",
       "      <td>1081</td>\n",
       "      <td>648</td>\n",
       "      <td>978</td>\n",
       "      <td>186</td>\n",
       "      <td>286</td>\n",
       "    </tr>\n",
       "    <tr>\n",
       "      <th>Ideal</th>\n",
       "      <td>146</td>\n",
       "      <td>1212</td>\n",
       "      <td>4282</td>\n",
       "      <td>2598</td>\n",
       "      <td>3589</td>\n",
       "      <td>5071</td>\n",
       "      <td>2047</td>\n",
       "      <td>2606</td>\n",
       "    </tr>\n",
       "    <tr>\n",
       "      <th>Premium</th>\n",
       "      <td>205</td>\n",
       "      <td>230</td>\n",
       "      <td>3575</td>\n",
       "      <td>2949</td>\n",
       "      <td>1989</td>\n",
       "      <td>3357</td>\n",
       "      <td>616</td>\n",
       "      <td>870</td>\n",
       "    </tr>\n",
       "    <tr>\n",
       "      <th>Very Good</th>\n",
       "      <td>84</td>\n",
       "      <td>268</td>\n",
       "      <td>3240</td>\n",
       "      <td>2100</td>\n",
       "      <td>1775</td>\n",
       "      <td>2591</td>\n",
       "      <td>789</td>\n",
       "      <td>1235</td>\n",
       "    </tr>\n",
       "  </tbody>\n",
       "</table>\n",
       "</div>"
      ],
      "text/plain": [
       "clarity     I1    IF   SI1   SI2   VS1   VS2  VVS1  VVS2\n",
       "cut                                                     \n",
       "Fair       210     9   408   466   170   261    17    69\n",
       "Good        96    71  1560  1081   648   978   186   286\n",
       "Ideal      146  1212  4282  2598  3589  5071  2047  2606\n",
       "Premium    205   230  3575  2949  1989  3357   616   870\n",
       "Very Good   84   268  3240  2100  1775  2591   789  1235"
      ]
     },
     "execution_count": 21,
     "metadata": {},
     "output_type": "execute_result"
    }
   ],
   "source": [
    "result_clarity = pd.crosstab(data.cut, data.clarity)\n",
    "result_clarity"
   ]
  },
  {
   "cell_type": "code",
   "execution_count": 22,
   "id": "9eacac30",
   "metadata": {},
   "outputs": [
    {
     "data": {
      "text/plain": [
       "(4391.398067200364,\n",
       " 0.0,\n",
       " 28,\n",
       " array([[  22.11735261,   53.42788283,  389.96384872,  274.4223211 ,\n",
       "          243.88783834,  365.87652948,  109.09436411,  151.20986281],\n",
       "        [  67.39610679,  162.80571005, 1188.29977753,  836.22106044,\n",
       "          743.17623285, 1114.90077864,  332.43288839,  460.76744531],\n",
       "        [ 296.05656285,  715.17037449, 5219.94466073, 3673.33878383,\n",
       "         3264.61292176, 4897.51868743, 1460.30598813, 2024.05202076],\n",
       "        [ 189.45367075,  457.65461624, 3340.36735261, 2350.65728587,\n",
       "         2089.1038376 , 3134.03926585,  934.48470523, 1295.23926585],\n",
       "        [ 165.97630701,  400.94141639, 2926.4243604 , 2059.36054876,\n",
       "         1830.21916945, 2745.6647386 ,  818.68205413, 1134.73140527]]))"
      ]
     },
     "execution_count": 22,
     "metadata": {},
     "output_type": "execute_result"
    }
   ],
   "source": [
    "stats.chi2_contingency(observed = result_clarity)\n",
    "\n",
    "# 유의확률이 0.000 이므로 유의수준 0.05 에서 cut 과 clarity 간에는 통계적으로 유의한 관련성이 있음"
   ]
  },
  {
   "cell_type": "markdown",
   "id": "e46536d6",
   "metadata": {},
   "source": [
    "## 분산 분석 (ANOVA : Analysis of Variance)\n",
    "- k개의 집단을 비교하여 다름을 판단하는 분석 (k : 3개 이상의 유한한 개수)\n",
    "- 분산 분석의 대립가설은 많은 경우의 수를 가지고 있으므로 최소한 2개의 집단은 차이가 있을 것으로 판단\n",
    "- 일표본 검정 → 독립 2표본 → 분산분석 → 회귀분석으로 확장\n",
    "- H0 (귀무가설) : 집단에 따른 집단 내의 차이가 없다. (A-B = 0)\n",
    "- H1 (대립가설) : 집단에 따른 집단 내의 차이가 있다. (A-B != 0)\n",
    "\n",
    "#### SST = SSE(Sum of Square Error) + SSB(Sum of Square Between)\n",
    "- SST : Y의 다름의 양 (두 가지 다름의 양으로 나누어지는 값)\n",
    "- SSE : 집단 내 다름의 양\n",
    "- SSB : 각 집단 사이의 다름의 양\n",
    "- SST(100) = SSE(90) + SSB(10) 일 경우 집단 내부적인 이유 때문에 Y의 다름이 생겼다고 해석 가능,\n",
    "  결국 각 집단들이 다르다고 할 수 없고, 집단이 같다고 할 수 있음 (귀무가설 가능성 증가)\n",
    "- SST(100) = SSE(10) + SSB(90) 일 경우 집단 간 양이 달라 대립가설 가능성 증가\n",
    "- 분산분석은 SSE에 비해서 SSB가 얼마나 더 큰 지에 대해 초점\n",
    "![SST](https://img1.daumcdn.net/thumb/R1280x0/?scode=mtistory2&fname=https%3A%2F%2Fblog.kakaocdn.net%2Fdn%2FH5Yde%2FbtqHXDXIOFz%2FcliP5jiWO64nCm8tl2qu91%2Fimg.png \"SST\")\n",
    "![SSE](https://img1.daumcdn.net/thumb/R1280x0/?scode=mtistory2&fname=https%3A%2F%2Fblog.kakaocdn.net%2Fdn%2FMBjPF%2FbtqH8b6MEPB%2FFT2G4drBCWUD1YsibJrYTk%2Fimg.png \"SSE\")\n",
    "![SSB](https://img1.daumcdn.net/thumb/R1280x0/?scode=mtistory2&fname=https%3A%2F%2Fblog.kakaocdn.net%2Fdn%2FMORMM%2FbtqH3yVZoFm%2FH9pcmy5I3fKFh4e23DmhE1%2Fimg.png \"SSB\")\n",
    "\n",
    "#### Mean Square Error\n",
    "- (SSB / (k-1)) / (SSE / (n-k)) = MSB (Mean Square Between) / MSE (Mean Square Error)\n",
    "- k : 집단의 개수\n",
    "- n : 모든 표본의 개수\n",
    "- 통계적으로 분모와 분자가 모두 제곱의 형태이면 F\n",
    "\n",
    "\n",
    "![F-Statistics](https://img1.daumcdn.net/thumb/R1280x0/?scode=mtistory2&fname=https%3A%2F%2Fblog.kakaocdn.net%2Fdn%2Fle3f3%2FbtqIgfuX6aL%2FksEGpM7480CP1PUtJ3uJ2k%2Fimg.png \"F 통계량\")"
   ]
  },
  {
   "cell_type": "code",
   "execution_count": 23,
   "id": "536ca691",
   "metadata": {},
   "outputs": [
    {
     "name": "stderr",
     "output_type": "stream",
     "text": [
      "D:\\CJH\\venv\\lib\\site-packages\\outdated\\utils.py:18: OutdatedPackageWarning: The package pingouin is out of date. Your version is 0.5.3, the latest is 0.5.4.\n",
      "Set the environment variable OUTDATED_IGNORE=1 to disable these warnings.\n",
      "  **kwargs\n"
     ]
    }
   ],
   "source": [
    "import researchpy as rp\n",
    "import pingouin as pg\n",
    "import seaborn as sns\n",
    "import matplotlib.pyplot as plt"
   ]
  },
  {
   "cell_type": "code",
   "execution_count": 24,
   "id": "bb63f209",
   "metadata": {},
   "outputs": [
    {
     "data": {
      "text/html": [
       "<div>\n",
       "<style scoped>\n",
       "    .dataframe tbody tr th:only-of-type {\n",
       "        vertical-align: middle;\n",
       "    }\n",
       "\n",
       "    .dataframe tbody tr th {\n",
       "        vertical-align: top;\n",
       "    }\n",
       "\n",
       "    .dataframe thead th {\n",
       "        text-align: right;\n",
       "    }\n",
       "</style>\n",
       "<table border=\"1\" class=\"dataframe\">\n",
       "  <thead>\n",
       "    <tr style=\"text-align: right;\">\n",
       "      <th></th>\n",
       "      <th>sepal_length</th>\n",
       "      <th>sepal_width</th>\n",
       "      <th>petal_length</th>\n",
       "      <th>petal_width</th>\n",
       "      <th>species</th>\n",
       "    </tr>\n",
       "  </thead>\n",
       "  <tbody>\n",
       "    <tr>\n",
       "      <th>0</th>\n",
       "      <td>5.1</td>\n",
       "      <td>3.5</td>\n",
       "      <td>1.4</td>\n",
       "      <td>0.2</td>\n",
       "      <td>setosa</td>\n",
       "    </tr>\n",
       "    <tr>\n",
       "      <th>1</th>\n",
       "      <td>4.9</td>\n",
       "      <td>3.0</td>\n",
       "      <td>1.4</td>\n",
       "      <td>0.2</td>\n",
       "      <td>setosa</td>\n",
       "    </tr>\n",
       "    <tr>\n",
       "      <th>2</th>\n",
       "      <td>4.7</td>\n",
       "      <td>3.2</td>\n",
       "      <td>1.3</td>\n",
       "      <td>0.2</td>\n",
       "      <td>setosa</td>\n",
       "    </tr>\n",
       "    <tr>\n",
       "      <th>3</th>\n",
       "      <td>4.6</td>\n",
       "      <td>3.1</td>\n",
       "      <td>1.5</td>\n",
       "      <td>0.2</td>\n",
       "      <td>setosa</td>\n",
       "    </tr>\n",
       "    <tr>\n",
       "      <th>4</th>\n",
       "      <td>5.0</td>\n",
       "      <td>3.6</td>\n",
       "      <td>1.4</td>\n",
       "      <td>0.2</td>\n",
       "      <td>setosa</td>\n",
       "    </tr>\n",
       "    <tr>\n",
       "      <th>...</th>\n",
       "      <td>...</td>\n",
       "      <td>...</td>\n",
       "      <td>...</td>\n",
       "      <td>...</td>\n",
       "      <td>...</td>\n",
       "    </tr>\n",
       "    <tr>\n",
       "      <th>145</th>\n",
       "      <td>6.7</td>\n",
       "      <td>3.0</td>\n",
       "      <td>5.2</td>\n",
       "      <td>2.3</td>\n",
       "      <td>virginica</td>\n",
       "    </tr>\n",
       "    <tr>\n",
       "      <th>146</th>\n",
       "      <td>6.3</td>\n",
       "      <td>2.5</td>\n",
       "      <td>5.0</td>\n",
       "      <td>1.9</td>\n",
       "      <td>virginica</td>\n",
       "    </tr>\n",
       "    <tr>\n",
       "      <th>147</th>\n",
       "      <td>6.5</td>\n",
       "      <td>3.0</td>\n",
       "      <td>5.2</td>\n",
       "      <td>2.0</td>\n",
       "      <td>virginica</td>\n",
       "    </tr>\n",
       "    <tr>\n",
       "      <th>148</th>\n",
       "      <td>6.2</td>\n",
       "      <td>3.4</td>\n",
       "      <td>5.4</td>\n",
       "      <td>2.3</td>\n",
       "      <td>virginica</td>\n",
       "    </tr>\n",
       "    <tr>\n",
       "      <th>149</th>\n",
       "      <td>5.9</td>\n",
       "      <td>3.0</td>\n",
       "      <td>5.1</td>\n",
       "      <td>1.8</td>\n",
       "      <td>virginica</td>\n",
       "    </tr>\n",
       "  </tbody>\n",
       "</table>\n",
       "<p>150 rows × 5 columns</p>\n",
       "</div>"
      ],
      "text/plain": [
       "     sepal_length  sepal_width  petal_length  petal_width    species\n",
       "0             5.1          3.5           1.4          0.2     setosa\n",
       "1             4.9          3.0           1.4          0.2     setosa\n",
       "2             4.7          3.2           1.3          0.2     setosa\n",
       "3             4.6          3.1           1.5          0.2     setosa\n",
       "4             5.0          3.6           1.4          0.2     setosa\n",
       "..            ...          ...           ...          ...        ...\n",
       "145           6.7          3.0           5.2          2.3  virginica\n",
       "146           6.3          2.5           5.0          1.9  virginica\n",
       "147           6.5          3.0           5.2          2.0  virginica\n",
       "148           6.2          3.4           5.4          2.3  virginica\n",
       "149           5.9          3.0           5.1          1.8  virginica\n",
       "\n",
       "[150 rows x 5 columns]"
      ]
     },
     "execution_count": 24,
     "metadata": {},
     "output_type": "execute_result"
    }
   ],
   "source": [
    "iris = sns.load_dataset('iris')\n",
    "iris"
   ]
  },
  {
   "cell_type": "code",
   "execution_count": 25,
   "id": "e1d65761",
   "metadata": {},
   "outputs": [],
   "source": [
    "# 귀무가설 : iris 품종(setosa, versicolor, virginica)에 따라 꽃잎의 길이(petal_length)에 차이 X\n",
    "# 대립가설 : iris 품종(setosa, versicolor, virginica)에 따라 꽃잎의 길이(petal_length)에 차이 O"
   ]
  },
  {
   "cell_type": "code",
   "execution_count": 26,
   "id": "19229a5e",
   "metadata": {},
   "outputs": [
    {
     "name": "stdout",
     "output_type": "stream",
     "text": [
      "\n",
      "\n"
     ]
    },
    {
     "data": {
      "text/html": [
       "<div>\n",
       "<style scoped>\n",
       "    .dataframe tbody tr th:only-of-type {\n",
       "        vertical-align: middle;\n",
       "    }\n",
       "\n",
       "    .dataframe tbody tr th {\n",
       "        vertical-align: top;\n",
       "    }\n",
       "\n",
       "    .dataframe thead th {\n",
       "        text-align: right;\n",
       "    }\n",
       "</style>\n",
       "<table border=\"1\" class=\"dataframe\">\n",
       "  <thead>\n",
       "    <tr style=\"text-align: right;\">\n",
       "      <th></th>\n",
       "      <th>Variable</th>\n",
       "      <th>N</th>\n",
       "      <th>Mean</th>\n",
       "      <th>SD</th>\n",
       "      <th>SE</th>\n",
       "      <th>95% Conf.</th>\n",
       "      <th>Interval</th>\n",
       "    </tr>\n",
       "  </thead>\n",
       "  <tbody>\n",
       "    <tr>\n",
       "      <th>0</th>\n",
       "      <td>petal_length</td>\n",
       "      <td>150.0</td>\n",
       "      <td>3.758</td>\n",
       "      <td>1.7653</td>\n",
       "      <td>0.1441</td>\n",
       "      <td>3.4732</td>\n",
       "      <td>4.0428</td>\n",
       "    </tr>\n",
       "  </tbody>\n",
       "</table>\n",
       "</div>"
      ],
      "text/plain": [
       "       Variable      N   Mean      SD      SE  95% Conf.  Interval\n",
       "0  petal_length  150.0  3.758  1.7653  0.1441     3.4732    4.0428"
      ]
     },
     "execution_count": 26,
     "metadata": {},
     "output_type": "execute_result"
    }
   ],
   "source": [
    "rp.summary_cont(iris.petal_length)\n",
    "# 변수명 / 데이터 개수 / 평균 / 표준편차 / 표준오차 / 95% 신뢰구간 / 전체구간"
   ]
  },
  {
   "cell_type": "code",
   "execution_count": 27,
   "id": "0621e862",
   "metadata": {},
   "outputs": [
    {
     "data": {
      "image/png": "[encoded data removed]",
      "text/plain": [
       "<Figure size 640x480 with 1 Axes>"
      ]
     },
     "metadata": {},
     "output_type": "display_data"
    }
   ],
   "source": [
    "sns.boxplot(x = \"species\", y = \"petal_length\", data = iris)\n",
    "plt.show()"
   ]
  },
  {
   "cell_type": "code",
   "execution_count": 28,
   "id": "6dd88785",
   "metadata": {},
   "outputs": [
    {
     "data": {
      "text/plain": [
       "LeveneResult(statistic=19.480338801923573, pvalue=3.1287566394085344e-08)"
      ]
     },
     "execution_count": 28,
     "metadata": {},
     "output_type": "execute_result"
    }
   ],
   "source": [
    "# 등분산검정\n",
    "stats.levene(iris.loc[iris.species == \"setosa\",     \"petal_length\"],\n",
    "             iris.loc[iris.species == \"versicolor\", \"petal_length\"],\n",
    "             iris.loc[iris.species == \"virginica\",  \"petal_length\"])\n",
    "\n",
    "# 귀무가설을 기각하고 대립가설 채택 - 이분산"
   ]
  },
  {
   "cell_type": "code",
   "execution_count": 29,
   "id": "f4ca6b68",
   "metadata": {},
   "outputs": [
    {
     "data": {
      "text/html": [
       "<div>\n",
       "<style scoped>\n",
       "    .dataframe tbody tr th:only-of-type {\n",
       "        vertical-align: middle;\n",
       "    }\n",
       "\n",
       "    .dataframe tbody tr th {\n",
       "        vertical-align: top;\n",
       "    }\n",
       "\n",
       "    .dataframe thead th {\n",
       "        text-align: right;\n",
       "    }\n",
       "</style>\n",
       "<table border=\"1\" class=\"dataframe\">\n",
       "  <thead>\n",
       "    <tr style=\"text-align: right;\">\n",
       "      <th></th>\n",
       "      <th>Source</th>\n",
       "      <th>ddof1</th>\n",
       "      <th>ddof2</th>\n",
       "      <th>F</th>\n",
       "      <th>p-unc</th>\n",
       "      <th>np2</th>\n",
       "    </tr>\n",
       "  </thead>\n",
       "  <tbody>\n",
       "    <tr>\n",
       "      <th>0</th>\n",
       "      <td>species</td>\n",
       "      <td>2</td>\n",
       "      <td>78.072955</td>\n",
       "      <td>1828.091945</td>\n",
       "      <td>2.693327e-66</td>\n",
       "      <td>0.941372</td>\n",
       "    </tr>\n",
       "  </tbody>\n",
       "</table>\n",
       "</div>"
      ],
      "text/plain": [
       "    Source  ddof1      ddof2            F         p-unc       np2\n",
       "0  species      2  78.072955  1828.091945  2.693327e-66  0.941372"
      ]
     },
     "execution_count": 29,
     "metadata": {},
     "output_type": "execute_result"
    }
   ],
   "source": [
    "# 이분산 분산 분석\n",
    "pg.welch_anova(dv = \"petal_length\", between = \"species\", data = iris)"
   ]
  },
  {
   "cell_type": "code",
   "execution_count": 30,
   "id": "fec27a30",
   "metadata": {},
   "outputs": [
    {
     "data": {
      "text/plain": [
       "F_onewayResult(statistic=1180.161182252981, pvalue=2.8567766109615584e-91)"
      ]
     },
     "execution_count": 30,
     "metadata": {},
     "output_type": "execute_result"
    }
   ],
   "source": [
    "# 등분산 분산 분석\n",
    "stats.f_oneway(iris.loc[iris.species == \"setosa\", \"petal_length\"],\n",
    "               iris.loc[iris.species == \"versicolor\", \"petal_length\"],\n",
    "               iris.loc[iris.species == \"virginica\", \"petal_length\"])"
   ]
  },
  {
   "cell_type": "code",
   "execution_count": 31,
   "id": "1050b767",
   "metadata": {},
   "outputs": [],
   "source": [
    "import statsmodels.api as sm\n",
    "from statsmodels.formula.api import ols"
   ]
  },
  {
   "cell_type": "code",
   "execution_count": 32,
   "id": "99e32bae",
   "metadata": {},
   "outputs": [
    {
     "data": {
      "text/html": [
       "<div>\n",
       "<style scoped>\n",
       "    .dataframe tbody tr th:only-of-type {\n",
       "        vertical-align: middle;\n",
       "    }\n",
       "\n",
       "    .dataframe tbody tr th {\n",
       "        vertical-align: top;\n",
       "    }\n",
       "\n",
       "    .dataframe thead th {\n",
       "        text-align: right;\n",
       "    }\n",
       "</style>\n",
       "<table border=\"1\" class=\"dataframe\">\n",
       "  <thead>\n",
       "    <tr style=\"text-align: right;\">\n",
       "      <th></th>\n",
       "      <th>df</th>\n",
       "      <th>sum_sq</th>\n",
       "      <th>mean_sq</th>\n",
       "      <th>F</th>\n",
       "      <th>PR(&gt;F)</th>\n",
       "    </tr>\n",
       "  </thead>\n",
       "  <tbody>\n",
       "    <tr>\n",
       "      <th>species</th>\n",
       "      <td>2.0</td>\n",
       "      <td>437.1028</td>\n",
       "      <td>218.551400</td>\n",
       "      <td>1180.161182</td>\n",
       "      <td>2.856777e-91</td>\n",
       "    </tr>\n",
       "    <tr>\n",
       "      <th>Residual</th>\n",
       "      <td>147.0</td>\n",
       "      <td>27.2226</td>\n",
       "      <td>0.185188</td>\n",
       "      <td>NaN</td>\n",
       "      <td>NaN</td>\n",
       "    </tr>\n",
       "  </tbody>\n",
       "</table>\n",
       "</div>"
      ],
      "text/plain": [
       "             df    sum_sq     mean_sq            F        PR(>F)\n",
       "species     2.0  437.1028  218.551400  1180.161182  2.856777e-91\n",
       "Residual  147.0   27.2226    0.185188          NaN           NaN"
      ]
     },
     "execution_count": 32,
     "metadata": {},
     "output_type": "execute_result"
    }
   ],
   "source": [
    "iris_result = ols(\"petal_length ~ species\", data = iris).fit()\n",
    "sm.stats.anova_lm(iris_result, type = 2)"
   ]
  },
  {
   "cell_type": "markdown",
   "id": "8d2a7d4b",
   "metadata": {},
   "source": [
    "|구분|df(자유도)|sum_sq|mean_sq|F|PR(>F)|\n",
    "|:---:|:---:|:---:|:---:|:---:|:---:|\n",
    "|species|K-1|SSB(Sum of Between)|MSB(Mean Square Between)|F-Statistics(MSB/MSE)|P-Value|\n",
    "|Residual|K-1|SSE(Sum of Square Error)|MSE(Mean Square Error)|NA|NA|"
   ]
  },
  {
   "cell_type": "markdown",
   "id": "b85b7d52",
   "metadata": {},
   "source": [
    "### 크루스칼-왈리스 순위합 검정 (Kruscal-Wallis Rank Sum Test)\n",
    "- k 집단 중 하나라도 정규성 가정이 깨질 때 사용\n",
    "- stats.kruskal()"
   ]
  },
  {
   "cell_type": "code",
   "execution_count": 34,
   "id": "740b81dd",
   "metadata": {},
   "outputs": [
    {
     "data": {
      "text/html": [
       "<div>\n",
       "<style scoped>\n",
       "    .dataframe tbody tr th:only-of-type {\n",
       "        vertical-align: middle;\n",
       "    }\n",
       "\n",
       "    .dataframe tbody tr th {\n",
       "        vertical-align: top;\n",
       "    }\n",
       "\n",
       "    .dataframe thead th {\n",
       "        text-align: right;\n",
       "    }\n",
       "</style>\n",
       "<table border=\"1\" class=\"dataframe\">\n",
       "  <thead>\n",
       "    <tr style=\"text-align: right;\">\n",
       "      <th></th>\n",
       "      <th>birth</th>\n",
       "      <th>data</th>\n",
       "      <th>sort</th>\n",
       "      <th>rank</th>\n",
       "    </tr>\n",
       "  </thead>\n",
       "  <tbody>\n",
       "    <tr>\n",
       "      <th>0</th>\n",
       "      <td>0.0</td>\n",
       "      <td>0.0</td>\n",
       "      <td>0.0</td>\n",
       "      <td>0.0</td>\n",
       "    </tr>\n",
       "    <tr>\n",
       "      <th>1</th>\n",
       "      <td>0.0</td>\n",
       "      <td>0.0</td>\n",
       "      <td>0.0</td>\n",
       "      <td>0.0</td>\n",
       "    </tr>\n",
       "    <tr>\n",
       "      <th>2</th>\n",
       "      <td>0.0</td>\n",
       "      <td>0.0</td>\n",
       "      <td>0.0</td>\n",
       "      <td>0.0</td>\n",
       "    </tr>\n",
       "    <tr>\n",
       "      <th>3</th>\n",
       "      <td>0.0</td>\n",
       "      <td>0.0</td>\n",
       "      <td>0.0</td>\n",
       "      <td>0.0</td>\n",
       "    </tr>\n",
       "    <tr>\n",
       "      <th>4</th>\n",
       "      <td>0.0</td>\n",
       "      <td>0.0</td>\n",
       "      <td>0.0</td>\n",
       "      <td>0.0</td>\n",
       "    </tr>\n",
       "    <tr>\n",
       "      <th>5</th>\n",
       "      <td>0.0</td>\n",
       "      <td>0.0</td>\n",
       "      <td>0.0</td>\n",
       "      <td>0.0</td>\n",
       "    </tr>\n",
       "    <tr>\n",
       "      <th>6</th>\n",
       "      <td>0.0</td>\n",
       "      <td>0.0</td>\n",
       "      <td>0.0</td>\n",
       "      <td>0.0</td>\n",
       "    </tr>\n",
       "    <tr>\n",
       "      <th>7</th>\n",
       "      <td>0.0</td>\n",
       "      <td>0.0</td>\n",
       "      <td>0.0</td>\n",
       "      <td>0.0</td>\n",
       "    </tr>\n",
       "    <tr>\n",
       "      <th>8</th>\n",
       "      <td>0.0</td>\n",
       "      <td>0.0</td>\n",
       "      <td>0.0</td>\n",
       "      <td>0.0</td>\n",
       "    </tr>\n",
       "    <tr>\n",
       "      <th>9</th>\n",
       "      <td>0.0</td>\n",
       "      <td>0.0</td>\n",
       "      <td>0.0</td>\n",
       "      <td>0.0</td>\n",
       "    </tr>\n",
       "    <tr>\n",
       "      <th>10</th>\n",
       "      <td>0.0</td>\n",
       "      <td>0.0</td>\n",
       "      <td>0.0</td>\n",
       "      <td>0.0</td>\n",
       "    </tr>\n",
       "  </tbody>\n",
       "</table>\n",
       "</div>"
      ],
      "text/plain": [
       "    birth  data  sort  rank\n",
       "0     0.0   0.0   0.0   0.0\n",
       "1     0.0   0.0   0.0   0.0\n",
       "2     0.0   0.0   0.0   0.0\n",
       "3     0.0   0.0   0.0   0.0\n",
       "4     0.0   0.0   0.0   0.0\n",
       "5     0.0   0.0   0.0   0.0\n",
       "6     0.0   0.0   0.0   0.0\n",
       "7     0.0   0.0   0.0   0.0\n",
       "8     0.0   0.0   0.0   0.0\n",
       "9     0.0   0.0   0.0   0.0\n",
       "10    0.0   0.0   0.0   0.0"
      ]
     },
     "execution_count": 34,
     "metadata": {},
     "output_type": "execute_result"
    }
   ],
   "source": [
    "import numpy as np\n",
    "\n",
    "outcome = [60, 65, 70, 60, 70, 70, 50, 70, 55, 80, 60]\n",
    "birth = ['후', '후', '중', '초', '초', '중', '초', '중', '중', '후', '초']\n",
    "kruscal_wallis_df = pd.DataFrame(np.zeros((11, 4)), columns=['birth', 'data', 'sort', 'rank'])"
   ]
  },
  {
   "cell_type": "code",
   "execution_count": 35,
   "id": "c551eeca",
   "metadata": {},
   "outputs": [],
   "source": [
    "kruscal_wallis_df['birth'] = birth\n",
    "kruscal_wallis_df['data'] = outcome\n",
    "kruscal_wallis_df['sort'] = sorted([(i, j) for i, j in zip(outcome, birth)], key=lambda x:x[0])\n",
    "kruscal_wallis_df['sort_birth'] = [i[1] for i in kruscal_wallis_df['sort'].tolist()]\n",
    "kruscal_wallis_df['sort_data'] = [i[0] for i in kruscal_wallis_df['sort'].tolist()]\n",
    "kruscal_wallis_df['rank'] = sorted(kruscal_wallis_df['data'].rank(method='average', ascending=True).tolist())"
   ]
  },
  {
   "cell_type": "code",
   "execution_count": 36,
   "id": "66089572",
   "metadata": {},
   "outputs": [
    {
     "data": {
      "text/html": [
       "<div>\n",
       "<style scoped>\n",
       "    .dataframe tbody tr th:only-of-type {\n",
       "        vertical-align: middle;\n",
       "    }\n",
       "\n",
       "    .dataframe tbody tr th {\n",
       "        vertical-align: top;\n",
       "    }\n",
       "\n",
       "    .dataframe thead th {\n",
       "        text-align: right;\n",
       "    }\n",
       "</style>\n",
       "<table border=\"1\" class=\"dataframe\">\n",
       "  <thead>\n",
       "    <tr style=\"text-align: right;\">\n",
       "      <th></th>\n",
       "      <th>birth</th>\n",
       "      <th>data</th>\n",
       "      <th>sort</th>\n",
       "      <th>rank</th>\n",
       "      <th>sort_birth</th>\n",
       "      <th>sort_data</th>\n",
       "    </tr>\n",
       "  </thead>\n",
       "  <tbody>\n",
       "    <tr>\n",
       "      <th>0</th>\n",
       "      <td>후</td>\n",
       "      <td>60</td>\n",
       "      <td>(50, 초)</td>\n",
       "      <td>1.0</td>\n",
       "      <td>초</td>\n",
       "      <td>50</td>\n",
       "    </tr>\n",
       "    <tr>\n",
       "      <th>1</th>\n",
       "      <td>후</td>\n",
       "      <td>65</td>\n",
       "      <td>(55, 중)</td>\n",
       "      <td>2.0</td>\n",
       "      <td>중</td>\n",
       "      <td>55</td>\n",
       "    </tr>\n",
       "    <tr>\n",
       "      <th>2</th>\n",
       "      <td>중</td>\n",
       "      <td>70</td>\n",
       "      <td>(60, 후)</td>\n",
       "      <td>4.0</td>\n",
       "      <td>후</td>\n",
       "      <td>60</td>\n",
       "    </tr>\n",
       "    <tr>\n",
       "      <th>3</th>\n",
       "      <td>초</td>\n",
       "      <td>60</td>\n",
       "      <td>(60, 초)</td>\n",
       "      <td>4.0</td>\n",
       "      <td>초</td>\n",
       "      <td>60</td>\n",
       "    </tr>\n",
       "    <tr>\n",
       "      <th>4</th>\n",
       "      <td>초</td>\n",
       "      <td>70</td>\n",
       "      <td>(60, 초)</td>\n",
       "      <td>4.0</td>\n",
       "      <td>초</td>\n",
       "      <td>60</td>\n",
       "    </tr>\n",
       "    <tr>\n",
       "      <th>5</th>\n",
       "      <td>중</td>\n",
       "      <td>70</td>\n",
       "      <td>(65, 후)</td>\n",
       "      <td>6.0</td>\n",
       "      <td>후</td>\n",
       "      <td>65</td>\n",
       "    </tr>\n",
       "    <tr>\n",
       "      <th>6</th>\n",
       "      <td>초</td>\n",
       "      <td>50</td>\n",
       "      <td>(70, 중)</td>\n",
       "      <td>8.5</td>\n",
       "      <td>중</td>\n",
       "      <td>70</td>\n",
       "    </tr>\n",
       "    <tr>\n",
       "      <th>7</th>\n",
       "      <td>중</td>\n",
       "      <td>70</td>\n",
       "      <td>(70, 초)</td>\n",
       "      <td>8.5</td>\n",
       "      <td>초</td>\n",
       "      <td>70</td>\n",
       "    </tr>\n",
       "    <tr>\n",
       "      <th>8</th>\n",
       "      <td>중</td>\n",
       "      <td>55</td>\n",
       "      <td>(70, 중)</td>\n",
       "      <td>8.5</td>\n",
       "      <td>중</td>\n",
       "      <td>70</td>\n",
       "    </tr>\n",
       "    <tr>\n",
       "      <th>9</th>\n",
       "      <td>후</td>\n",
       "      <td>80</td>\n",
       "      <td>(70, 중)</td>\n",
       "      <td>8.5</td>\n",
       "      <td>중</td>\n",
       "      <td>70</td>\n",
       "    </tr>\n",
       "    <tr>\n",
       "      <th>10</th>\n",
       "      <td>초</td>\n",
       "      <td>60</td>\n",
       "      <td>(80, 후)</td>\n",
       "      <td>11.0</td>\n",
       "      <td>후</td>\n",
       "      <td>80</td>\n",
       "    </tr>\n",
       "  </tbody>\n",
       "</table>\n",
       "</div>"
      ],
      "text/plain": [
       "   birth  data     sort  rank sort_birth  sort_data\n",
       "0      후    60  (50, 초)   1.0          초         50\n",
       "1      후    65  (55, 중)   2.0          중         55\n",
       "2      중    70  (60, 후)   4.0          후         60\n",
       "3      초    60  (60, 초)   4.0          초         60\n",
       "4      초    70  (60, 초)   4.0          초         60\n",
       "5      중    70  (65, 후)   6.0          후         65\n",
       "6      초    50  (70, 중)   8.5          중         70\n",
       "7      중    70  (70, 초)   8.5          초         70\n",
       "8      중    55  (70, 중)   8.5          중         70\n",
       "9      후    80  (70, 중)   8.5          중         70\n",
       "10     초    60  (80, 후)  11.0          후         80"
      ]
     },
     "execution_count": 36,
     "metadata": {},
     "output_type": "execute_result"
    }
   ],
   "source": [
    "kruscal_wallis_df"
   ]
  },
  {
   "cell_type": "code",
   "execution_count": 37,
   "id": "54ed657b",
   "metadata": {},
   "outputs": [
    {
     "data": {
      "text/html": [
       "<div>\n",
       "<style scoped>\n",
       "    .dataframe tbody tr th:only-of-type {\n",
       "        vertical-align: middle;\n",
       "    }\n",
       "\n",
       "    .dataframe tbody tr th {\n",
       "        vertical-align: top;\n",
       "    }\n",
       "\n",
       "    .dataframe thead th {\n",
       "        text-align: right;\n",
       "    }\n",
       "</style>\n",
       "<table border=\"1\" class=\"dataframe\">\n",
       "  <thead>\n",
       "    <tr style=\"text-align: right;\">\n",
       "      <th></th>\n",
       "      <th>data</th>\n",
       "      <th>rank</th>\n",
       "      <th>sort_data</th>\n",
       "      <th>count</th>\n",
       "      <th>average_ranksums</th>\n",
       "    </tr>\n",
       "    <tr>\n",
       "      <th>sort_birth</th>\n",
       "      <th></th>\n",
       "      <th></th>\n",
       "      <th></th>\n",
       "      <th></th>\n",
       "      <th></th>\n",
       "    </tr>\n",
       "  </thead>\n",
       "  <tbody>\n",
       "    <tr>\n",
       "      <th>중</th>\n",
       "      <td>250</td>\n",
       "      <td>27.5</td>\n",
       "      <td>265</td>\n",
       "      <td>4</td>\n",
       "      <td>7.0</td>\n",
       "    </tr>\n",
       "    <tr>\n",
       "      <th>초</th>\n",
       "      <td>260</td>\n",
       "      <td>17.5</td>\n",
       "      <td>240</td>\n",
       "      <td>4</td>\n",
       "      <td>4.0</td>\n",
       "    </tr>\n",
       "    <tr>\n",
       "      <th>후</th>\n",
       "      <td>200</td>\n",
       "      <td>21.0</td>\n",
       "      <td>205</td>\n",
       "      <td>3</td>\n",
       "      <td>7.0</td>\n",
       "    </tr>\n",
       "  </tbody>\n",
       "</table>\n",
       "</div>"
      ],
      "text/plain": [
       "            data  rank  sort_data  count  average_ranksums\n",
       "sort_birth                                                \n",
       "중            250  27.5        265      4               7.0\n",
       "초            260  17.5        240      4               4.0\n",
       "후            200  21.0        205      3               7.0"
      ]
     },
     "execution_count": 37,
     "metadata": {},
     "output_type": "execute_result"
    }
   ],
   "source": [
    "sum_df = kruscal_wallis_df.groupby(by='sort_birth').sum()\n",
    "sum_df['count'] = kruscal_wallis_df.groupby(by='sort_birth')['rank'].count()\n",
    "sum_df['average_ranksums'] = round(sum_df['rank'] / sum_df['count'])\n",
    "sum_df"
   ]
  },
  {
   "cell_type": "markdown",
   "id": "1f13f304",
   "metadata": {},
   "source": [
    "![분산분석](https://img1.daumcdn.net/thumb/R1280x0/?scode=mtistory2&fname=https%3A%2F%2Fblog.kakaocdn.net%2Fdn%2FANWWy%2FbtqIs9NZw4e%2FugzT2BDrEkpNKQ8OOeRYmK%2Fimg.png \"분산분석\")"
   ]
  },
  {
   "cell_type": "code",
   "execution_count": 112,
   "id": "3433d091",
   "metadata": {},
   "outputs": [],
   "source": [
    "# H0 귀무가설 : 태어난 달의 초반 중반 후반에 따라서 생활비 지출과 관련 X\n",
    "# H1 대립가설 : 태어난 달의 초반 중반 후반에 따라서 생활비 지출과 관련 O\n",
    "# 평균 순위합을 구하는 이유는 데이터가 많을 경우 순위합의 값이 크기 때문\n",
    "# 귀무가설이 맞다면 예상할 수 있는 기대값 존재 (6, 6, 6)\n",
    "# 평균 순위합과 기대값이 차이가 나지 않는다면 귀무가설, 차이가 많이 날수록 대립가설에 가깝다는 것."
   ]
  },
  {
   "cell_type": "code",
   "execution_count": 38,
   "id": "97781e88",
   "metadata": {},
   "outputs": [
    {
     "data": {
      "text/plain": [
       "KruskalResult(statistic=130.41104857977163, pvalue=4.803973591157605e-29)"
      ]
     },
     "execution_count": 38,
     "metadata": {},
     "output_type": "execute_result"
    }
   ],
   "source": [
    "stats.kruskal(iris.loc[iris.species == \"setosa\", \"petal_length\"],\n",
    "              iris.loc[iris.species == \"versicolor\", \"petal_length\"],\n",
    "              iris.loc[iris.species == \"virginica\", \"petal_length\"])"
   ]
  },
  {
   "cell_type": "markdown",
   "id": "d840299f",
   "metadata": {},
   "source": [
    "### 단계별 분산분석\n",
    "\n",
    "#### 1. 정규성 검정\n",
    "- H0 귀무가설 : 정규성 만족\n",
    "- H1 대립가설 : 정규성 불만족"
   ]
  },
  {
   "cell_type": "code",
   "execution_count": 41,
   "id": "cb610022",
   "metadata": {},
   "outputs": [
    {
     "name": "stdout",
     "output_type": "stream",
     "text": [
      "Setosa :  ShapiroResult(statistic=0.9549766182899475, pvalue=0.05481043830513954)\n",
      "Versicolor :  ShapiroResult(statistic=0.9660047888755798, pvalue=0.1584833413362503)\n",
      "Virginica :  ShapiroResult(statistic=0.9621862769126892, pvalue=0.10977369546890259)\n"
     ]
    }
   ],
   "source": [
    "setosa = iris.loc[iris.species == \"setosa\", \"petal_length\"]\n",
    "versicolor = iris.loc[iris.species == \"versicolor\", \"petal_length\"]\n",
    "virginica = iris.loc[iris.species == \"virginica\", \"petal_length\"]\n",
    "\n",
    "setosa_normality, versicolor_normality, virginica_normality = stats.shapiro(setosa), stats.shapiro(versicolor), stats.shapiro(virginica)\n",
    "\n",
    "print(\"Setosa : \", setosa_normality)\n",
    "print(\"Versicolor : \", versicolor_normality)\n",
    "print(\"Virginica : \", virginica_normality)\n",
    "\n",
    "# 모든 변수의 p-Value가 0.05 이상이므로 귀무가설을 만족 → 정규성 만족"
   ]
  },
  {
   "cell_type": "markdown",
   "id": "b6514e81",
   "metadata": {},
   "source": [
    "#### 2. 등분산 검정\n",
    "- H0 귀무가설 : 등분산\n",
    "- H1 대립가설 : 이분산"
   ]
  },
  {
   "cell_type": "code",
   "execution_count": 42,
   "id": "ef9c4f7e",
   "metadata": {},
   "outputs": [
    {
     "data": {
      "text/plain": [
       "LeveneResult(statistic=19.480338801923573, pvalue=3.1287566394085344e-08)"
      ]
     },
     "execution_count": 42,
     "metadata": {},
     "output_type": "execute_result"
    }
   ],
   "source": [
    "stats.levene(setosa, versicolor, virginica)\n",
    "\n",
    "# p-Value가 0.05 이하이므로 귀무가설을 기각 (대립가설 채택) → 이분산 (등분산 불만족)"
   ]
  },
  {
   "cell_type": "markdown",
   "id": "119d0908",
   "metadata": {},
   "source": [
    "#### 3. 분산분석 - 이분산\n",
    "- H0 귀무가설 : 분산 차이 X\n",
    "- H1 대립가설 : 분산 차이 O"
   ]
  },
  {
   "cell_type": "code",
   "execution_count": 43,
   "id": "acba5034",
   "metadata": {},
   "outputs": [
    {
     "data": {
      "text/html": [
       "<div>\n",
       "<style scoped>\n",
       "    .dataframe tbody tr th:only-of-type {\n",
       "        vertical-align: middle;\n",
       "    }\n",
       "\n",
       "    .dataframe tbody tr th {\n",
       "        vertical-align: top;\n",
       "    }\n",
       "\n",
       "    .dataframe thead th {\n",
       "        text-align: right;\n",
       "    }\n",
       "</style>\n",
       "<table border=\"1\" class=\"dataframe\">\n",
       "  <thead>\n",
       "    <tr style=\"text-align: right;\">\n",
       "      <th></th>\n",
       "      <th>Source</th>\n",
       "      <th>ddof1</th>\n",
       "      <th>ddof2</th>\n",
       "      <th>F</th>\n",
       "      <th>p-unc</th>\n",
       "      <th>np2</th>\n",
       "    </tr>\n",
       "  </thead>\n",
       "  <tbody>\n",
       "    <tr>\n",
       "      <th>0</th>\n",
       "      <td>species</td>\n",
       "      <td>2</td>\n",
       "      <td>78.072955</td>\n",
       "      <td>1828.091945</td>\n",
       "      <td>2.693327e-66</td>\n",
       "      <td>0.941372</td>\n",
       "    </tr>\n",
       "  </tbody>\n",
       "</table>\n",
       "</div>"
      ],
      "text/plain": [
       "    Source  ddof1      ddof2            F         p-unc       np2\n",
       "0  species      2  78.072955  1828.091945  2.693327e-66  0.941372"
      ]
     },
     "execution_count": 43,
     "metadata": {},
     "output_type": "execute_result"
    }
   ],
   "source": [
    "pg.welch_anova(dv = 'petal_length', between = 'species', data = iris)\n",
    "\n",
    "# p-Value가 0.05 이하이므로 귀무가설을 기각 (대립가설 채택) → 품종에 따른 꽃잎의 길이는 통계적으로 유의한 차이 존재"
   ]
  },
  {
   "cell_type": "markdown",
   "id": "67116abf",
   "metadata": {},
   "source": [
    "### 모수적 방법(Parametric Method)\n",
    "#### 모집단의 분포를 가정할 수 있을 때 사용하는 방법\n",
    "- **One Sample T-Test**\n",
    "- **Two Sample T-Test**\n",
    "- **Paired T-Test**\n",
    "- **ANOVA**\n",
    "\n",
    "\n",
    "### 비모수적 방법(Non-Parametric Method)\n",
    "#### 모집단의 분포를 가정할 수 없거나 아주 약하게 가정할 때 사용하는 방법\n",
    "- **Wilcoxon's Signed Rank Test**\n",
    "- **Wilcoxon's Rank Sum Test**\n",
    "- **Kruskal-Wallis Rank Sum Test**\n",
    "\n",
    "![통계분석](https://img1.daumcdn.net/thumb/R1280x0/?scode=mtistory2&fname=https%3A%2F%2Fblog.kakaocdn.net%2Fdn%2FeazPFC%2FbtqIwYkRsb4%2FCiInVwED7Y8rBKwRMR96tk%2Fimg.jpg \"통계분석\")"
   ]
  },
  {
   "cell_type": "markdown",
   "id": "93cefe1e",
   "metadata": {},
   "source": [
    "## 상관분석(Correlation Analysis)\n",
    "- 선형(직선)의 관계가 있는지를 분석\n",
    "- **산점도**와 **상관계수**\n",
    "\n",
    "### 산점도 (Scatter Plot)\n",
    "![산점도](https://img1.daumcdn.net/thumb/R1280x0/?scode=mtistory2&fname=https%3A%2F%2Ft1.daumcdn.net%2Fcfile%2Ftistory%2F99B6283D5F65B46C08 \"산점도\")\n",
    "- sns.pairplot()"
   ]
  },
  {
   "cell_type": "code",
   "execution_count": 45,
   "id": "b9dd29c7",
   "metadata": {},
   "outputs": [
    {
     "data": {
      "image/png": "[encoded data removed]",
      "text/plain": [
       "<Figure size 250x250 with 1 Axes>"
      ]
     },
     "metadata": {},
     "output_type": "display_data"
    }
   ],
   "source": [
    "sns.pairplot(iris, x_vars = \"sepal_length\", y_vars = \"sepal_width\");"
   ]
  },
  {
   "cell_type": "markdown",
   "id": "576d94ab",
   "metadata": {},
   "source": [
    "### Spearman 상관계수\n",
    "- X, Y가 정규성을 만족하지 않거나, 순위형 자료일 때 사용\n",
    "![Spearman](https://img1.daumcdn.net/thumb/R1280x0/?scode=mtistory2&fname=https%3A%2F%2Ft1.daumcdn.net%2Fcfile%2Ftistory%2F99C9C23E5F65B95A0C \"Spearman\")\n",
    "- 5개의 양적 자료 X와 양적 자료 Y의 순위를 정해 Spearman 상관계수를 계산\n",
    "- 0.9 : 키가 클 수록 몸무게도 크다는 의미\n",
    "- stats.spearmanr(a = X, b = Y)\n",
    "\n",
    "\n",
    "### Kendall\n",
    "- 두 양적 자료가 정규성을 만족하지 않을 때 두 자료 간의 상관관계를 확인하는 방법\n",
    "![Kendall](https://img1.daumcdn.net/thumb/R1280x0/?scode=mtistory2&fname=https%3A%2F%2Ft1.daumcdn.net%2Fcfile%2Ftistory%2F998273485F65BF1C0E \"Kendall\")\n",
    "- X를 기준으로 오름차순 정렬을 한 뒤 첫 번째 자료에 기준을 두고 이후 X와 Y가 증가하는지를 확인하여, 모두 증가하면 Concordant Pair (C#), 하나라도 증가하지 않을 경우 Disconcordant Pair (D#)으로 계산하는 방법\n",
    "- stats.kendalltau(x, y)\n",
    "\n",
    "\n",
    "### Pearson 상관계수\n",
    "- 데이터가 정규성을 만족할 경우에 사용\n",
    "- H0 귀무가설 : X와 Y간 직선의 관계 X\n",
    "- H1 대립가설 : X와 Y간 직선의 관계 O\n",
    "![Pearson](https://img1.daumcdn.net/thumb/R1280x0/?scode=mtistory2&fname=https%3A%2F%2Ft1.daumcdn.net%2Fcfile%2Ftistory%2F991A4B4B5F65C3F310 \"Pearson\")\n",
    "- stats.pearsonr(x, y)"
   ]
  },
  {
   "cell_type": "code",
   "execution_count": 47,
   "id": "477dd0a9",
   "metadata": {},
   "outputs": [
    {
     "data": {
      "text/plain": [
       "(0.8717537758865833, 1.0386674194496954e-47)"
      ]
     },
     "execution_count": 47,
     "metadata": {},
     "output_type": "execute_result"
    }
   ],
   "source": [
    "# Pearson 상관분석\n",
    "stats.pearsonr(x = iris.petal_length, y = iris.sepal_length)\n",
    "# 상관계수 r, p-Value\n",
    "# p-Value가 0.05 이하이므로 귀무가설을 기각 (대립가설 채택) → 꽃잎의 길이가 증가하면 꽃받침의 길이도 증가하는 경향을 보임"
   ]
  },
  {
   "cell_type": "code",
   "execution_count": 48,
   "id": "e10a09e3",
   "metadata": {},
   "outputs": [
    {
     "data": {
      "text/plain": [
       "SpearmanrResult(correlation=0.8818981264349859, pvalue=3.443087278047102e-50)"
      ]
     },
     "execution_count": 48,
     "metadata": {},
     "output_type": "execute_result"
    }
   ],
   "source": [
    "# Spearman 상관분석\n",
    "stats.spearmanr(a = iris.petal_length, b = iris.sepal_length)\n",
    "# 상관계수 r, p-Value\n",
    "# p-Value가 0.05 이하이므로 귀무가설을 기각 (대립가설 채택) → 꽃잎의 길이가 증가하면 꽃받침의 길이도 증가하는 경향을 보임"
   ]
  },
  {
   "cell_type": "code",
   "execution_count": 49,
   "id": "7cc54bda",
   "metadata": {},
   "outputs": [
    {
     "data": {
      "text/plain": [
       "KendalltauResult(correlation=0.7185159275387325, pvalue=1.1691259442824597e-36)"
      ]
     },
     "execution_count": 49,
     "metadata": {},
     "output_type": "execute_result"
    }
   ],
   "source": [
    "# kendall 상관분석\n",
    "stats.kendalltau(x = iris.petal_length, y = iris.sepal_length)\n",
    "# 상관계수 tau, p-Value\n",
    "# p-Value가 0.05 이하이므로 귀무가설을 기각 (대립가설 채택) → 꽃잎의 길이가 증가하면 꽃받침의 길이도 증가하는 경향을 보임"
   ]
  },
  {
   "cell_type": "markdown",
   "id": "6684d1b6",
   "metadata": {},
   "source": [
    "### 단계별 상관분석\n",
    "![상관분석](https://img1.daumcdn.net/thumb/R1280x0/?scode=mtistory2&fname=https%3A%2F%2Ft1.daumcdn.net%2Fcfile%2Ftistory%2F995D484B5F6B423434 \"상관분석\")\n",
    "#### 1. 정규성 검정\n",
    "- H0 귀무가설 : 정규분포 만족\n",
    "- H1 대립가설 : 정규분포 불만족"
   ]
  },
  {
   "cell_type": "code",
   "execution_count": 50,
   "id": "fa85facc",
   "metadata": {
    "scrolled": true
   },
   "outputs": [
    {
     "name": "stdout",
     "output_type": "stream",
     "text": [
      "Petal Length :  ShapiroResult(statistic=0.8762688040733337, pvalue=7.412849778454245e-10)\n",
      "Sepal Length :  ShapiroResult(statistic=0.9760897755622864, pvalue=0.01017984002828598)\n"
     ]
    }
   ],
   "source": [
    "pl_normality = stats.shapiro(iris.petal_length)\n",
    "sl_normality = stats.shapiro(iris.sepal_length)\n",
    "\n",
    "print(\"Petal Length : \", pl_normality)\n",
    "print(\"Sepal Length : \", sl_normality)\n",
    "\n",
    "# 두 데이터 모두 p-Value가 0.05 이하이므로 귀무가설을 기각 (대립가설 채택) → 정규분포 불만족 → Spearman / Kendall 상관분석 진행"
   ]
  },
  {
   "cell_type": "markdown",
   "id": "50c397af",
   "metadata": {},
   "source": [
    "#### 2. 상관분석 (정규성 불만족)"
   ]
  },
  {
   "cell_type": "code",
   "execution_count": 51,
   "id": "3cb6945d",
   "metadata": {},
   "outputs": [
    {
     "data": {
      "text/plain": [
       "KendalltauResult(correlation=0.7185159275387325, pvalue=1.1691259442824597e-36)"
      ]
     },
     "execution_count": 51,
     "metadata": {},
     "output_type": "execute_result"
    }
   ],
   "source": [
    "# Kendall 상관분석\n",
    "stats.kendalltau(iris.petal_length, iris.sepal_length)\n",
    "# p-Value가 0.05 이하이므로 귀무가설을 기각 (대립가설 채택) →\n",
    "# 꽃잎의 길이와 꽃받침의 길이 간에는 통계적으로 강한 양의 상관관계가 존재"
   ]
  },
  {
   "cell_type": "code",
   "execution_count": null,
   "id": "61cac029",
   "metadata": {},
   "outputs": [],
   "source": []
  },
  {
   "cell_type": "code",
   "execution_count": null,
   "id": "de6bccfa",
   "metadata": {},
   "outputs": [],
   "source": []
  },
  {
   "cell_type": "code",
   "execution_count": null,
   "id": "e0802224",
   "metadata": {},
   "outputs": [],
   "source": []
  },
  {
   "cell_type": "code",
   "execution_count": null,
   "id": "5e1bd35c",
   "metadata": {},
   "outputs": [],
   "source": []
  },
  {
   "cell_type": "code",
   "execution_count": null,
   "id": "3770313e",
   "metadata": {},
   "outputs": [],
   "source": []
  },
  {
   "cell_type": "code",
   "execution_count": null,
   "id": "11443fcc",
   "metadata": {},
   "outputs": [],
   "source": []
  },
  {
   "cell_type": "code",
   "execution_count": null,
   "id": "ef1a297b",
   "metadata": {},
   "outputs": [],
   "source": []
  },
  {
   "cell_type": "code",
   "execution_count": null,
   "id": "765e1fc6",
   "metadata": {},
   "outputs": [],
   "source": []
  },
  {
   "cell_type": "code",
   "execution_count": null,
   "id": "84aca5f4",
   "metadata": {},
   "outputs": [],
   "source": []
  },
  {
   "cell_type": "code",
   "execution_count": null,
   "id": "5240b34c",
   "metadata": {},
   "outputs": [],
   "source": []
  },
  {
   "cell_type": "code",
   "execution_count": null,
   "id": "07387203",
   "metadata": {},
   "outputs": [],
   "source": []
  },
  {
   "cell_type": "code",
   "execution_count": null,
   "id": "f8f3aac3",
   "metadata": {},
   "outputs": [],
   "source": []
  }
 ],
 "metadata": {
  "kernelspec": {
   "display_name": "GPU_tf",
   "language": "python",
   "name": "tensorflow"
  },
  "language_info": {
   "codemirror_mode": {
    "name": "ipython",
    "version": 3
   },
   "file_extension": ".py",
   "mimetype": "text/x-python",
   "name": "python",
   "nbconvert_exporter": "python",
   "pygments_lexer": "ipython3",
   "version": "3.7.13"
  },
  "toc": {
   "base_numbering": 1,
   "nav_menu": {},
   "number_sections": true,
   "sideBar": true,
   "skip_h1_title": false,
   "title_cell": "Table of Contents",
   "title_sidebar": "Contents",
   "toc_cell": false,
   "toc_position": {},
   "toc_section_display": true,
   "toc_window_display": false
  },
  "varInspector": {
   "cols": {
    "lenName": 16,
    "lenType": 16,
    "lenVar": 40
   },
   "kernels_config": {
    "python": {
     "delete_cmd_postfix": "",
     "delete_cmd_prefix": "del ",
     "library": "var_list.py",
     "varRefreshCmd": "print(var_dic_list())"
    },
    "r": {
     "delete_cmd_postfix": ") ",
     "delete_cmd_prefix": "rm(",
     "library": "var_list.r",
     "varRefreshCmd": "cat(var_dic_list()) "
    }
   },
   "types_to_exclude": [
    "module",
    "function",
    "builtin_function_or_method",
    "instance",
    "_Feature"
   ],
   "window_display": false
  }
 },
 "nbformat": 4,
 "nbformat_minor": 5
}
